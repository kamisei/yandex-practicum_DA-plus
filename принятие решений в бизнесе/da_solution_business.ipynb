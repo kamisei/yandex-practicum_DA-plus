{
 "cells": [
  {
   "cell_type": "markdown",
   "id": "8a5a0688",
   "metadata": {},
   "source": [
    "# Принятие решений в бизнесе"
   ]
  },
  {
   "cell_type": "markdown",
   "id": "743eb818",
   "metadata": {},
   "source": [
    "__КОНТЕКСТ ПРОЕКТА:__  \n",
    "Как аналитику крупного интернет-магазина - необходимо приоритизировать гипотезы для увеличения выручки, подготовленные вместе с отделом маркетинга.\n",
    "Затем нужно запустить A/B-тест и проанализировать его результаты. "
   ]
  },
  {
   "cell_type": "markdown",
   "id": "d82a4b4a",
   "metadata": {},
   "source": [
    "__ЦЕЛИ И ЗАДАЧИ ИССЛЕДОВАНИЯ:__  \n",
    "1. Проанализировать гипотезы\n",
    "    - приоритизировать гипотезы с помощью фреймворка ICE\n",
    "    - приоритизировать гипотезы с помощью фреймворка RICE\n",
    "    - сравнить и пояснить результаты\n",
    "2. Проанализировать результаты А/В тестирования\n",
    "    - построить графики куиулятивной выручки, среднего чека и количества заказа по группам\n",
    "    - построить график относительного изменения кумулятивного среднего чека группы В относительно группы А\n",
    "    - построить точечные графики количества и стоимости заказов\n",
    "    - рассчитать 95-й и 99-й перцентили количества и стоимости заказов\n",
    "    - посчитать статистические значимости различий в среднем чеке и в среднем количестве заказов по сырым и по очищенным данным\n",
    "    - принять решение по результатам тестирования"
   ]
  },
  {
   "cell_type": "markdown",
   "id": "922c51e2",
   "metadata": {},
   "source": [
    "__ИСХОДНЫЕ ДАННЫЕ:__  \n",
    "\n",
    "__Структура hypothesis.csv:__\n",
    "- `Hypothesis` — краткое описание гипотезы;\n",
    "- `Reach` — охват пользователей по 10-балльной шкале;\n",
    "- `Impact` — влияние на пользователей по 10-балльной шкале;\n",
    "- `Confidence` — уверенность в гипотезе по 10-балльной шкале;\n",
    "- `Efforts` — затраты ресурсов на проверку гипотезы по 10-балльной шкале. Чем больше значение Efforts, тем дороже проверка гипотезы.\n",
    "\n",
    "__Структура orders.csv:__\n",
    "- `transactionId` — идентификатор заказа;\n",
    "- `visitorId` — идентификатор пользователя, совершившего заказ;\n",
    "- `date` — дата, когда был совершён заказ;\n",
    "- `revenue` — выручка заказа;\n",
    "- `group` — группа A/B-теста, в которую попал заказ. \n",
    "\n",
    "__Структура visitors.csv:__\n",
    "- `date` — дата;\n",
    "- `group` — группа A/B-теста;\n",
    "- `visitors` — количество пользователей в указанную дату в указанной группе A/B-теста"
   ]
  },
  {
   "cell_type": "markdown",
   "id": "64ea2302",
   "metadata": {},
   "source": [
    "__ПЛАН ПРОЕКТА:__\n",
    "1. Изучить исходные данные.\n",
    "2. Сделать необходимую предобработку.\n",
    "3. Проанализровать гипотезы с помощью фреймворков ICE и RICE.\n",
    "4. Построить необходимые графики по группам.\n",
    "5. Рассчитать перцентили.\n",
    "6. Посчитать статистические значимости по сырым и очищенным данным.\n",
    "7. Принять решение относительно А/В тестирования (остановить или продолжить.\n",
    "8. Написать общие выводы по результатам работы."
   ]
  },
  {
   "cell_type": "markdown",
   "id": "a6b22f00",
   "metadata": {},
   "source": [
    "## Загрузка и настройка библиотек"
   ]
  },
  {
   "cell_type": "code",
   "execution_count": 1,
   "id": "ad9d218f",
   "metadata": {},
   "outputs": [],
   "source": [
    "# импорт и настройка библиотек\n",
    "import pandas as pd\n",
    "import datetime as dt\n",
    "import numpy as np\n",
    "import scipy.stats as stats\n",
    "import matplotlib.pyplot as plt\n",
    "import warnings\n",
    "\n",
    "plt.rcParams[\"figure.figsize\"] = (12,6)\n",
    "# сброс ограничений на число столбцов\n",
    "pd.set_option('display.max_columns', None)\n",
    "# сброс предупреждений\n",
    "warnings.filterwarnings('ignore')\n",
    "# настройка полного отображения в ячейках\n",
    "pd.set_option('max_colwidth', -1)\n",
    "# настройка размера шрифта для графиков\n",
    "plt.rcParams.update({'font.size': 15})"
   ]
  },
  {
   "cell_type": "markdown",
   "id": "9481c477",
   "metadata": {},
   "source": [
    "Для загрузки и первичного знакомства с данным создадим функции."
   ]
  },
  {
   "cell_type": "code",
   "execution_count": 2,
   "id": "306a6c0e",
   "metadata": {},
   "outputs": [],
   "source": [
    "# создание функции\n",
    "def def_info(df, rc=1, d=1, i=1, c=1, s=1):\n",
    "    \n",
    "    # описание функции и фрагмент для вывода: print(def_info.__doc__)\n",
    "    \"\"\"\n",
    "    Эта функция выводит информацию о датафрейме:\n",
    "    - количество строк и столбцов (в том числе пустых)\n",
    "    - информация о дубликатах\n",
    "    - сводная информация (аналог info)\n",
    "    - названия столбцов\n",
    "    - пример(ы) строк(и) датафрейма (можно указать количество)\n",
    "    \n",
    "    Принимает на вход:\n",
    "    - `df` - датафрейм\n",
    "    - `rc` - определяет вывод информации о количестве строк и столбцов (1 или 0)\n",
    "    - `d` - определяет вывод информации о дубликатах (1 или 0)\n",
    "    - `i` - определяет вывод сводной информации (1 или 0)\n",
    "    - `c` - определяет вывод информации о названиях столбцов (1 или 0)\n",
    "    - `s` - определяет вывод примера строки (значения больше 0 выводят указанное количество строк)\n",
    "    \n",
    "    Если указать только датафрейм, будет выведено всё.\n",
    "\n",
    "    \"\"\"\n",
    "    \n",
    "# получение и вывод информации о количестве строк и столбцов\n",
    "    if rc == 1:\n",
    "        empty_rows = (df.isna().all(axis=1)).sum()\n",
    "        empty_rows_per = (df.isna().all(axis=1)).mean()\n",
    "        empty_cols = (df.isna().all(axis=0)).sum()\n",
    "        empty_cols_per = (df.isna().all(axis=0)).mean()\n",
    "        print(f\"- количество строк: {df.shape[0]}, \\\n",
    "              полностью пустых - {empty_rows} ({empty_rows_per:.0%})\")\n",
    "        print(f\"- количество столбцов: {df.shape[1]}, \\\n",
    "              полностью пустых - {empty_cols} ({empty_cols_per:.0%})\")\n",
    "    \n",
    "# создание таблицы для вывода сводной информации (аналог info(),\n",
    "# но с указанием количества и доли пропусков для каждого столбца)    \n",
    "    if i == 1:\n",
    "        data_info = df.notnull().sum().to_frame(name='данные')\n",
    "        data_info['пропуски'] = df.isnull().sum()\n",
    "        data_info['% пропусков'] = round((df.isnull().sum() / len(df)), 2)\n",
    "        data_info['тип данных'] = df.dtypes\n",
    "\n",
    "# вывод таблицы с цветовой индикацией количества данных и пропусков\n",
    "        display(data_info.style\n",
    "            .format({'% пропусков': '{:.0%}'})\n",
    "            .set_caption('сводная информация')\n",
    "            .bar(subset=['данные'], color='lightgreen')\n",
    "            .applymap(lambda x: 'background-color: peachpuff' if x > 0 else '' if x == 0 else '',\n",
    "                      subset=['пропуски'])\n",
    "            .bar(subset=['% пропусков'], color='coral')\n",
    "            .set_table_styles([{'selector': 'caption', \n",
    "                                'props': [('color', 'coral'), ('font-size', '14px')]\n",
    "                               }])\n",
    "           )\n",
    "\n",
    "# получение и вывод информации о количестве полных дубликатов\n",
    "    if d == 1:\n",
    "        duplicates = df.duplicated()\n",
    "        num_duplicates = duplicates.sum()\n",
    "        if num_duplicates == 0:\n",
    "            print('Полных дубликатов нет')\n",
    "        else:\n",
    "            print('\\033[1m\\033[38;5;209m\\nдубликаты\\033[0m')    \n",
    "            print('Количество полных дубликатов:', num_duplicates)\n",
    "            \n",
    "# вывод названий столбцов\n",
    "    if c == 1:\n",
    "        print('\\033[1m\\033[38;5;209m\\nстолбцы\\033[0m')\n",
    "        print(df.columns.tolist())\n",
    "        \n",
    "# вывод нескольких строк для примера (можно указать количество)\n",
    "    if s > 0:\n",
    "        print('\\033[1m\\033[38;5;209m\\nпример строк(и)\\033[0m')\n",
    "        display(df.sample(s))"
   ]
  },
  {
   "cell_type": "code",
   "execution_count": 3,
   "id": "5cd16d34",
   "metadata": {},
   "outputs": [],
   "source": [
    "# создание функции\n",
    "def def_load_data(df_name, file_name, file_type, path=None, name=None, sep=None, sheet_name=0, header=0):\n",
    "\n",
    "    # описание функции и фрагмент для вывода: print(def_load_data.__doc__)\n",
    "    \"\"\"\n",
    "    Эта функция загружает данные из файла (csv или excel) и преобразует их в датафрейм для работы.\n",
    "    Затем выводит основную информацию по файлу с помощью функции def_info\n",
    "    Принимает на вход:\n",
    "    - `df_name` - название создаваемого датафрейма\n",
    "    - `file_name` - название загружаемого файла\n",
    "    - `file_type` - тип загружаемого файла\n",
    "    - `path` - путь к файлу (если файл находится в другой директории)\n",
    "    - `name` - название таблицы для читателя, поясняющее содержимое файла\n",
    "    - `sep` - разделитель для csv файла\n",
    "    - `sheet_name` - имя листа в excel файле\n",
    "    - `header` - номер строки, которую нужно использовать в качестве заголовка таблицы\n",
    "    Обязательными являются только первые 3 параметра, остальные используются при необходимости.\n",
    "\n",
    "    \"\"\"\n",
    "    \n",
    "    # вывод информации об источнике\n",
    "    print(\n",
    "        '\\033[1m\\033[38;5;209mИСТОЧНИК\\n{} - {}\\033[0m'.format(file_name, name))\n",
    "    \n",
    "    # загрузка из источника определённого типа в датафрейм       \n",
    "    if file_type == 'xls' or file_type == 'xlsx':\n",
    "        try:\n",
    "            df = pd.read_excel(path, sheet_name=sheet_name, header=header)\n",
    "        except:\n",
    "            df = pd.read_excel(file_name, sheet_name=sheet_name, header=header)\n",
    "    elif file_type == 'csv':\n",
    "        try:\n",
    "            df = pd.read_csv(path, sep=sep)\n",
    "        except:\n",
    "            df = pd.read_csv(file_name, sep=sep)\n",
    "    else:\n",
    "        print('Тип файла не распознан')\n",
    "        return\n",
    "    globals()[df_name] = df\n",
    "        \n",
    "    # вывод информации о созданном датафрейме с помощью функции\n",
    "    def_info(df, i=1, s=1, d=1, c=1)"
   ]
  },
  {
   "cell_type": "markdown",
   "id": "f2484be8",
   "metadata": {},
   "source": [
    "## Загрузка, обзор данных и предобработка"
   ]
  },
  {
   "cell_type": "markdown",
   "id": "138151ab",
   "metadata": {},
   "source": [
    "С помощью функции загрузим все таблицы."
   ]
  },
  {
   "cell_type": "code",
   "execution_count": 4,
   "id": "b17424f9",
   "metadata": {},
   "outputs": [
    {
     "name": "stdout",
     "output_type": "stream",
     "text": [
      "\u001b[1m\u001b[38;5;209mИСТОЧНИК\n",
      "hypothesis.csv - гипотезы\u001b[0m\n",
      "- количество строк: 9,               полностью пустых - 0 (0%)\n",
      "- количество столбцов: 5,               полностью пустых - 0 (0%)\n"
     ]
    },
    {
     "data": {
      "text/html": [
       "<style type=\"text/css\">\n",
       "#T_76b0e caption {\n",
       "  color: coral;\n",
       "  font-size: 14px;\n",
       "}\n",
       "#T_76b0e_row0_col0, #T_76b0e_row1_col0, #T_76b0e_row2_col0, #T_76b0e_row3_col0, #T_76b0e_row4_col0 {\n",
       "  width: 10em;\n",
       "  background: linear-gradient(90deg, lightgreen 100.0%, transparent 100.0%);\n",
       "}\n",
       "#T_76b0e_row0_col2, #T_76b0e_row1_col2, #T_76b0e_row2_col2, #T_76b0e_row3_col2, #T_76b0e_row4_col2 {\n",
       "  width: 10em;\n",
       "}\n",
       "</style>\n",
       "<table id=\"T_76b0e\">\n",
       "  <caption>сводная информация</caption>\n",
       "  <thead>\n",
       "    <tr>\n",
       "      <th class=\"blank level0\" >&nbsp;</th>\n",
       "      <th id=\"T_76b0e_level0_col0\" class=\"col_heading level0 col0\" >данные</th>\n",
       "      <th id=\"T_76b0e_level0_col1\" class=\"col_heading level0 col1\" >пропуски</th>\n",
       "      <th id=\"T_76b0e_level0_col2\" class=\"col_heading level0 col2\" >% пропусков</th>\n",
       "      <th id=\"T_76b0e_level0_col3\" class=\"col_heading level0 col3\" >тип данных</th>\n",
       "    </tr>\n",
       "  </thead>\n",
       "  <tbody>\n",
       "    <tr>\n",
       "      <th id=\"T_76b0e_level0_row0\" class=\"row_heading level0 row0\" >Hypothesis</th>\n",
       "      <td id=\"T_76b0e_row0_col0\" class=\"data row0 col0\" >9</td>\n",
       "      <td id=\"T_76b0e_row0_col1\" class=\"data row0 col1\" >0</td>\n",
       "      <td id=\"T_76b0e_row0_col2\" class=\"data row0 col2\" >0%</td>\n",
       "      <td id=\"T_76b0e_row0_col3\" class=\"data row0 col3\" >object</td>\n",
       "    </tr>\n",
       "    <tr>\n",
       "      <th id=\"T_76b0e_level0_row1\" class=\"row_heading level0 row1\" >Reach</th>\n",
       "      <td id=\"T_76b0e_row1_col0\" class=\"data row1 col0\" >9</td>\n",
       "      <td id=\"T_76b0e_row1_col1\" class=\"data row1 col1\" >0</td>\n",
       "      <td id=\"T_76b0e_row1_col2\" class=\"data row1 col2\" >0%</td>\n",
       "      <td id=\"T_76b0e_row1_col3\" class=\"data row1 col3\" >int64</td>\n",
       "    </tr>\n",
       "    <tr>\n",
       "      <th id=\"T_76b0e_level0_row2\" class=\"row_heading level0 row2\" >Impact</th>\n",
       "      <td id=\"T_76b0e_row2_col0\" class=\"data row2 col0\" >9</td>\n",
       "      <td id=\"T_76b0e_row2_col1\" class=\"data row2 col1\" >0</td>\n",
       "      <td id=\"T_76b0e_row2_col2\" class=\"data row2 col2\" >0%</td>\n",
       "      <td id=\"T_76b0e_row2_col3\" class=\"data row2 col3\" >int64</td>\n",
       "    </tr>\n",
       "    <tr>\n",
       "      <th id=\"T_76b0e_level0_row3\" class=\"row_heading level0 row3\" >Confidence</th>\n",
       "      <td id=\"T_76b0e_row3_col0\" class=\"data row3 col0\" >9</td>\n",
       "      <td id=\"T_76b0e_row3_col1\" class=\"data row3 col1\" >0</td>\n",
       "      <td id=\"T_76b0e_row3_col2\" class=\"data row3 col2\" >0%</td>\n",
       "      <td id=\"T_76b0e_row3_col3\" class=\"data row3 col3\" >int64</td>\n",
       "    </tr>\n",
       "    <tr>\n",
       "      <th id=\"T_76b0e_level0_row4\" class=\"row_heading level0 row4\" >Efforts</th>\n",
       "      <td id=\"T_76b0e_row4_col0\" class=\"data row4 col0\" >9</td>\n",
       "      <td id=\"T_76b0e_row4_col1\" class=\"data row4 col1\" >0</td>\n",
       "      <td id=\"T_76b0e_row4_col2\" class=\"data row4 col2\" >0%</td>\n",
       "      <td id=\"T_76b0e_row4_col3\" class=\"data row4 col3\" >int64</td>\n",
       "    </tr>\n",
       "  </tbody>\n",
       "</table>\n"
      ],
      "text/plain": [
       "<pandas.io.formats.style.Styler at 0x7fef38535fd0>"
      ]
     },
     "metadata": {},
     "output_type": "display_data"
    },
    {
     "name": "stdout",
     "output_type": "stream",
     "text": [
      "Полных дубликатов нет\n",
      "\u001b[1m\u001b[38;5;209m\n",
      "столбцы\u001b[0m\n",
      "['Hypothesis', 'Reach', 'Impact', 'Confidence', 'Efforts']\n",
      "\u001b[1m\u001b[38;5;209m\n",
      "пример строк(и)\u001b[0m\n"
     ]
    },
    {
     "data": {
      "text/html": [
       "<div>\n",
       "<style scoped>\n",
       "    .dataframe tbody tr th:only-of-type {\n",
       "        vertical-align: middle;\n",
       "    }\n",
       "\n",
       "    .dataframe tbody tr th {\n",
       "        vertical-align: top;\n",
       "    }\n",
       "\n",
       "    .dataframe thead th {\n",
       "        text-align: right;\n",
       "    }\n",
       "</style>\n",
       "<table border=\"1\" class=\"dataframe\">\n",
       "  <thead>\n",
       "    <tr style=\"text-align: right;\">\n",
       "      <th></th>\n",
       "      <th>Hypothesis</th>\n",
       "      <th>Reach</th>\n",
       "      <th>Impact</th>\n",
       "      <th>Confidence</th>\n",
       "      <th>Efforts</th>\n",
       "    </tr>\n",
       "  </thead>\n",
       "  <tbody>\n",
       "    <tr>\n",
       "      <th>1</th>\n",
       "      <td>Запустить собственную службу доставки, что сократит срок доставки заказов</td>\n",
       "      <td>2</td>\n",
       "      <td>5</td>\n",
       "      <td>4</td>\n",
       "      <td>10</td>\n",
       "    </tr>\n",
       "  </tbody>\n",
       "</table>\n",
       "</div>"
      ],
      "text/plain": [
       "                                                                  Hypothesis  \\\n",
       "1  Запустить собственную службу доставки, что сократит срок доставки заказов   \n",
       "\n",
       "   Reach  Impact  Confidence  Efforts  \n",
       "1  2      5       4           10       "
      ]
     },
     "metadata": {},
     "output_type": "display_data"
    }
   ],
   "source": [
    "# загрузка данных с помощью функции\n",
    "def_load_data('df_hypothesis', 'hypothesis.csv', 'csv',\n",
    "              path='/datasets/hypothesis.csv',\n",
    "              name='гипотезы')"
   ]
  },
  {
   "cell_type": "code",
   "execution_count": 5,
   "id": "6ff68e72",
   "metadata": {},
   "outputs": [
    {
     "name": "stdout",
     "output_type": "stream",
     "text": [
      "\u001b[1m\u001b[38;5;209mИСТОЧНИК\n",
      "orders.csv - заказы\u001b[0m\n",
      "- количество строк: 1197,               полностью пустых - 0 (0%)\n",
      "- количество столбцов: 5,               полностью пустых - 0 (0%)\n"
     ]
    },
    {
     "data": {
      "text/html": [
       "<style type=\"text/css\">\n",
       "#T_5ff2b caption {\n",
       "  color: coral;\n",
       "  font-size: 14px;\n",
       "}\n",
       "#T_5ff2b_row0_col0, #T_5ff2b_row1_col0, #T_5ff2b_row2_col0, #T_5ff2b_row3_col0, #T_5ff2b_row4_col0 {\n",
       "  width: 10em;\n",
       "  background: linear-gradient(90deg, lightgreen 100.0%, transparent 100.0%);\n",
       "}\n",
       "#T_5ff2b_row0_col2, #T_5ff2b_row1_col2, #T_5ff2b_row2_col2, #T_5ff2b_row3_col2, #T_5ff2b_row4_col2 {\n",
       "  width: 10em;\n",
       "}\n",
       "</style>\n",
       "<table id=\"T_5ff2b\">\n",
       "  <caption>сводная информация</caption>\n",
       "  <thead>\n",
       "    <tr>\n",
       "      <th class=\"blank level0\" >&nbsp;</th>\n",
       "      <th id=\"T_5ff2b_level0_col0\" class=\"col_heading level0 col0\" >данные</th>\n",
       "      <th id=\"T_5ff2b_level0_col1\" class=\"col_heading level0 col1\" >пропуски</th>\n",
       "      <th id=\"T_5ff2b_level0_col2\" class=\"col_heading level0 col2\" >% пропусков</th>\n",
       "      <th id=\"T_5ff2b_level0_col3\" class=\"col_heading level0 col3\" >тип данных</th>\n",
       "    </tr>\n",
       "  </thead>\n",
       "  <tbody>\n",
       "    <tr>\n",
       "      <th id=\"T_5ff2b_level0_row0\" class=\"row_heading level0 row0\" >transactionId</th>\n",
       "      <td id=\"T_5ff2b_row0_col0\" class=\"data row0 col0\" >1197</td>\n",
       "      <td id=\"T_5ff2b_row0_col1\" class=\"data row0 col1\" >0</td>\n",
       "      <td id=\"T_5ff2b_row0_col2\" class=\"data row0 col2\" >0%</td>\n",
       "      <td id=\"T_5ff2b_row0_col3\" class=\"data row0 col3\" >int64</td>\n",
       "    </tr>\n",
       "    <tr>\n",
       "      <th id=\"T_5ff2b_level0_row1\" class=\"row_heading level0 row1\" >visitorId</th>\n",
       "      <td id=\"T_5ff2b_row1_col0\" class=\"data row1 col0\" >1197</td>\n",
       "      <td id=\"T_5ff2b_row1_col1\" class=\"data row1 col1\" >0</td>\n",
       "      <td id=\"T_5ff2b_row1_col2\" class=\"data row1 col2\" >0%</td>\n",
       "      <td id=\"T_5ff2b_row1_col3\" class=\"data row1 col3\" >int64</td>\n",
       "    </tr>\n",
       "    <tr>\n",
       "      <th id=\"T_5ff2b_level0_row2\" class=\"row_heading level0 row2\" >date</th>\n",
       "      <td id=\"T_5ff2b_row2_col0\" class=\"data row2 col0\" >1197</td>\n",
       "      <td id=\"T_5ff2b_row2_col1\" class=\"data row2 col1\" >0</td>\n",
       "      <td id=\"T_5ff2b_row2_col2\" class=\"data row2 col2\" >0%</td>\n",
       "      <td id=\"T_5ff2b_row2_col3\" class=\"data row2 col3\" >object</td>\n",
       "    </tr>\n",
       "    <tr>\n",
       "      <th id=\"T_5ff2b_level0_row3\" class=\"row_heading level0 row3\" >revenue</th>\n",
       "      <td id=\"T_5ff2b_row3_col0\" class=\"data row3 col0\" >1197</td>\n",
       "      <td id=\"T_5ff2b_row3_col1\" class=\"data row3 col1\" >0</td>\n",
       "      <td id=\"T_5ff2b_row3_col2\" class=\"data row3 col2\" >0%</td>\n",
       "      <td id=\"T_5ff2b_row3_col3\" class=\"data row3 col3\" >int64</td>\n",
       "    </tr>\n",
       "    <tr>\n",
       "      <th id=\"T_5ff2b_level0_row4\" class=\"row_heading level0 row4\" >group</th>\n",
       "      <td id=\"T_5ff2b_row4_col0\" class=\"data row4 col0\" >1197</td>\n",
       "      <td id=\"T_5ff2b_row4_col1\" class=\"data row4 col1\" >0</td>\n",
       "      <td id=\"T_5ff2b_row4_col2\" class=\"data row4 col2\" >0%</td>\n",
       "      <td id=\"T_5ff2b_row4_col3\" class=\"data row4 col3\" >object</td>\n",
       "    </tr>\n",
       "  </tbody>\n",
       "</table>\n"
      ],
      "text/plain": [
       "<pandas.io.formats.style.Styler at 0x7fef6853ee20>"
      ]
     },
     "metadata": {},
     "output_type": "display_data"
    },
    {
     "name": "stdout",
     "output_type": "stream",
     "text": [
      "Полных дубликатов нет\n",
      "\u001b[1m\u001b[38;5;209m\n",
      "столбцы\u001b[0m\n",
      "['transactionId', 'visitorId', 'date', 'revenue', 'group']\n",
      "\u001b[1m\u001b[38;5;209m\n",
      "пример строк(и)\u001b[0m\n"
     ]
    },
    {
     "data": {
      "text/html": [
       "<div>\n",
       "<style scoped>\n",
       "    .dataframe tbody tr th:only-of-type {\n",
       "        vertical-align: middle;\n",
       "    }\n",
       "\n",
       "    .dataframe tbody tr th {\n",
       "        vertical-align: top;\n",
       "    }\n",
       "\n",
       "    .dataframe thead th {\n",
       "        text-align: right;\n",
       "    }\n",
       "</style>\n",
       "<table border=\"1\" class=\"dataframe\">\n",
       "  <thead>\n",
       "    <tr style=\"text-align: right;\">\n",
       "      <th></th>\n",
       "      <th>transactionId</th>\n",
       "      <th>visitorId</th>\n",
       "      <th>date</th>\n",
       "      <th>revenue</th>\n",
       "      <th>group</th>\n",
       "    </tr>\n",
       "  </thead>\n",
       "  <tbody>\n",
       "    <tr>\n",
       "      <th>41</th>\n",
       "      <td>2594268419</td>\n",
       "      <td>237748145</td>\n",
       "      <td>2019-08-15</td>\n",
       "      <td>1090</td>\n",
       "      <td>A</td>\n",
       "    </tr>\n",
       "  </tbody>\n",
       "</table>\n",
       "</div>"
      ],
      "text/plain": [
       "    transactionId  visitorId        date  revenue group\n",
       "41  2594268419     237748145  2019-08-15  1090     A   "
      ]
     },
     "metadata": {},
     "output_type": "display_data"
    }
   ],
   "source": [
    "# загрузка данных с помощью функции\n",
    "def_load_data('df_orders', 'orders.csv', 'csv',\n",
    "              path='/datasets/orders.csv',\n",
    "              name='заказы')"
   ]
  },
  {
   "cell_type": "code",
   "execution_count": 6,
   "id": "d9b6717e",
   "metadata": {},
   "outputs": [
    {
     "name": "stdout",
     "output_type": "stream",
     "text": [
      "\u001b[1m\u001b[38;5;209mИСТОЧНИК\n",
      "visitors.csv - пользователи\u001b[0m\n",
      "- количество строк: 62,               полностью пустых - 0 (0%)\n",
      "- количество столбцов: 3,               полностью пустых - 0 (0%)\n"
     ]
    },
    {
     "data": {
      "text/html": [
       "<style type=\"text/css\">\n",
       "#T_6f1c2 caption {\n",
       "  color: coral;\n",
       "  font-size: 14px;\n",
       "}\n",
       "#T_6f1c2_row0_col0, #T_6f1c2_row1_col0, #T_6f1c2_row2_col0 {\n",
       "  width: 10em;\n",
       "  background: linear-gradient(90deg, lightgreen 100.0%, transparent 100.0%);\n",
       "}\n",
       "#T_6f1c2_row0_col2, #T_6f1c2_row1_col2, #T_6f1c2_row2_col2 {\n",
       "  width: 10em;\n",
       "}\n",
       "</style>\n",
       "<table id=\"T_6f1c2\">\n",
       "  <caption>сводная информация</caption>\n",
       "  <thead>\n",
       "    <tr>\n",
       "      <th class=\"blank level0\" >&nbsp;</th>\n",
       "      <th id=\"T_6f1c2_level0_col0\" class=\"col_heading level0 col0\" >данные</th>\n",
       "      <th id=\"T_6f1c2_level0_col1\" class=\"col_heading level0 col1\" >пропуски</th>\n",
       "      <th id=\"T_6f1c2_level0_col2\" class=\"col_heading level0 col2\" >% пропусков</th>\n",
       "      <th id=\"T_6f1c2_level0_col3\" class=\"col_heading level0 col3\" >тип данных</th>\n",
       "    </tr>\n",
       "  </thead>\n",
       "  <tbody>\n",
       "    <tr>\n",
       "      <th id=\"T_6f1c2_level0_row0\" class=\"row_heading level0 row0\" >date</th>\n",
       "      <td id=\"T_6f1c2_row0_col0\" class=\"data row0 col0\" >62</td>\n",
       "      <td id=\"T_6f1c2_row0_col1\" class=\"data row0 col1\" >0</td>\n",
       "      <td id=\"T_6f1c2_row0_col2\" class=\"data row0 col2\" >0%</td>\n",
       "      <td id=\"T_6f1c2_row0_col3\" class=\"data row0 col3\" >object</td>\n",
       "    </tr>\n",
       "    <tr>\n",
       "      <th id=\"T_6f1c2_level0_row1\" class=\"row_heading level0 row1\" >group</th>\n",
       "      <td id=\"T_6f1c2_row1_col0\" class=\"data row1 col0\" >62</td>\n",
       "      <td id=\"T_6f1c2_row1_col1\" class=\"data row1 col1\" >0</td>\n",
       "      <td id=\"T_6f1c2_row1_col2\" class=\"data row1 col2\" >0%</td>\n",
       "      <td id=\"T_6f1c2_row1_col3\" class=\"data row1 col3\" >object</td>\n",
       "    </tr>\n",
       "    <tr>\n",
       "      <th id=\"T_6f1c2_level0_row2\" class=\"row_heading level0 row2\" >visitors</th>\n",
       "      <td id=\"T_6f1c2_row2_col0\" class=\"data row2 col0\" >62</td>\n",
       "      <td id=\"T_6f1c2_row2_col1\" class=\"data row2 col1\" >0</td>\n",
       "      <td id=\"T_6f1c2_row2_col2\" class=\"data row2 col2\" >0%</td>\n",
       "      <td id=\"T_6f1c2_row2_col3\" class=\"data row2 col3\" >int64</td>\n",
       "    </tr>\n",
       "  </tbody>\n",
       "</table>\n"
      ],
      "text/plain": [
       "<pandas.io.formats.style.Styler at 0x7fef09da9250>"
      ]
     },
     "metadata": {},
     "output_type": "display_data"
    },
    {
     "name": "stdout",
     "output_type": "stream",
     "text": [
      "Полных дубликатов нет\n",
      "\u001b[1m\u001b[38;5;209m\n",
      "столбцы\u001b[0m\n",
      "['date', 'group', 'visitors']\n",
      "\u001b[1m\u001b[38;5;209m\n",
      "пример строк(и)\u001b[0m\n"
     ]
    },
    {
     "data": {
      "text/html": [
       "<div>\n",
       "<style scoped>\n",
       "    .dataframe tbody tr th:only-of-type {\n",
       "        vertical-align: middle;\n",
       "    }\n",
       "\n",
       "    .dataframe tbody tr th {\n",
       "        vertical-align: top;\n",
       "    }\n",
       "\n",
       "    .dataframe thead th {\n",
       "        text-align: right;\n",
       "    }\n",
       "</style>\n",
       "<table border=\"1\" class=\"dataframe\">\n",
       "  <thead>\n",
       "    <tr style=\"text-align: right;\">\n",
       "      <th></th>\n",
       "      <th>date</th>\n",
       "      <th>group</th>\n",
       "      <th>visitors</th>\n",
       "    </tr>\n",
       "  </thead>\n",
       "  <tbody>\n",
       "    <tr>\n",
       "      <th>61</th>\n",
       "      <td>2019-08-31</td>\n",
       "      <td>B</td>\n",
       "      <td>718</td>\n",
       "    </tr>\n",
       "  </tbody>\n",
       "</table>\n",
       "</div>"
      ],
      "text/plain": [
       "          date group  visitors\n",
       "61  2019-08-31  B     718     "
      ]
     },
     "metadata": {},
     "output_type": "display_data"
    }
   ],
   "source": [
    "# загрузка данных с помощью функции\n",
    "def_load_data('df_visitors', 'visitors.csv', 'csv',\n",
    "              path='/datasets/visitors.csv',\n",
    "              name='пользователи')"
   ]
  },
  {
   "cell_type": "markdown",
   "id": "c36394a4",
   "metadata": {},
   "source": [
    "Пропусков и полных дубликатов нет, но необходимо поменять названия столбцов - привести их к \"хорошему\" стилю."
   ]
  },
  {
   "cell_type": "code",
   "execution_count": 7,
   "id": "fbd087cf",
   "metadata": {},
   "outputs": [],
   "source": [
    "# приведение названий столбцов к нижнему регистру\n",
    "df_hypothesis.columns = df_hypothesis.columns.str.lower()\n",
    "\n",
    "# приведение названий столбцов к змеиному стилю\n",
    "df_orders = df_orders.rename(columns={'transactionId': 'transaction_id', 'visitorId': 'visitor_id'})"
   ]
  },
  {
   "cell_type": "code",
   "execution_count": 8,
   "id": "5e927375",
   "metadata": {},
   "outputs": [
    {
     "name": "stdout",
     "output_type": "stream",
     "text": [
      "Index(['hypothesis', 'reach', 'impact', 'confidence', 'efforts'], dtype='object')\n",
      "Index(['transaction_id', 'visitor_id', 'date', 'revenue', 'group'], dtype='object')\n"
     ]
    }
   ],
   "source": [
    "# проверка\n",
    "print(df_hypothesis.columns)\n",
    "print(df_orders.columns)"
   ]
  },
  {
   "cell_type": "markdown",
   "id": "1f112764",
   "metadata": {},
   "source": [
    "Столбец с датой имеет тип `object` - поменяем на формат даты."
   ]
  },
  {
   "cell_type": "code",
   "execution_count": 9,
   "id": "c44bcea5",
   "metadata": {},
   "outputs": [
    {
     "name": "stdout",
     "output_type": "stream",
     "text": [
      "Новый тип данных в df_orders `date`: datetime64[ns]\n",
      "Новый тип данных в df_visitors `date`: datetime64[ns]\n"
     ]
    }
   ],
   "source": [
    "# изменение типа данных\n",
    "df_orders['date'] = pd.to_datetime(df_orders['date'])\n",
    "df_visitors['date'] = pd.to_datetime(df_visitors['date'])\n",
    "\n",
    "# проверка\n",
    "print('Новый тип данных в df_orders `date`:', df_orders['date'].dtype)\n",
    "print('Новый тип данных в df_visitors `date`:', df_visitors['date'].dtype)"
   ]
  },
  {
   "cell_type": "markdown",
   "id": "c3d3a628",
   "metadata": {},
   "source": [
    "Посмотрим, какой диапазон данных представлен в таблицах (узнаем длительность теста)."
   ]
  },
  {
   "cell_type": "code",
   "execution_count": 10,
   "id": "5ecdb207",
   "metadata": {},
   "outputs": [
    {
     "name": "stdout",
     "output_type": "stream",
     "text": [
      "Диапазон дат датасета df_orders: 01 August 2019 - 31 August 2019\n",
      "Диапазон дат датасета df_visitors: 01 August 2019 - 31 August 2019\n"
     ]
    }
   ],
   "source": [
    "# определение нужных дат и вывод информации\n",
    "print('Диапазон дат датасета df_orders:', \n",
    "      df_orders['date'].min().strftime('%d %B %Y'),\n",
    "      '-', df_orders['date'].max().strftime('%d %B %Y'))\n",
    "\n",
    "# определение нужных дат и вывод информации\n",
    "print('Диапазон дат датасета df_visitors:', \n",
    "      df_visitors['date'].min().strftime('%d %B %Y'),\n",
    "      '-', df_visitors['date'].max().strftime('%d %B %Y'))"
   ]
  },
  {
   "cell_type": "markdown",
   "id": "69a24e9c",
   "metadata": {},
   "source": [
    "Теперь выведем группы АВ-теста."
   ]
  },
  {
   "cell_type": "code",
   "execution_count": 11,
   "id": "1081756a",
   "metadata": {},
   "outputs": [
    {
     "name": "stdout",
     "output_type": "stream",
     "text": [
      "Группы АВ-теста (таблица df_orders): A, B\n",
      "Группы АВ-теста (таблица df_visitors): A, B\n"
     ]
    }
   ],
   "source": [
    "# вывод информации\n",
    "print('Группы АВ-теста (таблица df_orders):', ', '.join(sorted(df_orders['group'].unique())))\n",
    "print('Группы АВ-теста (таблица df_visitors):', ', '.join(sorted(df_visitors['group'].unique())))"
   ]
  },
  {
   "cell_type": "markdown",
   "id": "12edce7c",
   "metadata": {},
   "source": [
    "Определим, сколько пользователей в каждой группе и сколько в каждой группе было сделано заказов."
   ]
  },
  {
   "cell_type": "code",
   "execution_count": 12,
   "id": "1c931d5c",
   "metadata": {},
   "outputs": [
    {
     "name": "stdout",
     "output_type": "stream",
     "text": [
      "Количество уникальных пользователей (1031):\n",
      "- группа A: 503 (49%)\n",
      "- группа B: 586 (57%)\n",
      "\n",
      "Количество заказов:\n",
      "- группа A: 557\n",
      "- группа B: 640\n"
     ]
    }
   ],
   "source": [
    "# создание переменных\n",
    "unique_users = df_orders['visitor_id'].nunique()\n",
    "unique_users_A = df_orders.query('group == \"A\"')['visitor_id'].nunique()\n",
    "unique_users_B = df_orders.query('group == \"B\"')['visitor_id'].nunique()\n",
    "visitors_A = df_visitors[df_visitors['group'] == 'A']['visitors'].sum()\n",
    "visitors_B = df_visitors[df_visitors['group'] == 'B']['visitors'].sum()\n",
    "per_unique_users_A = round(unique_users_A / unique_users * 100)\n",
    "per_unique_users_B = round(unique_users_B / unique_users * 100)\n",
    "\n",
    "# вывод информации\n",
    "print(f\"Количество уникальных пользователей ({unique_users}):\")\n",
    "\n",
    "print(f\"- группа A: {unique_users_A} ({per_unique_users_A}%)\")\n",
    "\n",
    "print(f\"- группа B: {unique_users_B} ({per_unique_users_B}%)\")\n",
    "\n",
    "print('\\nКоличество заказов:')\n",
    "print('- группа A:',\n",
    "      df_orders.query('group == \"A\"')['visitor_id'].count())\n",
    "\n",
    "print('- группа B:',\n",
    "      df_orders.query('group == \"B\"')['visitor_id'].count())"
   ]
  },
  {
   "cell_type": "markdown",
   "id": "30886cfa",
   "metadata": {},
   "source": [
    "Посмотрим, есть ли пользователи, которые попали в обе группы."
   ]
  },
  {
   "cell_type": "code",
   "execution_count": 13,
   "id": "cb0ebc8b",
   "metadata": {},
   "outputs": [
    {
     "name": "stdout",
     "output_type": "stream",
     "text": [
      "Есть пользователи (58 чел.), которые попали в обе группы теста.\n",
      "Это 6% от общего числа пользователей.\n"
     ]
    }
   ],
   "source": [
    "# вычисление значений\n",
    "unique_counts = df_orders.groupby('visitor_id')[['group']].nunique(dropna=False)\n",
    "multi_unique = unique_counts.query('group > 1')\n",
    "\n",
    "# вывод количества пользователей, попавших в обе группы\n",
    "if multi_unique.empty:\n",
    "    print('Нет пользователей, которые попали в обе группы теста.')\n",
    "else:\n",
    "    print(f'Есть пользователи ({len(multi_unique)} чел.), которые попали в обе группы теста.')\n",
    "    \n",
    "# вывод доли пользователей, попавших в обе группы\n",
    "\n",
    "multi_group_users_per = round(len(multi_unique) / unique_users * 100)\n",
    "print(f\"Это {multi_group_users_per}% от общего числа пользователей.\")"
   ]
  },
  {
   "cell_type": "markdown",
   "id": "76f51840",
   "metadata": {},
   "source": [
    "Довольно немного. Оставим как есть."
   ]
  },
  {
   "cell_type": "markdown",
   "id": "fb8ce86e",
   "metadata": {},
   "source": [
    "<div style=\"border:solid green 2px; padding: 20px\">    \n",
    "Данные успешно загружены и проверены, проведена небольшая стилистическая предобработка.\n",
    "<br>Диапазон дат теста соответствует заявленному: с 1 по 31 августа 2019 года.\n",
    "<br>Определено количество пользователей в каждой группе (группа A: 503 (49%), группа B: 586 (57%)) и количество заказов (группа A: 557, группа B: 640). Найдены пользователи, попавшие в обе группы (58 человек - 6% от общего количества).\n",
    "</div>"
   ]
  },
  {
   "cell_type": "markdown",
   "id": "f82fb83c",
   "metadata": {},
   "source": [
    "## Приоритизация гипотез"
   ]
  },
  {
   "cell_type": "markdown",
   "id": "75d4ced4",
   "metadata": {},
   "source": [
    "Отдел маркетинга подготовил список из 9-ти гипотез, параметры которых оценены по шкале от 0 до 10.  \n",
    "Посмотрим на таблицу с гипотезами - так как она небольшая, выведем её полностью."
   ]
  },
  {
   "cell_type": "code",
   "execution_count": 14,
   "id": "36590daa",
   "metadata": {},
   "outputs": [
    {
     "data": {
      "text/html": [
       "<div>\n",
       "<style scoped>\n",
       "    .dataframe tbody tr th:only-of-type {\n",
       "        vertical-align: middle;\n",
       "    }\n",
       "\n",
       "    .dataframe tbody tr th {\n",
       "        vertical-align: top;\n",
       "    }\n",
       "\n",
       "    .dataframe thead th {\n",
       "        text-align: right;\n",
       "    }\n",
       "</style>\n",
       "<table border=\"1\" class=\"dataframe\">\n",
       "  <thead>\n",
       "    <tr style=\"text-align: right;\">\n",
       "      <th></th>\n",
       "      <th>hypothesis</th>\n",
       "      <th>reach</th>\n",
       "      <th>impact</th>\n",
       "      <th>confidence</th>\n",
       "      <th>efforts</th>\n",
       "    </tr>\n",
       "  </thead>\n",
       "  <tbody>\n",
       "    <tr>\n",
       "      <th>0</th>\n",
       "      <td>Добавить два новых канала привлечения трафика, что позволит привлекать на 30% больше пользователей</td>\n",
       "      <td>3</td>\n",
       "      <td>10</td>\n",
       "      <td>8</td>\n",
       "      <td>6</td>\n",
       "    </tr>\n",
       "    <tr>\n",
       "      <th>1</th>\n",
       "      <td>Запустить собственную службу доставки, что сократит срок доставки заказов</td>\n",
       "      <td>2</td>\n",
       "      <td>5</td>\n",
       "      <td>4</td>\n",
       "      <td>10</td>\n",
       "    </tr>\n",
       "    <tr>\n",
       "      <th>2</th>\n",
       "      <td>Добавить блоки рекомендаций товаров на сайт интернет магазина, чтобы повысить конверсию и средний чек заказа</td>\n",
       "      <td>8</td>\n",
       "      <td>3</td>\n",
       "      <td>7</td>\n",
       "      <td>3</td>\n",
       "    </tr>\n",
       "    <tr>\n",
       "      <th>3</th>\n",
       "      <td>Изменить структура категорий, что увеличит конверсию, т.к. пользователи быстрее найдут нужный товар</td>\n",
       "      <td>8</td>\n",
       "      <td>3</td>\n",
       "      <td>3</td>\n",
       "      <td>8</td>\n",
       "    </tr>\n",
       "    <tr>\n",
       "      <th>4</th>\n",
       "      <td>Изменить цвет фона главной страницы, чтобы увеличить вовлеченность пользователей</td>\n",
       "      <td>3</td>\n",
       "      <td>1</td>\n",
       "      <td>1</td>\n",
       "      <td>1</td>\n",
       "    </tr>\n",
       "    <tr>\n",
       "      <th>5</th>\n",
       "      <td>Добавить страницу отзывов клиентов о магазине, что позволит увеличить количество заказов</td>\n",
       "      <td>3</td>\n",
       "      <td>2</td>\n",
       "      <td>2</td>\n",
       "      <td>3</td>\n",
       "    </tr>\n",
       "    <tr>\n",
       "      <th>6</th>\n",
       "      <td>Показать на главной странице баннеры с актуальными акциями и распродажами, чтобы увеличить конверсию</td>\n",
       "      <td>5</td>\n",
       "      <td>3</td>\n",
       "      <td>8</td>\n",
       "      <td>3</td>\n",
       "    </tr>\n",
       "    <tr>\n",
       "      <th>7</th>\n",
       "      <td>Добавить форму подписки на все основные страницы, чтобы собрать базу клиентов для email-рассылок</td>\n",
       "      <td>10</td>\n",
       "      <td>7</td>\n",
       "      <td>8</td>\n",
       "      <td>5</td>\n",
       "    </tr>\n",
       "    <tr>\n",
       "      <th>8</th>\n",
       "      <td>Запустить акцию, дающую скидку на товар в день рождения</td>\n",
       "      <td>1</td>\n",
       "      <td>9</td>\n",
       "      <td>9</td>\n",
       "      <td>5</td>\n",
       "    </tr>\n",
       "  </tbody>\n",
       "</table>\n",
       "</div>"
      ],
      "text/plain": [
       "                                                                                                     hypothesis  \\\n",
       "0  Добавить два новых канала привлечения трафика, что позволит привлекать на 30% больше пользователей             \n",
       "1  Запустить собственную службу доставки, что сократит срок доставки заказов                                      \n",
       "2  Добавить блоки рекомендаций товаров на сайт интернет магазина, чтобы повысить конверсию и средний чек заказа   \n",
       "3  Изменить структура категорий, что увеличит конверсию, т.к. пользователи быстрее найдут нужный товар            \n",
       "4  Изменить цвет фона главной страницы, чтобы увеличить вовлеченность пользователей                               \n",
       "5  Добавить страницу отзывов клиентов о магазине, что позволит увеличить количество заказов                       \n",
       "6  Показать на главной странице баннеры с актуальными акциями и распродажами, чтобы увеличить конверсию           \n",
       "7  Добавить форму подписки на все основные страницы, чтобы собрать базу клиентов для email-рассылок               \n",
       "8  Запустить акцию, дающую скидку на товар в день рождения                                                        \n",
       "\n",
       "   reach  impact  confidence  efforts  \n",
       "0  3      10      8           6        \n",
       "1  2      5       4           10       \n",
       "2  8      3       7           3        \n",
       "3  8      3       3           8        \n",
       "4  3      1       1           1        \n",
       "5  3      2       2           3        \n",
       "6  5      3       8           3        \n",
       "7  10     7       8           5        \n",
       "8  1      9       9           5        "
      ]
     },
     "execution_count": 14,
     "metadata": {},
     "output_type": "execute_result"
    }
   ],
   "source": [
    "# вывод таблицы\n",
    "df_hypothesis"
   ]
  },
  {
   "cell_type": "markdown",
   "id": "6e9533c4",
   "metadata": {},
   "source": [
    "Все нужные данные в таблице есть - расситаем приоритетность гипотез фреймворка ICE."
   ]
  },
  {
   "cell_type": "code",
   "execution_count": 15,
   "id": "ab40d507",
   "metadata": {},
   "outputs": [
    {
     "data": {
      "text/html": [
       "<div>\n",
       "<style scoped>\n",
       "    .dataframe tbody tr th:only-of-type {\n",
       "        vertical-align: middle;\n",
       "    }\n",
       "\n",
       "    .dataframe tbody tr th {\n",
       "        vertical-align: top;\n",
       "    }\n",
       "\n",
       "    .dataframe thead th {\n",
       "        text-align: right;\n",
       "    }\n",
       "</style>\n",
       "<table border=\"1\" class=\"dataframe\">\n",
       "  <thead>\n",
       "    <tr style=\"text-align: right;\">\n",
       "      <th></th>\n",
       "      <th>hypothesis</th>\n",
       "      <th>ice</th>\n",
       "    </tr>\n",
       "  </thead>\n",
       "  <tbody>\n",
       "    <tr>\n",
       "      <th>8</th>\n",
       "      <td>Запустить акцию, дающую скидку на товар в день рождения</td>\n",
       "      <td>16.20</td>\n",
       "    </tr>\n",
       "    <tr>\n",
       "      <th>0</th>\n",
       "      <td>Добавить два новых канала привлечения трафика, что позволит привлекать на 30% больше пользователей</td>\n",
       "      <td>13.33</td>\n",
       "    </tr>\n",
       "    <tr>\n",
       "      <th>7</th>\n",
       "      <td>Добавить форму подписки на все основные страницы, чтобы собрать базу клиентов для email-рассылок</td>\n",
       "      <td>11.20</td>\n",
       "    </tr>\n",
       "    <tr>\n",
       "      <th>6</th>\n",
       "      <td>Показать на главной странице баннеры с актуальными акциями и распродажами, чтобы увеличить конверсию</td>\n",
       "      <td>8.00</td>\n",
       "    </tr>\n",
       "    <tr>\n",
       "      <th>2</th>\n",
       "      <td>Добавить блоки рекомендаций товаров на сайт интернет магазина, чтобы повысить конверсию и средний чек заказа</td>\n",
       "      <td>7.00</td>\n",
       "    </tr>\n",
       "    <tr>\n",
       "      <th>1</th>\n",
       "      <td>Запустить собственную службу доставки, что сократит срок доставки заказов</td>\n",
       "      <td>2.00</td>\n",
       "    </tr>\n",
       "    <tr>\n",
       "      <th>5</th>\n",
       "      <td>Добавить страницу отзывов клиентов о магазине, что позволит увеличить количество заказов</td>\n",
       "      <td>1.33</td>\n",
       "    </tr>\n",
       "    <tr>\n",
       "      <th>3</th>\n",
       "      <td>Изменить структура категорий, что увеличит конверсию, т.к. пользователи быстрее найдут нужный товар</td>\n",
       "      <td>1.12</td>\n",
       "    </tr>\n",
       "    <tr>\n",
       "      <th>4</th>\n",
       "      <td>Изменить цвет фона главной страницы, чтобы увеличить вовлеченность пользователей</td>\n",
       "      <td>1.00</td>\n",
       "    </tr>\n",
       "  </tbody>\n",
       "</table>\n",
       "</div>"
      ],
      "text/plain": [
       "                                                                                                     hypothesis  \\\n",
       "8  Запустить акцию, дающую скидку на товар в день рождения                                                        \n",
       "0  Добавить два новых канала привлечения трафика, что позволит привлекать на 30% больше пользователей             \n",
       "7  Добавить форму подписки на все основные страницы, чтобы собрать базу клиентов для email-рассылок               \n",
       "6  Показать на главной странице баннеры с актуальными акциями и распродажами, чтобы увеличить конверсию           \n",
       "2  Добавить блоки рекомендаций товаров на сайт интернет магазина, чтобы повысить конверсию и средний чек заказа   \n",
       "1  Запустить собственную службу доставки, что сократит срок доставки заказов                                      \n",
       "5  Добавить страницу отзывов клиентов о магазине, что позволит увеличить количество заказов                       \n",
       "3  Изменить структура категорий, что увеличит конверсию, т.к. пользователи быстрее найдут нужный товар            \n",
       "4  Изменить цвет фона главной страницы, чтобы увеличить вовлеченность пользователей                               \n",
       "\n",
       "     ice  \n",
       "8  16.20  \n",
       "0  13.33  \n",
       "7  11.20  \n",
       "6  8.00   \n",
       "2  7.00   \n",
       "1  2.00   \n",
       "5  1.33   \n",
       "3  1.12   \n",
       "4  1.00   "
      ]
     },
     "execution_count": 15,
     "metadata": {},
     "output_type": "execute_result"
    }
   ],
   "source": [
    "# добавление нового столбца с расчетом фреймворка ICE\n",
    "df_hypothesis['ice'] = df_hypothesis['impact'] * df_hypothesis['confidence'] / df_hypothesis['efforts']\n",
    "\n",
    "# вывод на экран названия гипотезы и значения ICE, отсортированные по убыванию ICE\n",
    "# и округление значений до 2 знаков после запятой\n",
    "round(df_hypothesis[['hypothesis', 'ice']].sort_values(by='ice', ascending=False), 2)"
   ]
  },
  {
   "cell_type": "markdown",
   "id": "0dd50ac6",
   "metadata": {},
   "source": [
    "По методу ICE 3 наиболее приоритетные гипотезы 8, 0 и 7 со значениями ICE 16, 13 и 11 соответственно.  \n",
    "Лидирует гипотеза 8: _\"Запустить акцию, дающую скидку на товар в день рождения\"_."
   ]
  },
  {
   "cell_type": "markdown",
   "id": "ea97b1e6",
   "metadata": {},
   "source": [
    "Теперь сделаем аналогичный расчет фреймворка RICE."
   ]
  },
  {
   "cell_type": "code",
   "execution_count": 16,
   "id": "1f3c55a3",
   "metadata": {},
   "outputs": [
    {
     "data": {
      "text/html": [
       "<div>\n",
       "<style scoped>\n",
       "    .dataframe tbody tr th:only-of-type {\n",
       "        vertical-align: middle;\n",
       "    }\n",
       "\n",
       "    .dataframe tbody tr th {\n",
       "        vertical-align: top;\n",
       "    }\n",
       "\n",
       "    .dataframe thead th {\n",
       "        text-align: right;\n",
       "    }\n",
       "</style>\n",
       "<table border=\"1\" class=\"dataframe\">\n",
       "  <thead>\n",
       "    <tr style=\"text-align: right;\">\n",
       "      <th></th>\n",
       "      <th>hypothesis</th>\n",
       "      <th>rice</th>\n",
       "    </tr>\n",
       "  </thead>\n",
       "  <tbody>\n",
       "    <tr>\n",
       "      <th>7</th>\n",
       "      <td>Добавить форму подписки на все основные страницы, чтобы собрать базу клиентов для email-рассылок</td>\n",
       "      <td>112.0</td>\n",
       "    </tr>\n",
       "    <tr>\n",
       "      <th>2</th>\n",
       "      <td>Добавить блоки рекомендаций товаров на сайт интернет магазина, чтобы повысить конверсию и средний чек заказа</td>\n",
       "      <td>56.0</td>\n",
       "    </tr>\n",
       "    <tr>\n",
       "      <th>0</th>\n",
       "      <td>Добавить два новых канала привлечения трафика, что позволит привлекать на 30% больше пользователей</td>\n",
       "      <td>40.0</td>\n",
       "    </tr>\n",
       "    <tr>\n",
       "      <th>6</th>\n",
       "      <td>Показать на главной странице баннеры с актуальными акциями и распродажами, чтобы увеличить конверсию</td>\n",
       "      <td>40.0</td>\n",
       "    </tr>\n",
       "    <tr>\n",
       "      <th>8</th>\n",
       "      <td>Запустить акцию, дающую скидку на товар в день рождения</td>\n",
       "      <td>16.2</td>\n",
       "    </tr>\n",
       "    <tr>\n",
       "      <th>3</th>\n",
       "      <td>Изменить структура категорий, что увеличит конверсию, т.к. пользователи быстрее найдут нужный товар</td>\n",
       "      <td>9.0</td>\n",
       "    </tr>\n",
       "    <tr>\n",
       "      <th>1</th>\n",
       "      <td>Запустить собственную службу доставки, что сократит срок доставки заказов</td>\n",
       "      <td>4.0</td>\n",
       "    </tr>\n",
       "    <tr>\n",
       "      <th>5</th>\n",
       "      <td>Добавить страницу отзывов клиентов о магазине, что позволит увеличить количество заказов</td>\n",
       "      <td>4.0</td>\n",
       "    </tr>\n",
       "    <tr>\n",
       "      <th>4</th>\n",
       "      <td>Изменить цвет фона главной страницы, чтобы увеличить вовлеченность пользователей</td>\n",
       "      <td>3.0</td>\n",
       "    </tr>\n",
       "  </tbody>\n",
       "</table>\n",
       "</div>"
      ],
      "text/plain": [
       "                                                                                                     hypothesis  \\\n",
       "7  Добавить форму подписки на все основные страницы, чтобы собрать базу клиентов для email-рассылок               \n",
       "2  Добавить блоки рекомендаций товаров на сайт интернет магазина, чтобы повысить конверсию и средний чек заказа   \n",
       "0  Добавить два новых канала привлечения трафика, что позволит привлекать на 30% больше пользователей             \n",
       "6  Показать на главной странице баннеры с актуальными акциями и распродажами, чтобы увеличить конверсию           \n",
       "8  Запустить акцию, дающую скидку на товар в день рождения                                                        \n",
       "3  Изменить структура категорий, что увеличит конверсию, т.к. пользователи быстрее найдут нужный товар            \n",
       "1  Запустить собственную службу доставки, что сократит срок доставки заказов                                      \n",
       "5  Добавить страницу отзывов клиентов о магазине, что позволит увеличить количество заказов                       \n",
       "4  Изменить цвет фона главной страницы, чтобы увеличить вовлеченность пользователей                               \n",
       "\n",
       "    rice  \n",
       "7  112.0  \n",
       "2  56.0   \n",
       "0  40.0   \n",
       "6  40.0   \n",
       "8  16.2   \n",
       "3  9.0    \n",
       "1  4.0    \n",
       "5  4.0    \n",
       "4  3.0    "
      ]
     },
     "execution_count": 16,
     "metadata": {},
     "output_type": "execute_result"
    }
   ],
   "source": [
    "# добавление нового столбца с расчетом фреймворка RICE\n",
    "df_hypothesis['rice'] = (\n",
    "    df_hypothesis['reach'] * df_hypothesis['impact'] \n",
    "    * df_hypothesis['confidence'] / df_hypothesis['efforts']\n",
    ")\n",
    "\n",
    "\n",
    "# вывод на экран названия гипотезы и значения RICE, отсортированные по убыванию ICE\n",
    "# и округление значений до 2 знаков после запятой\n",
    "round(df_hypothesis[['hypothesis', 'rice']].sort_values(by='rice', ascending=False), 2)"
   ]
  },
  {
   "cell_type": "markdown",
   "id": "e9fb4e32",
   "metadata": {},
   "source": [
    "Лидирующая в методе ICE гипотеза 8 уходит на 5 место. Это вполне объяснимо: в методе RICE добавляется параметр reach, учитывающий количество пользователей, которых затронет изменение. А акция на день рождения охватывает не так много пользователей.  \n",
    "В RICE первое место занимает гипотеза 7: _\"Добавить форму подписки на все основные страницы, чтобы собрать базу клиентов для email-рассылок\"_  \n",
    "  \n",
    "Гипотеза 0 удерживает хорошие позиции как в случае с ICE (2 место), так и при подсчете фреймфорка RICE (3 место). Так что эту гипотезу вполне можно рассмотреть для дальнейших тестов."
   ]
  },
  {
   "cell_type": "markdown",
   "id": "9db4c355",
   "metadata": {},
   "source": [
    "<div style=\"border:solid green 2px; padding: 20px\">    \n",
    "Согласно обоим методам, можно выделить две лидирующие гипотезы:\n",
    "<br>- гипотеза 7: \"Добавить форму подписки на все основные страницы, чтобы собрать базу клиентов для email-рассылок\",\n",
    "<br>- гипотеза 0: \"Добавить два новых канала привлечения трафика, что позволит привлекать на 30% больше пользователей\".\n",
    "</div>"
   ]
  },
  {
   "cell_type": "markdown",
   "id": "2d2cd6c9",
   "metadata": {},
   "source": [
    "## Анализ A/B-теста"
   ]
  },
  {
   "cell_type": "markdown",
   "id": "74c310d6",
   "metadata": {},
   "source": [
    "Для анализа AB-теста создадим сводную таблицу по группам, отразив все изменения кумулятивно."
   ]
  },
  {
   "cell_type": "code",
   "execution_count": 17,
   "id": "61d01b8e",
   "metadata": {},
   "outputs": [],
   "source": [
    "# создание массива уникальных пар значений дат и групп теста\n",
    "dates_grouped = df_orders[['date', 'group']].drop_duplicates()\n",
    "\n",
    "# получение агрегированных кумулятивных по дням данных о заказах \n",
    "orders_grouped = dates_grouped.apply(\n",
    "    lambda x: df_orders[\n",
    "        np.logical_and(\n",
    "            df_orders['date'] <= x['date'], df_orders['group'] == x['group']\n",
    "        )\n",
    "    ].agg(\n",
    "        {\n",
    "            'date': 'max',\n",
    "            'group': 'max',\n",
    "            'transaction_id': 'nunique',\n",
    "            'visitor_id': 'nunique',\n",
    "            'revenue': 'sum',\n",
    "        }\n",
    "    ),\n",
    "    axis=1\n",
    ").sort_values(by=['date', 'group'])"
   ]
  },
  {
   "cell_type": "code",
   "execution_count": 18,
   "id": "20af8564",
   "metadata": {},
   "outputs": [],
   "source": [
    "# получение агрегированных кумулятивных по дням данных о посетителях интернет-магазина \n",
    "visitors_grouped = dates_grouped.apply(\n",
    "    lambda x: df_visitors[\n",
    "        np.logical_and(\n",
    "            df_visitors['date'] <= x['date'], df_visitors['group'] == x['group']\n",
    "        )\n",
    "    ].agg(\n",
    "        {\n",
    "            'date': 'max', \n",
    "            'group': 'max', \n",
    "            'visitors': 'sum'\n",
    "        }\n",
    "    ),\n",
    "    axis=1,\n",
    ").sort_values(by=['date', 'group'])"
   ]
  },
  {
   "cell_type": "code",
   "execution_count": 19,
   "id": "c4abdd65",
   "metadata": {},
   "outputs": [
    {
     "data": {
      "text/html": [
       "<div>\n",
       "<style scoped>\n",
       "    .dataframe tbody tr th:only-of-type {\n",
       "        vertical-align: middle;\n",
       "    }\n",
       "\n",
       "    .dataframe tbody tr th {\n",
       "        vertical-align: top;\n",
       "    }\n",
       "\n",
       "    .dataframe thead th {\n",
       "        text-align: right;\n",
       "    }\n",
       "</style>\n",
       "<table border=\"1\" class=\"dataframe\">\n",
       "  <thead>\n",
       "    <tr style=\"text-align: right;\">\n",
       "      <th></th>\n",
       "      <th>date</th>\n",
       "      <th>group</th>\n",
       "      <th>orders</th>\n",
       "      <th>buyers</th>\n",
       "      <th>revenue</th>\n",
       "      <th>visitors</th>\n",
       "    </tr>\n",
       "  </thead>\n",
       "  <tbody>\n",
       "    <tr>\n",
       "      <th>0</th>\n",
       "      <td>2019-08-01</td>\n",
       "      <td>A</td>\n",
       "      <td>24</td>\n",
       "      <td>20</td>\n",
       "      <td>148579</td>\n",
       "      <td>719</td>\n",
       "    </tr>\n",
       "    <tr>\n",
       "      <th>1</th>\n",
       "      <td>2019-08-01</td>\n",
       "      <td>B</td>\n",
       "      <td>21</td>\n",
       "      <td>20</td>\n",
       "      <td>101217</td>\n",
       "      <td>713</td>\n",
       "    </tr>\n",
       "    <tr>\n",
       "      <th>2</th>\n",
       "      <td>2019-08-02</td>\n",
       "      <td>A</td>\n",
       "      <td>44</td>\n",
       "      <td>38</td>\n",
       "      <td>242401</td>\n",
       "      <td>1338</td>\n",
       "    </tr>\n",
       "    <tr>\n",
       "      <th>3</th>\n",
       "      <td>2019-08-02</td>\n",
       "      <td>B</td>\n",
       "      <td>45</td>\n",
       "      <td>43</td>\n",
       "      <td>266748</td>\n",
       "      <td>1294</td>\n",
       "    </tr>\n",
       "    <tr>\n",
       "      <th>4</th>\n",
       "      <td>2019-08-03</td>\n",
       "      <td>A</td>\n",
       "      <td>68</td>\n",
       "      <td>62</td>\n",
       "      <td>354874</td>\n",
       "      <td>1845</td>\n",
       "    </tr>\n",
       "    <tr>\n",
       "      <th>5</th>\n",
       "      <td>2019-08-03</td>\n",
       "      <td>B</td>\n",
       "      <td>61</td>\n",
       "      <td>59</td>\n",
       "      <td>380996</td>\n",
       "      <td>1803</td>\n",
       "    </tr>\n",
       "    <tr>\n",
       "      <th>6</th>\n",
       "      <td>2019-08-04</td>\n",
       "      <td>A</td>\n",
       "      <td>84</td>\n",
       "      <td>77</td>\n",
       "      <td>425699</td>\n",
       "      <td>2562</td>\n",
       "    </tr>\n",
       "    <tr>\n",
       "      <th>7</th>\n",
       "      <td>2019-08-04</td>\n",
       "      <td>B</td>\n",
       "      <td>78</td>\n",
       "      <td>75</td>\n",
       "      <td>489567</td>\n",
       "      <td>2573</td>\n",
       "    </tr>\n",
       "  </tbody>\n",
       "</table>\n",
       "</div>"
      ],
      "text/plain": [
       "        date group  orders  buyers  revenue  visitors\n",
       "0 2019-08-01  A     24      20      148579   719     \n",
       "1 2019-08-01  B     21      20      101217   713     \n",
       "2 2019-08-02  A     44      38      242401   1338    \n",
       "3 2019-08-02  B     45      43      266748   1294    \n",
       "4 2019-08-03  A     68      62      354874   1845    \n",
       "5 2019-08-03  B     61      59      380996   1803    \n",
       "6 2019-08-04  A     84      77      425699   2562    \n",
       "7 2019-08-04  B     78      75      489567   2573    "
      ]
     },
     "metadata": {},
     "output_type": "display_data"
    },
    {
     "name": "stdout",
     "output_type": "stream",
     "text": [
      "Диапазон дат датасета cumulative_data: 01 August 2019 - 31 August 2019\n"
     ]
    }
   ],
   "source": [
    "# объединение данных\n",
    "cumulative_data = orders_grouped.merge(\n",
    "    visitors_grouped, \n",
    "    left_on=['date', 'group'], \n",
    "    right_on=['date', 'group']\n",
    ")\n",
    "\n",
    "# переименование столбцов\n",
    "cumulative_data.columns = ['date', 'group', 'orders', 'buyers', 'revenue', 'visitors']\n",
    "\n",
    "# вывод первых 4 дней в двух группах\n",
    "display(cumulative_data.head(8))\n",
    "\n",
    "\n",
    "# проверка дат\n",
    "print('Диапазон дат датасета cumulative_data:', \n",
    "      cumulative_data['date'].min().strftime('%d %B %Y'),\n",
    "      '-', cumulative_data['date'].max().strftime('%d %B %Y'))"
   ]
  },
  {
   "cell_type": "markdown",
   "id": "06f2b5cb",
   "metadata": {},
   "source": [
    "### График кумулятивной выручки по группам"
   ]
  },
  {
   "cell_type": "markdown",
   "id": "efd74a43",
   "metadata": {},
   "source": [
    "Построим графики кумулятивной выручки по дням и группам A/B-тестирования:"
   ]
  },
  {
   "cell_type": "code",
   "execution_count": 20,
   "id": "0e6ecd25",
   "metadata": {},
   "outputs": [
    {
     "data": {
      "image/png": "[encoded data removed]",
      "text/plain": [
       "<Figure size 1152x432 with 1 Axes>"
      ]
     },
     "metadata": {
      "needs_background": "light"
     },
     "output_type": "display_data"
    }
   ],
   "source": [
    "# создание датафрейма с кумулятивным количеством заказов и кумулятивной выручкой по дням в группе А\n",
    "cumulative_revenue_a = cumulative_data.query('group==\"A\"')[['date','revenue', 'orders']]\n",
    "\n",
    "# создание датафрейма с кумулятивным количеством заказов и кумулятивной выручкой по дням в группе B\n",
    "cumulative_revenue_b = cumulative_data.query('group==\"B\"')[['date','revenue', 'orders']]\n",
    "\n",
    "# построение графика\n",
    "plt.figure(figsize=(16, 6)) \n",
    "plt.plot(cumulative_revenue_a['date'], cumulative_revenue_a['revenue'], label='A')\n",
    "plt.plot(cumulative_revenue_b['date'], cumulative_revenue_b['revenue'], label='B')\n",
    "plt.title('ГРАФИК ДИНАМИКИ КУМУЛЯТИВНОЙ ВЫРУЧКИ ПО ГРУППАМ А И В', color='red', fontsize=16) \n",
    "plt.ylabel(\"выручка, млн.\")\n",
    "plt.xticks(rotation=30)\n",
    "plt.legend();"
   ]
  },
  {
   "cell_type": "markdown",
   "id": "57b35b0d",
   "metadata": {},
   "source": [
    "<div style=\"border:solid green 2px; padding: 20px\">    \n",
    "У обеих групп стабильный рост выручки в течение всего теста. В первые дни обе группы идут примерно одинаково, но с в районе 18 августа заметен резкий скачок роста в группе В. После чего в обеих группах продолжается параллельный рост, но разница между двумя группами уже существенная.\n",
    "<br>Такой резкий скачок для группы В может быть показателем или слишком дорогих заказов или неожиданного роста количества заказов.\n",
    "</div>"
   ]
  },
  {
   "cell_type": "markdown",
   "id": "6fe04097",
   "metadata": {},
   "source": [
    "### График кумулятивного среднего чека по группам"
   ]
  },
  {
   "cell_type": "markdown",
   "id": "eded1fc5",
   "metadata": {},
   "source": [
    "Построим __графики среднего чека по группам__ — разделим кумулятивную выручку на кумулятивное число заказов:"
   ]
  },
  {
   "cell_type": "code",
   "execution_count": 21,
   "id": "40378bc7",
   "metadata": {},
   "outputs": [
    {
     "data": {
      "image/png": "[encoded data removed]",
      "text/plain": [
       "<Figure size 1152x432 with 1 Axes>"
      ]
     },
     "metadata": {
      "needs_background": "light"
     },
     "output_type": "display_data"
    }
   ],
   "source": [
    "# построение графика\n",
    "plt.figure(figsize=(16, 6)) \n",
    "plt.plot(cumulative_revenue_a['date'], \n",
    "         cumulative_revenue_a['revenue'] / cumulative_revenue_a['orders'],\n",
    "         label='A')\n",
    "\n",
    "plt.plot(cumulative_revenue_b['date'], \n",
    "         cumulative_revenue_b['revenue'] / cumulative_revenue_b['orders'], \n",
    "         label='B')\n",
    "\n",
    "plt.title('ГРАФИК ДИНАМИКИ КУМУЛЯТИВНОГО СРЕДНЕГО ЧЕКА ПО ГРУППАМ А И В', color='red', fontsize=16) \n",
    "plt.ylabel(\"выручка, млн.\")\n",
    "plt.xticks(rotation=30)\n",
    "plt.legend();"
   ]
  },
  {
   "cell_type": "markdown",
   "id": "c6cacc49",
   "metadata": {},
   "source": [
    "<div style=\"border:solid green 2px; padding: 20px\">\n",
    "На графике для группы В видим резкий скачок среднего чека (в ту же дату, что и на предыдущем графике). После чего в этой группе идёт постепенное снижение (но до конца теста средний чек группы В остаётся выше среднего чека группа А).\n",
    "<br>В группе А после максимального значения 13 августа довольно стабильный средний чек.\n",
    "</div>"
   ]
  },
  {
   "cell_type": "markdown",
   "id": "fda91efc",
   "metadata": {},
   "source": [
    "### График относительного изменения кумулятивного среднего чека группы B к группе A"
   ]
  },
  {
   "cell_type": "markdown",
   "id": "20a59b24",
   "metadata": {},
   "source": [
    "Построим график относительного изменения кумулятивного среднего чека группы B к группе A."
   ]
  },
  {
   "cell_type": "code",
   "execution_count": 22,
   "id": "20577d9e",
   "metadata": {},
   "outputs": [
    {
     "data": {
      "image/png": "[encoded data removed]",
      "text/plain": [
       "<Figure size 1152x432 with 1 Axes>"
      ]
     },
     "metadata": {
      "needs_background": "light"
     },
     "output_type": "display_data"
    }
   ],
   "source": [
    "# создание датафрейма\n",
    "cumulative_revenue_ab = cumulative_revenue_a.merge(\n",
    "    cumulative_revenue_b, \n",
    "    left_on='date', \n",
    "    right_on='date', \n",
    "    how='left', \n",
    "    suffixes=['_a', '_b']\n",
    ")\n",
    "\n",
    "# построение графика\n",
    "plt.figure(figsize=(16, 6)) \n",
    "plt.plot(cumulative_revenue_ab['date'], \n",
    "         (\n",
    "             cumulative_revenue_ab['revenue_b']/cumulative_revenue_ab['orders_b']\n",
    "         )/\n",
    "         (\n",
    "             cumulative_revenue_ab['revenue_a']/cumulative_revenue_ab['orders_a']\n",
    "         )-1\n",
    "        )\n",
    "\n",
    "plt.axhline(y=0, color='black', linestyle='--')\n",
    "plt.title('ГРАФИК ОТНОСИТЕЛЬНОГО ИЗМЕНЕНИЯ КУМУЛЯТИВНОГО СРЕДНЕГО ЧЕКА ГРУППЫ В К ГРУППЕ А',\n",
    "          color='red', fontsize=16) \n",
    "plt.ylabel(\"относительное изменение\")\n",
    "plt.xticks(rotation=30);"
   ]
  },
  {
   "cell_type": "markdown",
   "id": "fd841b1d",
   "metadata": {},
   "source": [
    "<div style=\"border:solid green 2px; padding: 20px\">\n",
    "Практически всё время кумулятивный средний чек группы В преобладает над чеком группы А. Если только один провал 13 августа (когда группа А была выше группы В по среднему чеку).\n",
    "<br>Также на графике хорошо видны пики. Особенно заметен скачок 18 августа, который мы ранее видели на других графиках.\n",
    "</div>"
   ]
  },
  {
   "cell_type": "markdown",
   "id": "29227e4c",
   "metadata": {},
   "source": [
    "### График кумулятивного среднего количества заказов на посетителя по группам"
   ]
  },
  {
   "cell_type": "markdown",
   "id": "30b6e3da",
   "metadata": {},
   "source": [
    "Построим график кумулятивного среднего количества заказов на посетителя по группам"
   ]
  },
  {
   "cell_type": "code",
   "execution_count": 23,
   "id": "4aceccbf",
   "metadata": {},
   "outputs": [
    {
     "data": {
      "image/png": "[encoded data removed]",
      "text/plain": [
       "<Figure size 1152x432 with 1 Axes>"
      ]
     },
     "metadata": {
      "needs_background": "light"
     },
     "output_type": "display_data"
    }
   ],
   "source": [
    "# создание нового столбца\n",
    "cumulative_data['conversion'] = cumulative_data['orders']/cumulative_data['visitors']\n",
    "\n",
    "# создание выборки для группы А\n",
    "cumulative_data_a = cumulative_data.query('group == \"A\"')\n",
    "\n",
    "# оздание выборки для группы В\n",
    "cumulative_data_b = cumulative_data.query('group == \"B\"')\n",
    "\n",
    "# построение графика\n",
    "plt.figure(figsize=(16, 6)) \n",
    "plt.plot(cumulative_data_a['date'], cumulative_data_a['conversion'], label='A')\n",
    "plt.plot(cumulative_data_b['date'], cumulative_data_b['conversion'], label='B')\n",
    "plt.legend()\n",
    "plt.title('КУМУЛЯТИВНОЕ СРЕДНЕЕ КОЛИЧЕСТВО ЗАКАЗОВ НА ПОСЕТИТЕЛЯ',\n",
    "          color='red', fontsize=16) \n",
    "plt.ylabel(\"среднее количество заказов\")\n",
    "plt.xticks(rotation=30);"
   ]
  },
  {
   "cell_type": "markdown",
   "id": "87cfe3a5",
   "metadata": {},
   "source": [
    "<div style=\"border:solid green 2px; padding: 20px\">\n",
    "В начале теста видны сильные колебания в обеих группах и обе группы показывают симметричный рисунок, но приблизительно с 6 августа группа В уходит вверх (показывая более высокие показатели), а группа А уходит вниз. С этого времени среднее количество заказов на посетителя группы В выше среднего количества заказов на посетителя группы А.\n",
    "</div>"
   ]
  },
  {
   "cell_type": "markdown",
   "id": "9f1fc2a9",
   "metadata": {},
   "source": [
    "### График относительного изменения кумулятивного среднего количества заказов на посетителя группы B к группе A"
   ]
  },
  {
   "cell_type": "markdown",
   "id": "53320dc7",
   "metadata": {},
   "source": [
    "Построим график относительного изменения кумулятивного среднего количества заказов на посетителя группы B к группе A"
   ]
  },
  {
   "cell_type": "code",
   "execution_count": 24,
   "id": "c72a92c8",
   "metadata": {},
   "outputs": [
    {
     "data": {
      "image/png": "[encoded data removed]",
      "text/plain": [
       "<Figure size 1152x432 with 1 Axes>"
      ]
     },
     "metadata": {
      "needs_background": "light"
     },
     "output_type": "display_data"
    }
   ],
   "source": [
    "# создание датафрейма\n",
    "cumulative_conversions_ab = (\n",
    "    cumulative_data_a[['date','conversion']]\n",
    "    .merge(\n",
    "        cumulative_data_b[['date','conversion']], \n",
    "        left_on='date', \n",
    "        right_on='date', \n",
    "        how='left', \n",
    "        suffixes=['_a', '_b']\n",
    "    )\n",
    ")\n",
    "\n",
    "# построение графика\n",
    "plt.figure(figsize=(16, 6)) \n",
    "plt.plot(\n",
    "    cumulative_conversions_ab['date'], \n",
    "    cumulative_conversions_ab['conversion_b']/\n",
    "    cumulative_conversions_ab['conversion_a']-1\n",
    ")\n",
    "\n",
    "plt.axhline(y=0, color='black', linestyle='--')\n",
    "plt.axhline(y=0.15, color='grey', linestyle='--')\n",
    "plt.title('ГРАФИК ОТНОСИТЕЛЬНОГО ИЗМЕНЕНИЯ КУМУЛЯТИВНОГО СРЕДНЕГО КОЛ-ВА ЗАКАЗОВ ГРУППЫ В К ГРУППЕ А',\n",
    "          color='red', fontsize=16) \n",
    "plt.ylabel(\"относительное изменение\")\n",
    "plt.xticks(rotation=30);"
   ]
  },
  {
   "cell_type": "markdown",
   "id": "ab6ac1d6",
   "metadata": {},
   "source": [
    "<div style=\"border:solid green 2px; padding: 20px\">\n",
    "В самом начале теста относительное изменение среднего числа заказов было ниже 0, то есть группа А давала лучше результат, чем группа В.\n",
    "<br>Затем, начиная с 5 августа, у группы В относительное изменение среднего числа заказов всегда было выше 0 (что означает более высокие показатели относительно группы А). В районе 17 числа можно наблюдать небольшой спад практически до конца теста. В конце снова наблюдается рост.\n",
    "</div>"
   ]
  },
  {
   "cell_type": "markdown",
   "id": "a84c6057",
   "metadata": {},
   "source": [
    "###  Точечный график количества заказов по пользователям"
   ]
  },
  {
   "cell_type": "markdown",
   "id": "9cd58bf4",
   "metadata": {},
   "source": [
    "Построим точечный график количества заказов по пользователям."
   ]
  },
  {
   "cell_type": "code",
   "execution_count": 25,
   "id": "ab2a6685",
   "metadata": {},
   "outputs": [
    {
     "data": {
      "text/plain": [
       "1     937\n",
       "2     64 \n",
       "3     17 \n",
       "5     6  \n",
       "4     3  \n",
       "11    2  \n",
       "8     1  \n",
       "9     1  \n",
       "Name: orders, dtype: int64"
      ]
     },
     "execution_count": 25,
     "metadata": {},
     "output_type": "execute_result"
    }
   ],
   "source": [
    "# создание датафрейма\n",
    "orders_by_users = (\n",
    "    df_orders.groupby('visitor_id', as_index=False)\n",
    "    .agg({'transaction_id': 'nunique'})\n",
    ")\n",
    "orders_by_users.columns =  ['visitor_id', 'orders']\n",
    "\n",
    "orders_by_users['orders'].value_counts()"
   ]
  },
  {
   "cell_type": "markdown",
   "id": "d37d0ad1",
   "metadata": {},
   "source": [
    "Типовое количество заказов для пользователей - 1. Но есть те, кто сделал больше 1 заказа (таких пользователей немного, но эти данные могут исказить результаты А\\В теста).\n",
    "\n",
    "Посмотрим как распределены в целом количества заказов."
   ]
  },
  {
   "cell_type": "code",
   "execution_count": 26,
   "id": "7d38b5e5",
   "metadata": {},
   "outputs": [
    {
     "data": {
      "image/png": "[encoded data removed]",
      "text/plain": [
       "<Figure size 1152x432 with 1 Axes>"
      ]
     },
     "metadata": {
      "needs_background": "light"
     },
     "output_type": "display_data"
    }
   ],
   "source": [
    "# построение графика\n",
    "x_values = pd.Series(range(0,len(orders_by_users)))\n",
    "\n",
    "plt.figure(figsize=(16, 6)) \n",
    "plt.scatter(x_values, orders_by_users['orders'], alpha=0.5)\n",
    "plt.title('РАСПРЕДЕЛЕНИЕ КОЛИЧЕСТВА ЗАКАЗОВ ПО ПОЛЬЗОВАТЕЛЯМ',\n",
    "          color='red', fontsize=16)\n",
    "plt.xlabel('индекс уникального пользователя')\n",
    "plt.ylabel('количество заказов'); "
   ]
  },
  {
   "cell_type": "markdown",
   "id": "c5e19d93",
   "metadata": {},
   "source": [
    "<div style=\"border:solid green 2px; padding: 20px\">\n",
    "Большинство пользователей совершили 1 заказ. Всё, что больше 3 можно отнести к исключениям.\n",
    "</div>"
   ]
  },
  {
   "cell_type": "markdown",
   "id": "afffa081",
   "metadata": {},
   "source": [
    "###  95-й и 99-й перцентили количества заказов на пользователя"
   ]
  },
  {
   "cell_type": "markdown",
   "id": "d33e076a",
   "metadata": {},
   "source": [
    "Посчитаем 95-й и 99-й перцентили количества заказов на пользователя и выберем границу для определения аномальных пользователей."
   ]
  },
  {
   "cell_type": "code",
   "execution_count": 27,
   "id": "f90217f3",
   "metadata": {},
   "outputs": [
    {
     "name": "stdout",
     "output_type": "stream",
     "text": [
      "95 перцентиль количества заказов: 2.0\n",
      "98 перцентиль количества заказов: 3.0\n",
      "99 перцентиль количества заказов: 4.0\n"
     ]
    }
   ],
   "source": [
    "# вывод информации\n",
    "print('95 перцентиль количества заказов:',\n",
    "      ''.join(map(str, np.percentile(orders_by_users['orders'], [95]))))\n",
    "print('98 перцентиль количества заказов:',\n",
    "      ''.join(map(str, np.percentile(orders_by_users['orders'], [98]))))\n",
    "print('99 перцентиль количества заказов:',\n",
    "      ''.join(map(str, np.percentile(orders_by_users['orders'], [99]))))"
   ]
  },
  {
   "cell_type": "markdown",
   "id": "0e7a43c2",
   "metadata": {},
   "source": [
    "<div style=\"border:solid green 2px; padding: 20px\">\n",
    "Не более 5% пользователей совершили более 2 заказов. И менее 1% совершают более 4 заказов.\n",
    "    \n",
    "<br>В качестве аномальных данных обычно принимают от 1 до 5% значений в зависимости от целей. В нашем случае для анализа результатов А\\В теста, можно взять промежуточный вариант - 3 заказа (98 процентиль). Т.е. от 1 до 5 % пользователей совершают более 3 заказов. Их будем исключать из дальнейших исследований.\n",
    "</div>"
   ]
  },
  {
   "cell_type": "markdown",
   "id": "12d4a218",
   "metadata": {},
   "source": [
    "###  Точечный график стоимости заказов по пользователям"
   ]
  },
  {
   "cell_type": "markdown",
   "id": "3aedea48",
   "metadata": {},
   "source": [
    "Построим точечный график стоимости заказов по пользователям."
   ]
  },
  {
   "cell_type": "code",
   "execution_count": 28,
   "id": "bdb307c2",
   "metadata": {},
   "outputs": [
    {
     "data": {
      "image/png": "[encoded data removed]",
      "text/plain": [
       "<Figure size 1152x432 with 1 Axes>"
      ]
     },
     "metadata": {
      "needs_background": "light"
     },
     "output_type": "display_data"
    }
   ],
   "source": [
    "# построение графика\n",
    "x_values = pd.Series(range(0,len(df_orders['revenue'])))\n",
    "\n",
    "plt.figure(figsize=(16, 6)) \n",
    "plt.scatter(x_values, df_orders['revenue'], alpha=0.5)\n",
    "plt.title('РАСПРЕДЕЛЕНИЕ СТОИМОСТИ ЗАКАЗОВ ПО ПОЛЬЗОВАТЕЛЯМ',\n",
    "          color='red', fontsize=16)\n",
    "plt.xlabel('индекс уникального пользователя')\n",
    "plt.ylabel('стоимость заказов'); "
   ]
  },
  {
   "cell_type": "markdown",
   "id": "96e14c44",
   "metadata": {},
   "source": [
    "<div style=\"border:solid green 2px; padding: 20px\">\n",
    "На графике хорошо видны два сильно выбивающихся по стоимости заказа и несколько \"всплесков\", которые гораздо ближе к типовым по стоимости заказам.\n",
    "<br>Исключим два самых крупных заказа, чтобы лучше рассмотреть разброс по остальным заказам.\n",
    "</div>"
   ]
  },
  {
   "cell_type": "code",
   "execution_count": 29,
   "id": "f423a20d",
   "metadata": {},
   "outputs": [
    {
     "data": {
      "image/png": "[encoded data removed]",
      "text/plain": [
       "<Figure size 1152x432 with 1 Axes>"
      ]
     },
     "metadata": {
      "needs_background": "light"
     },
     "output_type": "display_data"
    }
   ],
   "source": [
    "# построение графика\n",
    "plt.figure(figsize=(16, 6)) \n",
    "plt.ylim(0, 150000)\n",
    "plt.scatter(x_values, df_orders['revenue'], alpha=0.5)\n",
    "plt.title('РАСПРЕДЕЛЕНИЕ СТОИМОСТИ ЗАКАЗОВ ПО ПОЛЬЗОВАТЕЛЯМ',\n",
    "          color='red', fontsize=16)\n",
    "plt.xlabel('индекс уникального пользователя')\n",
    "plt.ylabel('стоимость заказов'); "
   ]
  },
  {
   "cell_type": "markdown",
   "id": "e085e599",
   "metadata": {},
   "source": [
    "<div style=\"border:solid green 2px; padding: 20px\">\n",
    "Большинство пользователей делают заказы на сумму до 20000 рублей. Но даже здесь видны выбросы с дорогими заказами. Можно предположить, что эти заказы были сделали в районе 18 августа (когда как раз был резкий скачок по среднему чеку).\n",
    "</div>"
   ]
  },
  {
   "cell_type": "markdown",
   "id": "25320ddd",
   "metadata": {},
   "source": [
    "###  95-й и 99-й перцентили стоимости заказов"
   ]
  },
  {
   "cell_type": "markdown",
   "id": "4a5ae10a",
   "metadata": {},
   "source": [
    "Чтобы узнать точные цифры границы стоимостей заказов посчитаем перцентили на 95 и 99%."
   ]
  },
  {
   "cell_type": "code",
   "execution_count": 30,
   "id": "1dd55ea7",
   "metadata": {},
   "outputs": [
    {
     "name": "stdout",
     "output_type": "stream",
     "text": [
      "95 перцентиль стоимости заказов: 28000.000000000004\n",
      "99 перцентиль стоимости заказов: 58233.19999999999\n"
     ]
    }
   ],
   "source": [
    "# вывод информации\n",
    "print('95 перцентиль стоимости заказов:',\n",
    "      ''.join(map(str, np.percentile(df_orders['revenue'], [95]))))\n",
    "print('99 перцентиль стоимости заказов:',\n",
    "      ''.join(map(str, np.percentile(df_orders['revenue'], [99]))))"
   ]
  },
  {
   "cell_type": "markdown",
   "id": "15fabea1",
   "metadata": {},
   "source": [
    "<div style=\"border:solid green 2px; padding: 20px\">\n",
    "Менее 5% пользователей совершают покупки на сумму более 28000 рублей. И менее 1% посетителей - на сумму более 58000 рублей.\n",
    "    \n",
    "<br>В качестве выбросов (аномальных значений) можно считать заказы стоимостью не более 4400 рублей (по 98 процентилю).\n",
    "</div>"
   ]
  },
  {
   "cell_type": "markdown",
   "id": "d5ac2d6b",
   "metadata": {},
   "source": [
    "## Анализ статистической значимости"
   ]
  },
  {
   "cell_type": "markdown",
   "id": "05b3ac97",
   "metadata": {},
   "source": [
    "### Статистическая значимость различий в среднем количестве заказов на посетителя между группами по «сырым» данным"
   ]
  },
  {
   "cell_type": "markdown",
   "id": "41e455be",
   "metadata": {},
   "source": [
    "Посчитаем статистическую значимость на сырых данных (не удаляя аномалии).\n",
    "\n",
    "Сформулируем гипотезы: \n",
    "- __H0 (нулевая):__ Между группами __нет статистически значимых различий__ в среднем среднем количестве заказов на посетителя.\n",
    "- __H1 (альтернативная):__ Между группами __есть статистически значимые различия__ в среднем количестве заказов на посетителя.\n",
    "\n",
    "Значение alpha - 0.05.\n",
    "\n",
    "Для исследования будем использовать непараметрический метод - критерий Манна-Уитни. Этот метод хорошо применим для наших данных поскольку в них присутствуют выбросы, которые могут исказить результаты. А также поскольку для непараметрического метода не требуется преположения нормальности распределния."
   ]
  },
  {
   "cell_type": "markdown",
   "id": "9b9187c8",
   "metadata": {},
   "source": [
    "Для каждой группы создадим таблички с пользователями, сделавшими хотя бы один заказ и укажем для них число совершённых заказов."
   ]
  },
  {
   "cell_type": "code",
   "execution_count": 31,
   "id": "558079ee",
   "metadata": {},
   "outputs": [],
   "source": [
    "# создание датафреймов и переименование столбцов\n",
    "order_by_users_A = (\n",
    "    df_orders.query('group == \"A\"')\n",
    "    .groupby('visitor_id', as_index=False)\n",
    "    .agg({'transaction_id': pd.Series.nunique})\n",
    ")\n",
    "order_by_users_A.columns = ['user_id', 'orders']\n",
    "\n",
    "order_by_users_B = (\n",
    "    df_orders.query('group == \"B\"')\n",
    "    .groupby('visitor_id', as_index=False)\n",
    "    .agg({'transaction_id': pd.Series.nunique})\n",
    ")\n",
    "order_by_users_B.columns = ['user_id', 'orders'] "
   ]
  },
  {
   "cell_type": "markdown",
   "id": "61786776",
   "metadata": {},
   "source": [
    "Подготовим данные для проверки критерием Манна-Уитни."
   ]
  },
  {
   "cell_type": "code",
   "execution_count": 32,
   "id": "2abe7cf3",
   "metadata": {},
   "outputs": [],
   "source": [
    "# подготовка данных для каждой группы \n",
    "sample_A = pd.concat([order_by_users_A['orders'],pd.Series(0, index=np.arange(visitors_A\\\n",
    "                    - len(order_by_users_A['orders'])), name='orders')],axis=0)\n",
    "\n",
    "sample_B = pd.concat([order_by_users_B['orders'],pd.Series(0, index=np.arange(visitors_B \\\n",
    "                    - len(order_by_users_B['orders'])), name='orders')],axis=0) "
   ]
  },
  {
   "cell_type": "markdown",
   "id": "d36ed1f4",
   "metadata": {},
   "source": [
    "Применим критерий Манна-Уитни и выведем на экран p_value, округленное до 3 знаков после запятой"
   ]
  },
  {
   "cell_type": "code",
   "execution_count": 33,
   "id": "8e12a18f",
   "metadata": {},
   "outputs": [
    {
     "name": "stdout",
     "output_type": "stream",
     "text": [
      "Значение p_value 0.017\n",
      "Относительный прирост группы В: 0.138\n"
     ]
    }
   ],
   "source": [
    "# применение критерия Манна-Уитни и вывод информации на экран\n",
    "print('Значение p_value',\"{0:.3f}\".format(stats.mannwhitneyu(sample_A, sample_B)[1]))\n",
    "\n",
    "print('Относительный прирост группы В:', \"{0:.3f}\".format(sample_B.mean() / sample_A.mean() - 1))"
   ]
  },
  {
   "cell_type": "markdown",
   "id": "ed1bd49f",
   "metadata": {},
   "source": [
    "<div style=\"border:solid green 2px; padding: 20px\">\n",
    "Статистическая значимость меньше 0.05 - значит, отвергаем нулевую гипотезу. Соответственно, между группами есть различия в среднем количестве заказов.\n",
    "    \n",
    "<br>Относительный прирост среднего числа заказов на посетителя группы В положительный и равен 13.8%.\n",
    "Это означает, что в группе В на 13% большее количество заказов на посетителя, относительно группы А.\n",
    "</div>"
   ]
  },
  {
   "cell_type": "markdown",
   "id": "efb2d217",
   "metadata": {},
   "source": [
    "### Статистическая значимость различий в среднем чеке заказа между группами по «сырым» данным"
   ]
  },
  {
   "cell_type": "markdown",
   "id": "806a4169",
   "metadata": {},
   "source": [
    "Посчитаем аналогично статистическую значимость, но по различию среднего чека между группами А и В по сырым данным.\n",
    "\n",
    "Сформулируем гипотезы:\n",
    "- __H0 (нулевая):__ Между группами __нет статистически значимых различий__ в среднем среднем чеке.\n",
    "- __H1 (альтернативная):__ Между группами __есть статистически значимые различия__ в среднем чеке.\n",
    "\n",
    "Значение alpha - 0.05.\n",
    "\n",
    "Метод исследования - критерий Манна-Уитни. "
   ]
  },
  {
   "cell_type": "code",
   "execution_count": 34,
   "id": "70e43cbd",
   "metadata": {},
   "outputs": [
    {
     "name": "stdout",
     "output_type": "stream",
     "text": [
      "Значение p_value 0.729\n",
      "Относительный прирост группы В 0.259\n"
     ]
    }
   ],
   "source": [
    "# применение критерия Манна-Уитни\n",
    "print('Значение p_value',\n",
    "      '{0:.3f}'.format(stats.mannwhitneyu(df_orders[df_orders['group']=='A']['revenue'], \\\n",
    "                                          df_orders.query('group == \"B\"')['revenue'])[1]))\n",
    "print('Относительный прирост группы В',\n",
    "      '{0:.3f}'.format(df_orders.query('group == \"B\"')\\\n",
    "                       ['revenue'].mean()/df_orders.query('group == \"A\"')['revenue'].mean()-1)) "
   ]
  },
  {
   "cell_type": "markdown",
   "id": "7b5d3039",
   "metadata": {},
   "source": [
    "<div style=\"border:solid green 2px; padding: 20px\">\n",
    "Статистическая значимость довольно высокая (72%) - значит, нулевую гипотезу отвергнуть не можем. С вероятностью в 72% различий между группами в среднем чеке нет.\n",
    "    \n",
    "<br>Относительный прирост среднего чека группы B относительно группы А составляет 25.9%.\n",
    "</div>"
   ]
  },
  {
   "cell_type": "markdown",
   "id": "7a05026e",
   "metadata": {},
   "source": [
    " ### Статистическая значимость различий в среднем количестве заказов на посетителя между группами по «очищенным» данным."
   ]
  },
  {
   "cell_type": "markdown",
   "id": "cadd0184",
   "metadata": {},
   "source": [
    "Теперь посчитаем всё то же, но по очищенным данным.  \n",
    "Примем за аномальных пользователей тех, кто делает больше 3 заказов и у кого выручка с заказа более 40000.\n",
    "Подсчет этих показателей мы произвели с разделе перцентилей."
   ]
  },
  {
   "cell_type": "markdown",
   "id": "e1dd709a",
   "metadata": {},
   "source": [
    "Выделим аномальных пользователей."
   ]
  },
  {
   "cell_type": "code",
   "execution_count": 35,
   "id": "96a18658",
   "metadata": {},
   "outputs": [
    {
     "name": "stdout",
     "output_type": "stream",
     "text": [
      "Количество аномальных пользователей: 33\n",
      "Относительное количество аномальных пользователей 3.2% \n",
      "\n",
      "858     192721366\n",
      "18      199603092\n",
      "23      237748145\n",
      "1099    316924019\n",
      "1029    469609643\n",
      "dtype: int64\n"
     ]
    }
   ],
   "source": [
    "# создание среза аномальных пользователей по количеству заказов\n",
    "users_with_many_orders = pd.concat(\n",
    "    [order_by_users_A[order_by_users_A['orders'] > np.percentile(orders_by_users['orders'], 98)]['user_id'],\n",
    "     order_by_users_B[order_by_users_B['orders'] > np.percentile(orders_by_users['orders'], 98)]['user_id'],\n",
    "    ],axis=0,\n",
    ")\n",
    "\n",
    "# создание среза аномальных пользователей по стоимости заказов\n",
    "users_with_expensive_rders = (\n",
    "    df_orders[df_orders['revenue'] > np.percentile(df_orders['revenue'], 98)]['transaction_id'])\n",
    "\n",
    "# объединение срезов\n",
    "abnormal_users = (\n",
    "    pd.concat([users_with_many_orders, users_with_expensive_rders], axis=0)\n",
    "    .drop_duplicates()\n",
    "    .sort_values()\n",
    ")\n",
    "\n",
    "# вычисление доли аномальных пользователей\n",
    "abnormal_share = abnormal_users.count() / pd.Series(df_orders['visitor_id'].unique()).count()\n",
    "\n",
    "# вывод информации\n",
    "print(f'Количество аномальных пользователей: {abnormal_users.shape[0]}') \n",
    "print('Относительное количество аномальных пользователей', \"{0:.1%}\".format(abnormal_share), '\\n')\n",
    "\n",
    "print(abnormal_users.head(5))"
   ]
  },
  {
   "cell_type": "markdown",
   "id": "45e61740",
   "metadata": {},
   "source": [
    "Всего 33 аномальных пользователя (3.2%) - не так много от общего объёма.\n",
    "\n",
    "Можно удалить эти выбросы."
   ]
  },
  {
   "cell_type": "code",
   "execution_count": 36,
   "id": "ce87edbe",
   "metadata": {},
   "outputs": [],
   "source": [
    "# фильтрация данных для двух групп\n",
    "filtered_sample_A = pd.concat(\n",
    "    [\n",
    "        order_by_users_A[\n",
    "            np.logical_not(order_by_users_A['user_id'].isin(abnormal_users))\n",
    "        ]['orders'],\n",
    "        pd.Series(\n",
    "            0,\n",
    "            index=np.arange(\n",
    "                visitors_A - len(order_by_users_A['orders'])\n",
    "            ),\n",
    "            name='orders',\n",
    "        ),\n",
    "    ],\n",
    "    axis=0,\n",
    ")\n",
    "\n",
    "filtered_sample_B = pd.concat(\n",
    "    [\n",
    "        order_by_users_B[\n",
    "            np.logical_not(order_by_users_B['user_id'].isin(abnormal_users))\n",
    "        ]['orders'],\n",
    "        pd.Series(\n",
    "            0,\n",
    "            index=np.arange(\n",
    "                visitors_B - len(order_by_users_B['orders'])\n",
    "            ),\n",
    "            name='orders',\n",
    "        ),\n",
    "    ],\n",
    "    axis=0,\n",
    ") "
   ]
  },
  {
   "cell_type": "markdown",
   "id": "f60b2989",
   "metadata": {},
   "source": [
    "Посмотрим, что покажут очищенные данные по среднему количеству заказов на посетителя.  \n",
    "\n",
    "Снова проверим гипотезы: \n",
    "- __H0 (нулевая):__ Между группами __нет статистически значимых различий__ в среднем среднем количестве заказов на посетителя.\n",
    "- __H1 (альтернативная):__ Между группами __есть статистически значимые различия__ в среднем количестве заказов на посетителя.\n",
    "\n",
    "Значение alpha - 0.05.\n",
    "\n",
    "Для очищенных данных также будем использовать непараметрический метод - критерий Манна-Уитни."
   ]
  },
  {
   "cell_type": "code",
   "execution_count": 37,
   "id": "cc401644",
   "metadata": {},
   "outputs": [
    {
     "name": "stdout",
     "output_type": "stream",
     "text": [
      "Значение p_value 0.016\n",
      "Относительный прирост группы В 0.147\n"
     ]
    }
   ],
   "source": [
    "# применение критерия Манна-Уитни\n",
    "print('Значение p_value', '{0:.3f}'\n",
    "      .format(stats.mannwhitneyu(filtered_sample_A, filtered_sample_B)[1]))\n",
    "print(\n",
    "    'Относительный прирост группы В', '{0:.3f}'\n",
    "    .format(filtered_sample_B.mean()/filtered_sample_A.mean()-1)) "
   ]
  },
  {
   "cell_type": "markdown",
   "id": "342fe2fb",
   "metadata": {},
   "source": [
    "<div style=\"border:solid green 2px; padding: 20px\">\n",
    "Незначительная разница с \"сырыми\" данными. \n",
    "<br>P_value также ниже 0.05. Ещё раз убеждаемся, что между группами есть отличия в среднем количестве заказов.\n",
    "<br>Относительный прирост среднего чека группы B относительно группы А составляет 14.7%.\n",
    "</div>"
   ]
  },
  {
   "cell_type": "markdown",
   "id": "7795f55d",
   "metadata": {},
   "source": [
    "### Статистическая значимость различий в среднем чеке по «очищенным» данным"
   ]
  },
  {
   "cell_type": "markdown",
   "id": "4ba5c2ea",
   "metadata": {},
   "source": [
    "Аналогично применим критерий Манна-Уитни к очищенным данным по среднему чеку заказа между группами.\n",
    "\n",
    "Проверим гипотезы:\n",
    "- __H0 (нулевая):__ Между группами __нет статистически значимых различий__ в среднем среднем чеке.\n",
    "- __H1 (альтернативная):__ Между группами __есть статистически значимые различия__ в среднем чеке.\n",
    "\n",
    "Значение alpha - 0.05.\n",
    "\n",
    "Метод исследования - критерий Манна-Уитни. "
   ]
  },
  {
   "cell_type": "code",
   "execution_count": 38,
   "id": "f7d66782",
   "metadata": {},
   "outputs": [
    {
     "name": "stdout",
     "output_type": "stream",
     "text": [
      "Значение p_value 0.899\n",
      "Относительный прирост группы В 0.238\n"
     ]
    }
   ],
   "source": [
    "# применение критерия Манна-Уитни\n",
    "print('Значение p_value',\n",
    "    '{0:.3f}'.format(\n",
    "        stats.mannwhitneyu(\n",
    "            df_orders[\n",
    "                np.logical_and(\n",
    "                    df_orders['group'] == 'A',\n",
    "                    np.logical_not(df_orders['visitor_id'].isin(abnormal_users)),\n",
    "                )\n",
    "            ]['revenue'],\n",
    "            df_orders[\n",
    "                np.logical_and(\n",
    "                    df_orders['group'] == 'B',\n",
    "                    np.logical_not(df_orders['visitor_id'].isin(abnormal_users)),\n",
    "                )\n",
    "            ]['revenue'],\n",
    "        )[1]\n",
    "    )\n",
    ")\n",
    "\n",
    "print('Относительный прирост группы В',\n",
    "    \"{0:.3f}\".format(\n",
    "        df_orders[\n",
    "            np.logical_and(\n",
    "                df_orders['group'] == 'B',\n",
    "                np.logical_not(df_orders['visitor_id'].isin(abnormal_users)),\n",
    "            )\n",
    "        ]['revenue'].mean()\n",
    "        / df_orders[\n",
    "            np.logical_and(\n",
    "                df_orders['group'] == 'A',\n",
    "                np.logical_not(df_orders['visitor_id'].isin(abnormal_users)),\n",
    "            )\n",
    "        ]['revenue'].mean()\n",
    "        - 1\n",
    "    )\n",
    ") \n"
   ]
  },
  {
   "cell_type": "markdown",
   "id": "ab3810cc",
   "metadata": {},
   "source": [
    "<div style=\"border:solid green 2px; padding: 20px\">\n",
    "Здесь также нет принципиальных изменений. \n",
    "<br>P_value ещё увеличился и составляет почти 90%. Подтверждаем, что различий в среднем чеке нет.\n",
    "<br>Относительный прирост среднего чека группы B относительно группы А составляет 23.8%.\n",
    "</div>"
   ]
  },
  {
   "cell_type": "markdown",
   "id": "8b61ca37",
   "metadata": {},
   "source": [
    "## ВЫВОД"
   ]
  },
  {
   "cell_type": "markdown",
   "id": "4a860658",
   "metadata": {},
   "source": [
    " <div style=\"border: solid green 4px; border-style: double; padding: 20px;\">\n",
    "    <b>ВЫВОДЫ ПО ПРОЕКТУ</b>\n",
    "    \n",
    "В рамках данного исследования были проанализированы гипотезы, подготовленные отделом маркетинга. И был проведён анализ А/В тестирования.\n",
    "\n",
    "В нашем распоряжении были данные: <br>- список гипотез,<br>- данные о заказах,<br>- данные о пользователях по группам А/В тестирования.  \n",
    "\n",
    "<b>ПРИОРИТИЗАЦИЯ ГИПОТЕЗ</b><br>\n",
    "В результате анализа фреймворками ICE и RICE лидируют\n",
    "<br>- гипотеза 7, показывая хорошие позиции и в ICE (3 место) и в RICE (1 место): <i>\"Добавить форму подписки на все основные страницы, чтобы собрать базу клиентов для email-рассылок\"</i>,\n",
    "<br>- гипотеза 0, также показывая хорошие позиции и в ICE (2 место) и в RICE (3 место): <i>\"Добавить два новых канала привлечения трафика, что позволит привлекать на 30% больше пользователей\".</i>\n",
    "<br>Также стоит отметить гипотезу 8, которая занимает первое место в ICE (в RICE только 5 место): <i>\"Запустить акцию, дающую скидку на товар в день рождения\".</i>\n",
    "    \n",
    "\n",
    "<b>АНАЛИЗ А/В тестирования</b><br>\n",
    "На основе графиков хорошо видно, что:\n",
    "<br>- кумулятивная выручка группы В выше\n",
    "<br>- кумулятивный средний чек группы В выше\n",
    "<br>- кумулятивное среднее количество заказов группы В выше\n",
    "    \n",
    "<br>Анализ статистической значимости различий показал, что:\n",
    "<br>- есть различия в среднем количестве заказов между группами (результаты аналогичны и в \"сырых\" и в \"очищенных\" данных)\n",
    "<br>- нет различий в среднем чеке между группами (результаты аналогичны и в \"сырых\" и в \"очищенных\" данных)\n",
    "\n",
    "    \n",
    "<b>РЕШЕНИЕ ОТНОСИТЕЛЬНО ПРОДОЛЖЕНИЕ А/В ТЕСТИРОВАНИЯ</b><br>\n",
    "Исходя из имеющихся данных можно признать победу группы В и остановить тест. Спустя месяц теста очевидно, что группа В показывает лучшие результаты по всем параметрам.\n",
    "\n",
    "    \n",
    "</div>"
   ]
  },
  {
   "cell_type": "code",
   "execution_count": null,
   "id": "e9141c6d",
   "metadata": {},
   "outputs": [],
   "source": []
  }
 ],
 "metadata": {
  "ExecuteTimeLog": [
   {
    "duration": 1145,
    "start_time": "2024-04-27T06:11:15.827Z"
   },
   {
    "duration": 67,
    "start_time": "2024-04-27T06:11:16.974Z"
   },
   {
    "duration": 8,
    "start_time": "2024-04-27T06:11:17.043Z"
   },
   {
    "duration": 166,
    "start_time": "2024-04-27T06:11:17.053Z"
   },
   {
    "duration": 109,
    "start_time": "2024-04-27T06:11:17.220Z"
   },
   {
    "duration": 81,
    "start_time": "2024-04-27T06:11:17.330Z"
   },
   {
    "duration": 4,
    "start_time": "2024-04-27T06:11:17.413Z"
   },
   {
    "duration": 21,
    "start_time": "2024-04-27T06:11:17.418Z"
   },
   {
    "duration": 34,
    "start_time": "2024-04-27T06:11:17.441Z"
   },
   {
    "duration": 11,
    "start_time": "2024-04-27T06:11:17.478Z"
   },
   {
    "duration": 6,
    "start_time": "2024-04-27T06:11:17.490Z"
   },
   {
    "duration": 16,
    "start_time": "2024-04-27T06:11:17.498Z"
   },
   {
    "duration": 10,
    "start_time": "2024-04-27T06:11:17.516Z"
   },
   {
    "duration": 18,
    "start_time": "2024-04-27T06:11:17.528Z"
   },
   {
    "duration": 30,
    "start_time": "2024-04-27T06:11:17.547Z"
   },
   {
    "duration": 34,
    "start_time": "2024-04-27T06:11:17.579Z"
   },
   {
    "duration": 148,
    "start_time": "2024-04-27T06:11:17.614Z"
   },
   {
    "duration": 114,
    "start_time": "2024-04-27T06:11:17.764Z"
   },
   {
    "duration": 12,
    "start_time": "2024-04-27T06:11:17.879Z"
   },
   {
    "duration": 313,
    "start_time": "2024-04-27T06:11:17.892Z"
   },
   {
    "duration": 220,
    "start_time": "2024-04-27T06:11:18.206Z"
   },
   {
    "duration": 396,
    "start_time": "2024-04-27T06:11:18.427Z"
   },
   {
    "duration": 265,
    "start_time": "2024-04-27T06:11:18.824Z"
   },
   {
    "duration": 315,
    "start_time": "2024-04-27T06:11:19.090Z"
   },
   {
    "duration": 9,
    "start_time": "2024-04-27T06:11:19.406Z"
   },
   {
    "duration": 178,
    "start_time": "2024-04-27T06:11:19.417Z"
   },
   {
    "duration": 5,
    "start_time": "2024-04-27T06:11:19.597Z"
   },
   {
    "duration": 194,
    "start_time": "2024-04-27T06:11:19.605Z"
   },
   {
    "duration": 206,
    "start_time": "2024-04-27T06:11:19.801Z"
   },
   {
    "duration": 6,
    "start_time": "2024-04-27T06:11:20.009Z"
   },
   {
    "duration": 170,
    "start_time": "2024-04-27T06:11:20.016Z"
   },
   {
    "duration": 7,
    "start_time": "2024-04-27T06:11:20.187Z"
   },
   {
    "duration": 32,
    "start_time": "2024-04-27T06:11:20.195Z"
   },
   {
    "duration": 106,
    "start_time": "2024-04-27T06:11:20.229Z"
   },
   {
    "duration": 12,
    "start_time": "2024-04-27T06:11:20.337Z"
   },
   {
    "duration": 20,
    "start_time": "2024-04-27T06:11:20.350Z"
   },
   {
    "duration": 27,
    "start_time": "2024-04-27T06:11:20.371Z"
   },
   {
    "duration": 15,
    "start_time": "2024-04-27T06:11:20.400Z"
   },
   {
    "duration": 70,
    "start_time": "2024-04-27T06:18:19.539Z"
   },
   {
    "duration": 5,
    "start_time": "2024-04-27T06:23:07.761Z"
   },
   {
    "duration": 6,
    "start_time": "2024-04-27T06:23:31.510Z"
   }
  ],
  "hide_input": false,
  "kernelspec": {
   "display_name": "Python 3 (ipykernel)",
   "language": "python",
   "name": "python3"
  },
  "language_info": {
   "codemirror_mode": {
    "name": "ipython",
    "version": 3
   },
   "file_extension": ".py",
   "mimetype": "text/x-python",
   "name": "python",
   "nbconvert_exporter": "python",
   "pygments_lexer": "ipython3",
   "version": "3.9.12"
  },
  "toc": {
   "base_numbering": 1,
   "nav_menu": {},
   "number_sections": true,
   "sideBar": true,
   "skip_h1_title": true,
   "title_cell": "Table of Contents",
   "title_sidebar": "Contents",
   "toc_cell": false,
   "toc_position": {
    "height": "calc(100% - 180px)",
    "left": "10px",
    "top": "150px",
    "width": "165px"
   },
   "toc_section_display": true,
   "toc_window_display": true
  }
 },
 "nbformat": 4,
 "nbformat_minor": 5
}
