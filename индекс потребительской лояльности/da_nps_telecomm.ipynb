{
 "cells": [
  {
   "cell_type": "markdown",
   "id": "46bec800",
   "metadata": {},
   "source": [
    "# ИНДЕКС ПОТРЕБИТЕЛЬСКОЙ ЛОЯЛЬНОСТИ (NPS) российской telecomm-компании"
   ]
  },
  {
   "cell_type": "markdown",
   "id": "759d1aac",
   "metadata": {},
   "source": [
    "## Краткое описание проекта"
   ]
  },
  {
   "cell_type": "markdown",
   "id": "8ae2915d",
   "metadata": {},
   "source": [
    "В фокусе исследования - изучение текущего уровеня потребительской лояльности (NPS) телекоммуникационной компании среди клиентов из России.   \n",
    "__Основная цель - построение дашборда, который представит информацию о текущем уровне NPS среди клиентов и покажет, как этот уровень меняется в зависимости от пользовательских признаков.__  \n",
    "\n",
    "__Чтобы определить уровень лояльности, клиентам задавали классический вопрос:__ «Оцените по шкале от 1 до 10 вероятность того, что вы порекомендуете компанию друзьям и знакомым».  \n",
    "Оценки обычно делят на три группы:\n",
    "- 9-10 баллов — «cторонники» (англ. promoters);\n",
    "- 7-8 баллов — «нейтралы» (англ. passives);\n",
    "- 0-6 баллов — «критики» (англ. detractors).\n",
    "  \n",
    "Итоговое значение NPS рассчитывается по формуле: % «сторонников» - % «критиков».\n",
    "Таким образом, значение этого показателя варьируется от -100% (когда все клиенты «критики») до 100% (когда все клиенты лояльны к сервису)."
   ]
  },
  {
   "cell_type": "markdown",
   "id": "5c001b32",
   "metadata": {},
   "source": [
    "В работе есть следующие таблицы:  \n",
    "- таблица user - содержит основную информацию о клиентах;\n",
    "- таблица location - справочник территорий, в которых телеком-компания оказывает услуги;\n",
    "- таблица age_segment - данные о возрастных сегментах клиентов;\n",
    "- таблица traffic_segment - данные о выделяемых сегментах по объёму потребляемого трафика;\n",
    "- таблица lifetime_segment - данные о выделяемых сегментах по количеству месяцев «жизни» клиента — лайфтайму.  \n",
    "\n",
    "Необходимо объединить все таблицы, проверить данные и выгрузить для работы в Tableu."
   ]
  },
  {
   "cell_type": "markdown",
   "id": "49e39291",
   "metadata": {},
   "source": [
    "## Изучение данных"
   ]
  },
  {
   "cell_type": "markdown",
   "id": "b2492634",
   "metadata": {},
   "source": [
    "Извлечём отдельные таблицы из базы данных и объединм всё в одну таблицу, добавив нужные столбцы."
   ]
  },
  {
   "cell_type": "code",
   "execution_count": 1,
   "id": "bb8ecd59",
   "metadata": {},
   "outputs": [],
   "source": [
    "# импорт библиотек\n",
    "import os\n",
    "import pandas as pd\n",
    "import numpy as np\n",
    "\n",
    "from sqlalchemy import create_engine"
   ]
  },
  {
   "cell_type": "code",
   "execution_count": 2,
   "id": "f8d0674d",
   "metadata": {},
   "outputs": [],
   "source": [
    "# путь к БД на компьютере\n",
    "path_to_db_local = 'telecomm_csi.db'\n",
    "# путь к БД на платформе\n",
    "path_to_db_platform = '/datasets/telecomm_csi.db'\n",
    "# итоговый путь к БД\n",
    "path_to_db = None"
   ]
  },
  {
   "cell_type": "code",
   "execution_count": 3,
   "id": "113c5cdc",
   "metadata": {},
   "outputs": [
    {
     "name": "stdout",
     "output_type": "stream",
     "text": [
      "Загружены локальые данные.\n"
     ]
    }
   ],
   "source": [
    "# получение данных\n",
    "if os.path.exists(path_to_db_local):\n",
    "    path_to_db = path_to_db_local\n",
    "    print('Загружены локальые данные.')\n",
    "elif os.path.exists(path_to_db_platform):\n",
    "    path_to_db = path_to_db_platform\n",
    "    print('Загружены данные с платформы.')\n",
    "else:\n",
    "    raise Exception('Файл с базой данных SQLite не найден!')"
   ]
  },
  {
   "cell_type": "code",
   "execution_count": 4,
   "id": "9695cb45",
   "metadata": {},
   "outputs": [
    {
     "name": "stdout",
     "output_type": "stream",
     "text": [
      "Данные загрузены.\n"
     ]
    }
   ],
   "source": [
    "# извлечение данных с помощью SQL-запроса\n",
    "if path_to_db:\n",
    "    # создание подключения к базе\n",
    "    engine = create_engine(f'sqlite:///{path_to_db}', echo=False)\n",
    "    \n",
    "    # запрос\n",
    "    query = \"\"\"\n",
    "    SELECT \n",
    "    u.user_id,\n",
    "    u.lt_day,\n",
    "    CASE \n",
    "        WHEN u.lt_day <= 365 THEN 'new'\n",
    "        ELSE 'old'\n",
    "    END AS is_new,\n",
    "    u.age,\n",
    "    CASE \n",
    "        WHEN u.gender_segment = 0 THEN 'м'\n",
    "        WHEN u.gender_segment = 1 THEN 'ж'\n",
    "    END AS gender_segment,\n",
    "    u.os_name,\n",
    "    u.cpe_type_name,\n",
    "    u.nps_score,\n",
    "    l.country,\n",
    "    l.city,\n",
    "    a.title AS age_segment,\n",
    "    ts.title AS traffic_segment,\n",
    "    ls.title AS lifetime_segment,\n",
    "    CASE \n",
    "        WHEN u.nps_score BETWEEN 9 AND 10 THEN 'cторонники'\n",
    "        WHEN u.nps_score BETWEEN 7 AND 8 THEN 'нейтралы'\n",
    "        ELSE 'критики'\n",
    "    END AS nps_group\n",
    " \n",
    "    FROM\n",
    "        \"user\" u\n",
    "    LEFT JOIN\n",
    "        location l \n",
    "        ON u.location_id = l.location_id\n",
    "\n",
    "    LEFT JOIN\n",
    "        age_segment a\n",
    "        ON u.age_gr_id = a.age_gr_id\n",
    "\n",
    "    LEFT JOIN\n",
    "        traffic_segment ts \n",
    "        ON u.tr_gr_id = ts.tr_gr_id \n",
    "        \n",
    "    LEFT JOIN\n",
    "        lifetime_segment ls \n",
    "        ON u.lt_gr_id = ls.lt_gr_id\n",
    "        \"\"\"  \n",
    "    \n",
    "    \n",
    "    # создаём датафреймы по данным запроса\n",
    "    df = pd.read_sql(query, engine)\n",
    "    print('Данные загрузены.')"
   ]
  },
  {
   "cell_type": "code",
   "execution_count": 5,
   "id": "d6542676",
   "metadata": {},
   "outputs": [
    {
     "data": {
      "text/plain": [
       "Index(['user_id', 'lt_day', 'is_new', 'age', 'gender_segment', 'os_name',\n",
       "       'cpe_type_name', 'nps_score', 'country', 'city', 'age_segment',\n",
       "       'traffic_segment', 'lifetime_segment', 'nps_group'],\n",
       "      dtype='object')"
      ]
     },
     "execution_count": 5,
     "metadata": {},
     "output_type": "execute_result"
    }
   ],
   "source": [
    "# проверка заголовков столбцов получившейся таблицы\n",
    "df.columns"
   ]
  },
  {
   "cell_type": "code",
   "execution_count": 6,
   "id": "20eda19a",
   "metadata": {},
   "outputs": [
    {
     "data": {
      "text/html": [
       "<div>\n",
       "<style scoped>\n",
       "    .dataframe tbody tr th:only-of-type {\n",
       "        vertical-align: middle;\n",
       "    }\n",
       "\n",
       "    .dataframe tbody tr th {\n",
       "        vertical-align: top;\n",
       "    }\n",
       "\n",
       "    .dataframe thead th {\n",
       "        text-align: right;\n",
       "    }\n",
       "</style>\n",
       "<table border=\"1\" class=\"dataframe\">\n",
       "  <thead>\n",
       "    <tr style=\"text-align: right;\">\n",
       "      <th></th>\n",
       "      <th>user_id</th>\n",
       "      <th>lt_day</th>\n",
       "      <th>is_new</th>\n",
       "      <th>age</th>\n",
       "      <th>gender_segment</th>\n",
       "      <th>os_name</th>\n",
       "      <th>cpe_type_name</th>\n",
       "      <th>nps_score</th>\n",
       "      <th>country</th>\n",
       "      <th>city</th>\n",
       "      <th>age_segment</th>\n",
       "      <th>traffic_segment</th>\n",
       "      <th>lifetime_segment</th>\n",
       "      <th>nps_group</th>\n",
       "    </tr>\n",
       "  </thead>\n",
       "  <tbody>\n",
       "    <tr>\n",
       "      <th>241806</th>\n",
       "      <td>MI5YSX</td>\n",
       "      <td>1032</td>\n",
       "      <td>old</td>\n",
       "      <td>32.0</td>\n",
       "      <td>м</td>\n",
       "      <td>IOS</td>\n",
       "      <td>SMARTPHONE</td>\n",
       "      <td>2</td>\n",
       "      <td>Россия</td>\n",
       "      <td>Москва</td>\n",
       "      <td>03 25-34</td>\n",
       "      <td>09 25-30</td>\n",
       "      <td>07 25-36</td>\n",
       "      <td>критики</td>\n",
       "    </tr>\n",
       "    <tr>\n",
       "      <th>142549</th>\n",
       "      <td>HCL8W2</td>\n",
       "      <td>4023</td>\n",
       "      <td>old</td>\n",
       "      <td>30.0</td>\n",
       "      <td>м</td>\n",
       "      <td>ANDROID</td>\n",
       "      <td>SMARTPHONE</td>\n",
       "      <td>8</td>\n",
       "      <td>Россия</td>\n",
       "      <td>Екатеринбург</td>\n",
       "      <td>03 25-34</td>\n",
       "      <td>05 5-10</td>\n",
       "      <td>08 36+</td>\n",
       "      <td>нейтралы</td>\n",
       "    </tr>\n",
       "    <tr>\n",
       "      <th>182746</th>\n",
       "      <td>JFYPSD</td>\n",
       "      <td>2007</td>\n",
       "      <td>old</td>\n",
       "      <td>28.0</td>\n",
       "      <td>м</td>\n",
       "      <td>ANDROID</td>\n",
       "      <td>SMARTPHONE</td>\n",
       "      <td>10</td>\n",
       "      <td>Россия</td>\n",
       "      <td>Тверь</td>\n",
       "      <td>03 25-34</td>\n",
       "      <td>13 45-50</td>\n",
       "      <td>08 36+</td>\n",
       "      <td>cторонники</td>\n",
       "    </tr>\n",
       "  </tbody>\n",
       "</table>\n",
       "</div>"
      ],
      "text/plain": [
       "       user_id  lt_day is_new   age gender_segment  os_name cpe_type_name  \\\n",
       "241806  MI5YSX    1032    old  32.0              м      IOS    SMARTPHONE   \n",
       "142549  HCL8W2    4023    old  30.0              м  ANDROID    SMARTPHONE   \n",
       "182746  JFYPSD    2007    old  28.0              м  ANDROID    SMARTPHONE   \n",
       "\n",
       "        nps_score country          city age_segment traffic_segment  \\\n",
       "241806          2  Россия        Москва    03 25-34        09 25-30   \n",
       "142549          8  Россия  Екатеринбург    03 25-34         05 5-10   \n",
       "182746         10  Россия         Тверь    03 25-34        13 45-50   \n",
       "\n",
       "       lifetime_segment   nps_group  \n",
       "241806         07 25-36     критики  \n",
       "142549           08 36+    нейтралы  \n",
       "182746           08 36+  cторонники  "
      ]
     },
     "execution_count": 6,
     "metadata": {},
     "output_type": "execute_result"
    }
   ],
   "source": [
    "# вывод нескольких строк для примера\n",
    "df.sample(3)"
   ]
  },
  {
   "cell_type": "code",
   "execution_count": 7,
   "id": "a4f908db",
   "metadata": {},
   "outputs": [
    {
     "name": "stdout",
     "output_type": "stream",
     "text": [
      "<class 'pandas.core.frame.DataFrame'>\n",
      "RangeIndex: 502493 entries, 0 to 502492\n",
      "Data columns (total 14 columns):\n",
      " #   Column            Non-Null Count   Dtype  \n",
      "---  ------            --------------   -----  \n",
      " 0   user_id           502493 non-null  object \n",
      " 1   lt_day            502493 non-null  int64  \n",
      " 2   is_new            502493 non-null  object \n",
      " 3   age               501939 non-null  float64\n",
      " 4   gender_segment    501192 non-null  object \n",
      " 5   os_name           502493 non-null  object \n",
      " 6   cpe_type_name     502493 non-null  object \n",
      " 7   nps_score         502493 non-null  int64  \n",
      " 8   country           502493 non-null  object \n",
      " 9   city              502493 non-null  object \n",
      " 10  age_segment       502493 non-null  object \n",
      " 11  traffic_segment   502493 non-null  object \n",
      " 12  lifetime_segment  502493 non-null  object \n",
      " 13  nps_group         502493 non-null  object \n",
      "dtypes: float64(1), int64(2), object(11)\n",
      "memory usage: 53.7+ MB\n"
     ]
    }
   ],
   "source": [
    "# вывод общей информации по таблице\n",
    "df.info()"
   ]
  },
  {
   "cell_type": "markdown",
   "id": "5c2b47cb",
   "metadata": {},
   "source": [
    "Определим, как много пропусков в столбцах с пропущенными данными."
   ]
  },
  {
   "cell_type": "code",
   "execution_count": 8,
   "id": "70309e89",
   "metadata": {},
   "outputs": [
    {
     "name": "stdout",
     "output_type": "stream",
     "text": [
      "Процент пропусков в каждом столбце с пропусками:\n",
      "age               0.11%\n",
      "gender_segment    0.26%\n"
     ]
    }
   ],
   "source": [
    "# выборка нужных столбцов\n",
    "null_cols = df.isnull().sum()\n",
    "null_cols = null_cols[null_cols > 0]\n",
    "\n",
    "# форматирование данных\n",
    "percent_nulls = round(null_cols/len(df)*100, 2)\n",
    "percent_nulls = percent_nulls.apply(lambda x: \"{:.2f}%\".format(x))\n",
    "\n",
    "# вывод данных на экран\n",
    "print(\"Процент пропусков в каждом столбце с пропусками:\\n\", percent_nulls.to_string(dtype=False), sep=\"\")"
   ]
  },
  {
   "cell_type": "markdown",
   "id": "1c1ef654",
   "metadata": {},
   "source": [
    "Восстановить такие пропуски не получится, оставим как есть."
   ]
  },
  {
   "cell_type": "markdown",
   "id": "d5766ebd",
   "metadata": {},
   "source": [
    "## Предобработка данных"
   ]
  },
  {
   "cell_type": "markdown",
   "id": "5f0c0211",
   "metadata": {},
   "source": [
    "### Изменение типа данных и обработка пропусков"
   ]
  },
  {
   "cell_type": "markdown",
   "id": "41e90727",
   "metadata": {},
   "source": [
    "Проверим данные в столбце 'age' (сейчас там 'float', а должно быть 'int')"
   ]
  },
  {
   "cell_type": "code",
   "execution_count": 9,
   "id": "15ae44b6",
   "metadata": {},
   "outputs": [
    {
     "data": {
      "text/plain": [
       "array([45., 53., 57., 44., 24., 42., 35., 36., 54., 39., 21., 27., 60.,\n",
       "       34., 47., 37., 43., 33., 31., 25., 51., 28., 41., 40., 46., 48.,\n",
       "       32., 30., 52., 59., 26., 50., 62., 29., 55., 22., 38., 56., 23.,\n",
       "       49., 66., 74., 75., 17., 65., 64., 69., 58., 20., 19., 80., 70.,\n",
       "       81., 63., 67., 68., 72., 15., 79., 18., 73., nan, 14., 71., 61.,\n",
       "       16., 77., 13., 76., 10., 78., 12., 82., 11., 83., 89., 84., 85.,\n",
       "       87., 86.])"
      ]
     },
     "execution_count": 9,
     "metadata": {},
     "output_type": "execute_result"
    }
   ],
   "source": [
    "# вывод уникальных значений\n",
    "df['age'].unique()"
   ]
  },
  {
   "cell_type": "code",
   "execution_count": 10,
   "id": "19a3958e",
   "metadata": {},
   "outputs": [],
   "source": [
    "# изменение типа данных с заменой пропусков\n",
    "df['age'] = df['age'].fillna(0).astype(int)"
   ]
  },
  {
   "cell_type": "code",
   "execution_count": 11,
   "id": "58748545",
   "metadata": {},
   "outputs": [
    {
     "data": {
      "text/plain": [
       "array([45, 53, 57, 44, 24, 42, 35, 36, 54, 39, 21, 27, 60, 34, 47, 37, 43,\n",
       "       33, 31, 25, 51, 28, 41, 40, 46, 48, 32, 30, 52, 59, 26, 50, 62, 29,\n",
       "       55, 22, 38, 56, 23, 49, 66, 74, 75, 17, 65, 64, 69, 58, 20, 19, 80,\n",
       "       70, 81, 63, 67, 68, 72, 15, 79, 18, 73,  0, 14, 71, 61, 16, 77, 13,\n",
       "       76, 10, 78, 12, 82, 11, 83, 89, 84, 85, 87, 86])"
      ]
     },
     "execution_count": 11,
     "metadata": {},
     "output_type": "execute_result"
    }
   ],
   "source": [
    "# повторный вывод для проверки\n",
    "df['age'].unique()"
   ]
  },
  {
   "cell_type": "markdown",
   "id": "5d3e33a1",
   "metadata": {},
   "source": [
    "### Проверка и обработка дубликатов"
   ]
  },
  {
   "cell_type": "markdown",
   "id": "2d17ead7",
   "metadata": {},
   "source": [
    "Проверим, есть ли в датасете дубликаты."
   ]
  },
  {
   "cell_type": "code",
   "execution_count": 12,
   "id": "121d3fe3",
   "metadata": {},
   "outputs": [
    {
     "name": "stdout",
     "output_type": "stream",
     "text": [
      "Полных дубликатов в датасете: 0\n",
      "Дубликаты user_id: 0\n"
     ]
    }
   ],
   "source": [
    "# подсчёт полных дубликатов строк\n",
    "print('Полных дубликатов в датасете: {}'.format(df.duplicated().sum()))\n",
    "\n",
    "# подсчёт дубликтов user_id\n",
    "print('Дубликаты user_id: {}'\n",
    "      .format(df['user_id'].duplicated().sum()))"
   ]
  },
  {
   "cell_type": "markdown",
   "id": "ce3cffac",
   "metadata": {},
   "source": [
    "Дубликатов нет, можно двигаться дальше."
   ]
  },
  {
   "cell_type": "markdown",
   "id": "8481c024",
   "metadata": {},
   "source": [
    "### Логическая проверка столбцов"
   ]
  },
  {
   "cell_type": "markdown",
   "id": "991a6920",
   "metadata": {},
   "source": [
    "#### Лайфтайм-сегмент и новые-старые клиенты"
   ]
  },
  {
   "cell_type": "markdown",
   "id": "59850d80",
   "metadata": {},
   "source": [
    "Проверим, соответствует ли значение столбца 'is_new' категории лайфтайм-сегмента.  \n",
    "Значение `new` должно соответствовать следующим категориям:\n",
    "- '05 7-12',\n",
    "- '04 4-6',\n",
    "- '02 2',\n",
    "- '03 3',\n",
    "- '01 1'"
   ]
  },
  {
   "cell_type": "code",
   "execution_count": 13,
   "id": "f250e6b4",
   "metadata": {},
   "outputs": [
    {
     "data": {
      "text/plain": [
       "array(['05 7-12', '04 4-6', '02 2', '03 3', '06 13-24', '08 36+', '01 1'],\n",
       "      dtype=object)"
      ]
     },
     "execution_count": 13,
     "metadata": {},
     "output_type": "execute_result"
    }
   ],
   "source": [
    "# вывод фильтра по столбцу 'is_new'\n",
    "df.query('is_new == \"new\"')['lifetime_segment'].unique()"
   ]
  },
  {
   "cell_type": "markdown",
   "id": "015d1f5d",
   "metadata": {},
   "source": [
    "Есть несоответствия ('06 13-24', '08 36+'). Изучим их."
   ]
  },
  {
   "cell_type": "code",
   "execution_count": 14,
   "id": "361a479a",
   "metadata": {},
   "outputs": [
    {
     "name": "stdout",
     "output_type": "stream",
     "text": [
      "Ошибочные значения для \"06 13-24\": [364 363 361 362 365]\n",
      "Ошибочные значения для \"08 36+\": [ -8  -2  -4 -21 -13  -6 -12 -11  -1  -7]\n"
     ]
    }
   ],
   "source": [
    "# вывод ошибочных значений\n",
    "print('Ошибочные значения для \"06 13-24\":',\n",
    "      df.query('is_new == \"new\" and lifetime_segment == \"06 13-24\"')['lt_day'].unique())\n",
    "\n",
    "print('Ошибочные значения для \"08 36+\":',\n",
    "      df.query('is_new == \"new\" and lifetime_segment == \"08 36+\"')['lt_day'].unique())"
   ]
  },
  {
   "cell_type": "markdown",
   "id": "f18ed123",
   "metadata": {},
   "source": [
    "Тут явная ошибка в данных. Заменим ошибочные значения на медианы для каждой категории."
   ]
  },
  {
   "cell_type": "code",
   "execution_count": 15,
   "id": "2fc7c902",
   "metadata": {},
   "outputs": [],
   "source": [
    "# определение медианы\n",
    "median = df.query('lifetime_segment == \"08 36+\"')['lt_day'].median()\n",
    "# замена\n",
    "df.loc[df['lt_day'] < 0, 'lt_day'] = median\n",
    "df.loc[(df['lifetime_segment'] == \"08 36+\") & (df['is_new'] == \"new\"), 'is_new'] = 0"
   ]
  },
  {
   "cell_type": "code",
   "execution_count": null,
   "id": "81e7296b",
   "metadata": {},
   "outputs": [],
   "source": []
  },
  {
   "cell_type": "code",
   "execution_count": 16,
   "id": "a48f82d5",
   "metadata": {},
   "outputs": [],
   "source": [
    "# определение медианы\n",
    "median = df.query('lifetime_segment == \"06 13-24\"')['lt_day'].median()\n",
    "# замена\n",
    "df.loc[(df['lt_day'] < 366) & (df['lifetime_segment'] == \"06 13-24\") &\n",
    "       (df['is_new'] == \"new\"), 'lt_day'] = median\n",
    "df.loc[(df['lifetime_segment'] == \"06 13-24\") & (df['is_new'] == \"new\"), 'is_new'] = 0"
   ]
  },
  {
   "cell_type": "markdown",
   "id": "c8a148ab",
   "metadata": {},
   "source": [
    "Проверим правильность данных."
   ]
  },
  {
   "cell_type": "code",
   "execution_count": 17,
   "id": "e5c63044",
   "metadata": {},
   "outputs": [
    {
     "data": {
      "text/plain": [
       "array(['05 7-12', '04 4-6', '02 2', '03 3', '01 1'], dtype=object)"
      ]
     },
     "execution_count": 17,
     "metadata": {},
     "output_type": "execute_result"
    }
   ],
   "source": [
    "# вывод фильтра для проверки\n",
    "df.query('is_new == \"new\"')['lifetime_segment'].unique()"
   ]
  },
  {
   "cell_type": "markdown",
   "id": "753859e5",
   "metadata": {},
   "source": [
    "#### Возрастной сегмент и возраст"
   ]
  },
  {
   "cell_type": "markdown",
   "id": "11d80feb",
   "metadata": {},
   "source": [
    "Посмотрим на значения столбца с возрастным сегментом."
   ]
  },
  {
   "cell_type": "code",
   "execution_count": 18,
   "id": "b43b29ae",
   "metadata": {},
   "outputs": [
    {
     "name": "stdout",
     "output_type": "stream",
     "text": [
      "ВОЗРАСТНОЙ СЕГМЕНТ: 01 до 16\n",
      "[10, 11, 12, 13, 14, 15] \n",
      "\n",
      "ВОЗРАСТНОЙ СЕГМЕНТ: 02 16-24\n",
      "[16, 17, 18, 19, 20, 21, 22, 23, 24] \n",
      "\n",
      "ВОЗРАСТНОЙ СЕГМЕНТ: 03 25-34\n",
      "[25, 26, 27, 28, 29, 30, 31, 32, 33, 34] \n",
      "\n",
      "ВОЗРАСТНОЙ СЕГМЕНТ: 04 35-44\n",
      "[35, 36, 37, 38, 39, 40, 41, 42, 43, 44] \n",
      "\n",
      "ВОЗРАСТНОЙ СЕГМЕНТ: 05 45-54\n",
      "[45, 46, 47, 48, 49, 50, 51, 52, 53, 54] \n",
      "\n",
      "ВОЗРАСТНОЙ СЕГМЕНТ: 06 55-64\n",
      "[55, 56, 57, 58, 59, 60, 61, 62, 63, 64] \n",
      "\n",
      "ВОЗРАСТНОЙ СЕГМЕНТ: 07 66 +\n",
      "[65, 66, 67, 68, 69, 70, 71, 72, 73, 74, 75, 76, 77, 78, 79, 80, 81, 82, 83, 84, 85, 86, 87, 89] \n",
      "\n",
      "ВОЗРАСТНОЙ СЕГМЕНТ: 08 n/a\n",
      "[0] \n",
      "\n"
     ]
    }
   ],
   "source": [
    "# получение уникальных значений столбца с возрастными сегментами и сортировка\n",
    "age_segments = sorted(df['age_segment'].unique())\n",
    "\n",
    "# вывод каждого возрастного сегмента с уникальными значениями возрастов для сегмента\n",
    "for segment in age_segments:\n",
    "    print('ВОЗРАСТНОЙ СЕГМЕНТ:', segment)\n",
    "    print(sorted(df[df['age_segment'] == segment]['age'].unique()),'\\n')"
   ]
  },
  {
   "cell_type": "markdown",
   "id": "816a5841",
   "metadata": {},
   "source": [
    "Возраст 65 лет приходится на возрастной сегмент '07 66 +', а в названиях сегментов нет диапазона, куда мог бы попасть этот возраст."
   ]
  },
  {
   "cell_type": "markdown",
   "id": "574d2987",
   "metadata": {},
   "source": [
    "Изменим название сегмента '07 66 +' на '07 65 +', так как все значения 65 лет входят в категория '07 66 +'."
   ]
  },
  {
   "cell_type": "code",
   "execution_count": 19,
   "id": "3095c50c",
   "metadata": {},
   "outputs": [],
   "source": [
    "# изменение названия сегмента\n",
    "df['age_segment'] = df['age_segment'].replace('07 66 +', '07 65 +')"
   ]
  },
  {
   "cell_type": "code",
   "execution_count": 20,
   "id": "63461b14",
   "metadata": {},
   "outputs": [
    {
     "data": {
      "text/plain": [
       "array(['05 45-54', '06 55-64', '04 35-44', '02 16-24', '03 25-34',\n",
       "       '07 65 +', '01 до 16', '08 n/a'], dtype=object)"
      ]
     },
     "execution_count": 20,
     "metadata": {},
     "output_type": "execute_result"
    }
   ],
   "source": [
    "# вывод всех значений столбца с сегментами (проверка)\n",
    "df['age_segment'].unique()"
   ]
  },
  {
   "cell_type": "markdown",
   "id": "c48a5bac",
   "metadata": {},
   "source": [
    "#### Географические данные"
   ]
  },
  {
   "cell_type": "markdown",
   "id": "52976c80",
   "metadata": {},
   "source": [
    "Посмотрим, какие значения встречаются в столбцах с географическими данными."
   ]
  },
  {
   "cell_type": "code",
   "execution_count": 21,
   "id": "1b62f649",
   "metadata": {},
   "outputs": [
    {
     "name": "stdout",
     "output_type": "stream",
     "text": [
      "['Россия']\n",
      "['Уфа' 'Киров' 'Москва' 'РостовнаДону' 'Рязань' 'Омск' 'СанктПетербург'\n",
      " 'Волгоград' 'Тольятти' 'Казань' 'Самара' 'Красноярск' 'Екатеринбург'\n",
      " 'Калуга' 'Краснодар' 'Иркутск' 'Пермь' 'Владимир' 'Ижевск' 'Тюмень'\n",
      " 'Оренбург' 'НижнийНовгород' 'Брянск' 'Челябинск' 'Астрахань' 'Сургут'\n",
      " 'Тверь' 'Новосибирск' 'НабережныеЧелны' 'Махачкала' 'Воронеж' 'Курск'\n",
      " 'Владивосток' 'Балашиха' 'Пенза' 'Калининград' 'Тула' 'Саратов'\n",
      " 'Кемерово' 'Белгород' 'Барнаул' 'Чебоксары' 'Архангельск' 'Томск'\n",
      " 'Ярославль' 'Ульяновск' 'Хабаровск' 'Грозный' 'Ставрополь' 'Липецк'\n",
      " 'Новокузнецк' 'Якутск' 'УланУдэ' 'Сочи' 'Иваново' 'НижнийТагил'\n",
      " 'Смоленск' 'Волжский' 'Магнитогорск' 'Чита' 'Череповец' 'Саранск']\n"
     ]
    }
   ],
   "source": [
    "# вывод информации\n",
    "print(df['country'].unique())\n",
    "print(df['city'].unique())"
   ]
  },
  {
   "cell_type": "markdown",
   "id": "a35ac73f",
   "metadata": {},
   "source": [
    "Создадим дополнительный столбец с английскими эквивалентами названий городов."
   ]
  },
  {
   "cell_type": "code",
   "execution_count": 22,
   "id": "c2d84bf0",
   "metadata": {},
   "outputs": [],
   "source": [
    "# создание словаря\n",
    "city_dict = {'Уфа': 'Ufa', 'Киров': 'Kirov', 'Москва': 'Moscow', 'РостовнаДону': 'Rostov-on-Don',\n",
    "             'Рязань': 'Ryazan', 'Омск': 'Omsk','СанктПетербург': 'SaintPetersburg',\n",
    "             'Волгоград': 'Volgograd', 'Тольятти': 'Tolyatti', 'Казань': 'Kazan',\n",
    "             'Самара': 'Samara','Красноярск': 'Krasnoyarsk', 'Екатеринбург': 'Yekaterinburg',\n",
    "             'Калуга': 'Kaluga', 'Краснодар': 'Krasnodar', 'Иркутск': 'Irkutsk',\n",
    "             'Пермь': 'Perm', 'Владимир': 'Vladimir', 'Ижевск': 'Izhevsk', 'Тюмень': 'Tyumen',\n",
    "             'Оренбург': 'Orenburg','НижнийНовгород': 'Nizhny Novgorod', 'Брянск': 'Bryansk',\n",
    "             'Челябинск': 'Chelyabinsk', 'Астрахань': 'Astrakhan', 'Сургут': 'Surgut',\n",
    "             'Тверь': 'Tver', 'Новосибирск': 'Novosibirsk', 'НабережныеЧелны': 'Naberezhnye Chelny',\n",
    "             'Махачкала': 'Makhachkala', 'Воронеж': 'Voronezh','Курск': 'Kursk',\n",
    "             'Владивосток': 'Vladivostok', 'Балашиха': 'Balashikha', 'Пенза': 'Penza',\n",
    "             'Калининград': 'Kaliningrad', 'Тула': 'Tula','Саратов': 'Saratov', 'Кемерово': 'Kemerovo',\n",
    "             'Белгород': 'Belgorod', 'Барнаул': 'Barnaul', 'Чебоксары': 'Cheboksary',\n",
    "             'Архангельск': 'Arkhangelsk', 'Томск': 'Tomsk', 'Ярославль': 'Yaroslavl',\n",
    "             'Ульяновск': 'Ulyanovsk', 'Хабаровск': 'Khabarovsk', 'Грозный': 'Grozny',\n",
    "             'Ставрополь': 'Stavropol', 'Липецк': 'Lipetsk', 'Новокузнецк': 'Novokuznetsk',\n",
    "             'Якутск': 'Yakutsk', 'УланУдэ': 'Ulan-Ude', 'Сочи': 'Sochi', 'Иваново': 'Ivanovo',\n",
    "             'НижнийТагил': 'Nizhny Tagil', 'Смоленск': 'Smolensk', 'Волжский': 'Volzhsky',\n",
    "             'Магнитогорск': 'Magnitogorsk', 'Чита': 'Chita', 'Череповец': 'Cherepovets', 'Саранск': 'Saransk'}\n",
    "\n",
    "# добавление столбца\n",
    "df['city_en'] = df['city'].map(city_dict)"
   ]
  },
  {
   "cell_type": "code",
   "execution_count": 23,
   "id": "23d9d7db",
   "metadata": {},
   "outputs": [
    {
     "data": {
      "text/html": [
       "<div>\n",
       "<style scoped>\n",
       "    .dataframe tbody tr th:only-of-type {\n",
       "        vertical-align: middle;\n",
       "    }\n",
       "\n",
       "    .dataframe tbody tr th {\n",
       "        vertical-align: top;\n",
       "    }\n",
       "\n",
       "    .dataframe thead th {\n",
       "        text-align: right;\n",
       "    }\n",
       "</style>\n",
       "<table border=\"1\" class=\"dataframe\">\n",
       "  <thead>\n",
       "    <tr style=\"text-align: right;\">\n",
       "      <th></th>\n",
       "      <th>city</th>\n",
       "      <th>city_en</th>\n",
       "    </tr>\n",
       "  </thead>\n",
       "  <tbody>\n",
       "    <tr>\n",
       "      <th>408473</th>\n",
       "      <td>Казань</td>\n",
       "      <td>Kazan</td>\n",
       "    </tr>\n",
       "    <tr>\n",
       "      <th>288367</th>\n",
       "      <td>Москва</td>\n",
       "      <td>Moscow</td>\n",
       "    </tr>\n",
       "    <tr>\n",
       "      <th>333439</th>\n",
       "      <td>Красноярск</td>\n",
       "      <td>Krasnoyarsk</td>\n",
       "    </tr>\n",
       "  </tbody>\n",
       "</table>\n",
       "</div>"
      ],
      "text/plain": [
       "              city      city_en\n",
       "408473      Казань        Kazan\n",
       "288367      Москва       Moscow\n",
       "333439  Красноярск  Krasnoyarsk"
      ]
     },
     "execution_count": 23,
     "metadata": {},
     "output_type": "execute_result"
    }
   ],
   "source": [
    "# проверка\n",
    "df[['city', 'city_en']].sample(n=3)"
   ]
  },
  {
   "cell_type": "markdown",
   "id": "17db9af2",
   "metadata": {},
   "source": [
    "__Данные предобработаны, можно выгружать получившуюся таблицу для работы в Tableu.__"
   ]
  },
  {
   "cell_type": "markdown",
   "id": "b065c112",
   "metadata": {},
   "source": [
    "## Выгрузка данных"
   ]
  },
  {
   "cell_type": "code",
   "execution_count": 24,
   "id": "85d0ddfb",
   "metadata": {},
   "outputs": [],
   "source": [
    "# сохранение таблицы на компьютер для дальнейшей работы\n",
    "df.to_csv('df_telecomm.csv', index=False)"
   ]
  },
  {
   "cell_type": "markdown",
   "id": "ff8d1d6e",
   "metadata": {},
   "source": [
    "## Презентация"
   ]
  },
  {
   "cell_type": "markdown",
   "id": "35a6e69b",
   "metadata": {},
   "source": [
    "Дашборд доступен по ссылке: <https://public.tableau.com/views/telecommNPSproject/sheet0?:language=en-US&publish=yes&:display_count=n&:origin=viz_share_link>"
   ]
  },
  {
   "cell_type": "code",
   "execution_count": null,
   "id": "d812e8a8",
   "metadata": {},
   "outputs": [],
   "source": []
  }
 ],
 "metadata": {
  "ExecuteTimeLog": [
   {
    "duration": 566,
    "start_time": "2023-09-20T14:17:57.294Z"
   },
   {
    "duration": 6321,
    "start_time": "2023-09-20T14:17:57.863Z"
   },
   {
    "duration": 10,
    "start_time": "2023-09-20T14:18:04.186Z"
   },
   {
    "duration": 80,
    "start_time": "2023-09-20T14:18:04.199Z"
   },
   {
    "duration": 552,
    "start_time": "2023-09-20T14:18:04.282Z"
   },
   {
    "duration": 553,
    "start_time": "2023-09-20T14:18:04.836Z"
   },
   {
    "duration": 17,
    "start_time": "2023-09-20T14:18:05.391Z"
   },
   {
    "duration": 17,
    "start_time": "2023-09-20T14:18:05.411Z"
   },
   {
    "duration": 33,
    "start_time": "2023-09-20T14:18:05.431Z"
   },
   {
    "duration": 2047,
    "start_time": "2023-09-20T14:18:05.466Z"
   },
   {
    "duration": 168,
    "start_time": "2023-09-20T14:18:07.516Z"
   },
   {
    "duration": 142,
    "start_time": "2023-09-20T14:18:07.686Z"
   },
   {
    "duration": 395,
    "start_time": "2023-09-20T14:18:07.829Z"
   },
   {
    "duration": 297,
    "start_time": "2023-09-20T14:18:08.227Z"
   },
   {
    "duration": 166,
    "start_time": "2023-09-20T14:18:08.527Z"
   },
   {
    "duration": 1241,
    "start_time": "2023-09-20T14:18:08.696Z"
   },
   {
    "duration": 128,
    "start_time": "2023-09-20T14:18:09.939Z"
   },
   {
    "duration": 163,
    "start_time": "2023-09-20T14:18:10.069Z"
   },
   {
    "duration": 191,
    "start_time": "2023-09-20T14:18:10.234Z"
   },
   {
    "duration": 171,
    "start_time": "2023-09-20T14:18:10.427Z"
   },
   {
    "duration": 641,
    "start_time": "2023-09-20T14:18:10.600Z"
   },
   {
    "duration": 6440,
    "start_time": "2023-09-20T14:18:11.244Z"
   },
   {
    "duration": 588,
    "start_time": "2023-09-22T12:32:13.789Z"
   },
   {
    "duration": 5570,
    "start_time": "2023-09-22T12:32:14.379Z"
   },
   {
    "duration": 9,
    "start_time": "2023-09-22T12:32:19.951Z"
   },
   {
    "duration": 65,
    "start_time": "2023-09-22T12:32:19.962Z"
   },
   {
    "duration": 452,
    "start_time": "2023-09-22T12:32:20.029Z"
   },
   {
    "duration": 463,
    "start_time": "2023-09-22T12:32:20.483Z"
   },
   {
    "duration": 75,
    "start_time": "2023-09-22T12:32:20.949Z"
   },
   {
    "duration": 39,
    "start_time": "2023-09-22T12:32:21.026Z"
   },
   {
    "duration": 36,
    "start_time": "2023-09-22T12:32:21.068Z"
   },
   {
    "duration": 1620,
    "start_time": "2023-09-22T12:32:21.108Z"
   },
   {
    "duration": 75,
    "start_time": "2023-09-22T12:32:22.731Z"
   },
   {
    "duration": 210,
    "start_time": "2023-09-22T12:32:22.808Z"
   },
   {
    "duration": 361,
    "start_time": "2023-09-22T12:32:23.020Z"
   },
   {
    "duration": 335,
    "start_time": "2023-09-22T12:32:23.383Z"
   },
   {
    "duration": 56,
    "start_time": "2023-09-22T12:32:23.719Z"
   },
   {
    "duration": 1050,
    "start_time": "2023-09-22T12:32:23.777Z"
   },
   {
    "duration": 89,
    "start_time": "2023-09-22T12:32:24.828Z"
   },
   {
    "duration": 104,
    "start_time": "2023-09-22T12:32:24.919Z"
   },
   {
    "duration": 141,
    "start_time": "2023-09-22T12:32:25.025Z"
   },
   {
    "duration": 144,
    "start_time": "2023-09-22T12:32:25.167Z"
   },
   {
    "duration": 611,
    "start_time": "2023-09-22T12:32:25.313Z"
   },
   {
    "duration": 5293,
    "start_time": "2023-09-22T12:32:25.926Z"
   },
   {
    "duration": 132,
    "start_time": "2023-09-22T13:16:45.559Z"
   },
   {
    "duration": 241,
    "start_time": "2023-09-22T13:21:56.804Z"
   },
   {
    "duration": 492,
    "start_time": "2023-09-22T23:29:27.825Z"
   },
   {
    "duration": 5704,
    "start_time": "2023-09-22T23:29:28.319Z"
   },
   {
    "duration": 9,
    "start_time": "2023-09-22T23:29:34.024Z"
   },
   {
    "duration": 53,
    "start_time": "2023-09-22T23:29:34.035Z"
   },
   {
    "duration": 535,
    "start_time": "2023-09-22T23:29:34.090Z"
   },
   {
    "duration": 526,
    "start_time": "2023-09-22T23:29:34.627Z"
   },
   {
    "duration": 9,
    "start_time": "2023-09-22T23:29:35.155Z"
   },
   {
    "duration": 240,
    "start_time": "2023-09-22T23:29:35.165Z"
   },
   {
    "duration": 58,
    "start_time": "2023-09-22T23:29:35.407Z"
   },
   {
    "duration": 1806,
    "start_time": "2023-09-22T23:29:35.468Z"
   },
   {
    "duration": 71,
    "start_time": "2023-09-22T23:29:37.276Z"
   },
   {
    "duration": 220,
    "start_time": "2023-09-22T23:29:37.349Z"
   },
   {
    "duration": 414,
    "start_time": "2023-09-22T23:29:37.571Z"
   },
   {
    "duration": 372,
    "start_time": "2023-09-22T23:29:37.987Z"
   },
   {
    "duration": 64,
    "start_time": "2023-09-22T23:29:38.361Z"
   },
   {
    "duration": 1020,
    "start_time": "2023-09-22T23:29:38.427Z"
   },
   {
    "duration": 96,
    "start_time": "2023-09-22T23:29:39.449Z"
   },
   {
    "duration": 110,
    "start_time": "2023-09-22T23:29:39.546Z"
   },
   {
    "duration": 160,
    "start_time": "2023-09-22T23:29:39.658Z"
   },
   {
    "duration": 146,
    "start_time": "2023-09-22T23:29:39.819Z"
   },
   {
    "duration": 600,
    "start_time": "2023-09-22T23:29:39.967Z"
   },
   {
    "duration": 5598,
    "start_time": "2023-09-22T23:29:40.568Z"
   }
  ],
  "hide_input": false,
  "kernelspec": {
   "display_name": "Python 3 (ipykernel)",
   "language": "python",
   "name": "python3"
  },
  "language_info": {
   "codemirror_mode": {
    "name": "ipython",
    "version": 3
   },
   "file_extension": ".py",
   "mimetype": "text/x-python",
   "name": "python",
   "nbconvert_exporter": "python",
   "pygments_lexer": "ipython3",
   "version": "3.9.12"
  },
  "toc": {
   "base_numbering": 1,
   "nav_menu": {},
   "number_sections": true,
   "sideBar": true,
   "skip_h1_title": true,
   "title_cell": "Table of Contents",
   "title_sidebar": "Contents",
   "toc_cell": false,
   "toc_position": {},
   "toc_section_display": true,
   "toc_window_display": true
  }
 },
 "nbformat": 4,
 "nbformat_minor": 5
}
