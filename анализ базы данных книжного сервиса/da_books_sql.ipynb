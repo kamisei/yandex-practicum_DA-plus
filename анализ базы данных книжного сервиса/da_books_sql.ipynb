{
 "cells": [
  {
   "cell_type": "markdown",
   "id": "eb610e04",
   "metadata": {},
   "source": [
    "# Анализ базы данных книжного сервиса"
   ]
  },
  {
   "cell_type": "markdown",
   "id": "fdadd311",
   "metadata": {},
   "source": [
    "__ЦЕЛЬ ИССЛЕДОВАНИЯ__\n",
    "\n",
    "Провести анализ базы данных для формулирования ценностного предложения нового продукта.\n",
    "\n",
    "__ЗАДАЧИ ИССЛЕДОВАНИЯ__\n",
    "\n",
    "С помощью SQL-запросов к базе данных:\n",
    "- Посчитать сколько книг вышло после 1 января 2000 года.\n",
    "- Для каждой книги посчитать количество обзоров и среднюю оценку.\n",
    "- Определите издательство, которое выпустило наибольшее число книг толще 50 страниц.\n",
    "- Определить автора с самой высокой средней оценкой книг для книг с 50 и более оценками.\n",
    "- Посчитать среднее количество обзоров от пользователей, которые поставили больше 48 оценок.\n",
    "\n",
    "__ОПИСАНИЕ ДАННЫХ__\n",
    "\n",
    "Таблица `books`. Содержит данные о книгах:\n",
    "- `book_id` — идентификатор книги;\n",
    "- `author_id` — идентификатор автора;\n",
    "- `title` — название книги;\n",
    "- `num_pages` — количество страниц;\n",
    "- `publication_date` — дата публикации книги;\n",
    "- `publisher_id` — идентификатор издателя.\n",
    "\n",
    "Таблица `authors`. Содержит данные об авторах:\n",
    "- `author_id` — идентификатор автора;\n",
    "- `author` — имя автора.\n",
    "\n",
    "Таблица `publishers`. Содержит данные об издательствах:\n",
    "- `publisher_id` — идентификатор издательства;\n",
    "- `publisher` — название издательства;\n",
    "\n",
    " Таблица `ratings`. Содержит данные о пользовательских оценках книг:\n",
    "- `rating_id` — идентификатор оценки;\n",
    "- `book_id` — идентификатор книги;\n",
    "- `username` — имя пользователя, оставившего оценку;\n",
    "- `rating` — оценка книги.\n",
    "\n",
    "Таблица `reviews`. Содержит данные о пользовательских обзорах на книги:\n",
    "- `review_id` — идентификатор обзора;\n",
    "- `book_id` — идентификатор книги;\n",
    "- `username` — имя пользователя, написавшего обзор;\n",
    "- `text` — текст обзора."
   ]
  },
  {
   "cell_type": "markdown",
   "id": "b8090696",
   "metadata": {},
   "source": [
    "<div style=\"border:solid darkblue 2px; padding: 20px\">    \n",
    "СХЕМА ДАННЫХ\n",
    " <img src=\"//pictures.s3.yandex.net/resources/scheme_1589269096.png\" />\n",
    "</div>"
   ]
  },
  {
   "cell_type": "markdown",
   "id": "fba1bac1",
   "metadata": {},
   "source": [
    "__ПЛАН РАБОТЫ__\n",
    "1. Загрузить и настроить необходимые библиотеки.\n",
    "2. Подключиться к базе данных.\n",
    "3. Прочитать и проверить необходимые таблицы.\n",
    "4. Последовательно выполнить все задачи проекта.\n",
    "5. Составить выводы."
   ]
  },
  {
   "cell_type": "markdown",
   "id": "482b6885",
   "metadata": {},
   "source": [
    "## Загрузка и настройка библиотек"
   ]
  },
  {
   "cell_type": "markdown",
   "id": "a5d8418f",
   "metadata": {},
   "source": [
    "Для данной работы нам необходимо совсем немного библиотек."
   ]
  },
  {
   "cell_type": "code",
   "execution_count": 1,
   "id": "5b968b44",
   "metadata": {},
   "outputs": [
    {
     "name": "stdout",
     "output_type": "stream",
     "text": [
      "Библиотеки успешно загружены!\n"
     ]
    }
   ],
   "source": [
    "# импорт библиотек\n",
    "import pandas as pd\n",
    "import sqlalchemy as sa\n",
    "\n",
    "print('Библиотеки успешно загружены!')"
   ]
  },
  {
   "cell_type": "markdown",
   "id": "37ebebbd",
   "metadata": {},
   "source": [
    "## Подключение к базе данных"
   ]
  },
  {
   "cell_type": "markdown",
   "id": "a5bafc56",
   "metadata": {},
   "source": [
    "Зададим нужные параметры для подключения к базе данных."
   ]
  },
  {
   "cell_type": "code",
   "execution_count": 2,
   "id": "d69f25d1",
   "metadata": {},
   "outputs": [],
   "source": [
    "# установка параметров конфигурации для доступа к базе данных (данные конфиденциальны)\n",
    "db_config = {\n",
    "            'user': , # имя пользователя\n",
    "            'pwd': , # пароль\n",
    "            'host': ,\n",
    "            'port': , # порт подключения\n",
    "            'db': '' # название базы данных\n",
    "            }\n",
    "connection_string = 'postgresql://{user}:{pwd}@{host}:{port}/{db}'.format(**db_config)\n",
    "\n",
    "# сохранение коннектора\n",
    "engine = sa.create_engine(connection_string, connect_args={'sslmode':'require'})"
   ]
  },
  {
   "cell_type": "markdown",
   "id": "af3086da",
   "metadata": {},
   "source": [
    "Для удобства дальнейшей работы зададим простую функцию выдачи результата запроса."
   ]
  },
  {
   "cell_type": "code",
   "execution_count": 3,
   "id": "fa2845c6",
   "metadata": {},
   "outputs": [],
   "source": [
    "# создание функции\n",
    "def def_get_sql(query):\n",
    "    # описание функции\n",
    "    \"\"\"\n",
    "    Эта функция открывает соединение, получает данные из SQL-запроса, закрывает соединение.\n",
    "    \n",
    "    Принимает на вход:\n",
    "    - query - SQL-запрос\n",
    "    \n",
    "    \"\"\"\n",
    "    # получение данных\n",
    "    with engine.connect() as con:\n",
    "        return pd.read_sql(sql=sa.text(query), con = con)"
   ]
  },
  {
   "cell_type": "markdown",
   "id": "28aab562",
   "metadata": {},
   "source": [
    "## Чтение и проверка исходных таблиц"
   ]
  },
  {
   "cell_type": "markdown",
   "id": "aaca8d5e",
   "metadata": {},
   "source": [
    "Посмотрим на все исходные таблицы: с помощью SQL-запроса выведем первые 5 строк каждого датасета."
   ]
  },
  {
   "cell_type": "code",
   "execution_count": 4,
   "id": "f4a1920e",
   "metadata": {},
   "outputs": [
    {
     "name": "stdout",
     "output_type": "stream",
     "text": [
      "\u001b[1;31mТаблица `books` - примеры строк:\u001b[0m\n"
     ]
    },
    {
     "data": {
      "text/html": [
       "<div>\n",
       "<style scoped>\n",
       "    .dataframe tbody tr th:only-of-type {\n",
       "        vertical-align: middle;\n",
       "    }\n",
       "\n",
       "    .dataframe tbody tr th {\n",
       "        vertical-align: top;\n",
       "    }\n",
       "\n",
       "    .dataframe thead th {\n",
       "        text-align: right;\n",
       "    }\n",
       "</style>\n",
       "<table border=\"1\" class=\"dataframe\">\n",
       "  <thead>\n",
       "    <tr style=\"text-align: right;\">\n",
       "      <th></th>\n",
       "      <th>book_id</th>\n",
       "      <th>author_id</th>\n",
       "      <th>title</th>\n",
       "      <th>num_pages</th>\n",
       "      <th>publication_date</th>\n",
       "      <th>publisher_id</th>\n",
       "    </tr>\n",
       "  </thead>\n",
       "  <tbody>\n",
       "    <tr>\n",
       "      <th>0</th>\n",
       "      <td>1</td>\n",
       "      <td>546</td>\n",
       "      <td>'Salem's Lot</td>\n",
       "      <td>594</td>\n",
       "      <td>2005-11-01</td>\n",
       "      <td>93</td>\n",
       "    </tr>\n",
       "    <tr>\n",
       "      <th>1</th>\n",
       "      <td>2</td>\n",
       "      <td>465</td>\n",
       "      <td>1 000 Places to See Before You Die</td>\n",
       "      <td>992</td>\n",
       "      <td>2003-05-22</td>\n",
       "      <td>336</td>\n",
       "    </tr>\n",
       "    <tr>\n",
       "      <th>2</th>\n",
       "      <td>3</td>\n",
       "      <td>407</td>\n",
       "      <td>13 Little Blue Envelopes (Little Blue Envelope...</td>\n",
       "      <td>322</td>\n",
       "      <td>2010-12-21</td>\n",
       "      <td>135</td>\n",
       "    </tr>\n",
       "    <tr>\n",
       "      <th>3</th>\n",
       "      <td>4</td>\n",
       "      <td>82</td>\n",
       "      <td>1491: New Revelations of the Americas Before C...</td>\n",
       "      <td>541</td>\n",
       "      <td>2006-10-10</td>\n",
       "      <td>309</td>\n",
       "    </tr>\n",
       "    <tr>\n",
       "      <th>4</th>\n",
       "      <td>5</td>\n",
       "      <td>125</td>\n",
       "      <td>1776</td>\n",
       "      <td>386</td>\n",
       "      <td>2006-07-04</td>\n",
       "      <td>268</td>\n",
       "    </tr>\n",
       "  </tbody>\n",
       "</table>\n",
       "</div>"
      ],
      "text/plain": [
       "   book_id  author_id                                              title  \\\n",
       "0        1        546                                       'Salem's Lot   \n",
       "1        2        465                 1 000 Places to See Before You Die   \n",
       "2        3        407  13 Little Blue Envelopes (Little Blue Envelope...   \n",
       "3        4         82  1491: New Revelations of the Americas Before C...   \n",
       "4        5        125                                               1776   \n",
       "\n",
       "   num_pages publication_date  publisher_id  \n",
       "0        594       2005-11-01            93  \n",
       "1        992       2003-05-22           336  \n",
       "2        322       2010-12-21           135  \n",
       "3        541       2006-10-10           309  \n",
       "4        386       2006-07-04           268  "
      ]
     },
     "metadata": {},
     "output_type": "display_data"
    }
   ],
   "source": [
    "# создание SQL-запроса\n",
    "query = '''\n",
    "SELECT *\n",
    "FROM books\n",
    "LIMIT 5\n",
    "\n",
    "'''\n",
    "\n",
    "# вывод заголовка\n",
    "print(\"\\033[1;31mТаблица `books` - примеры строк:\\033[0m\")\n",
    "\n",
    "# вывод результата запроса\n",
    "display(def_get_sql(query))"
   ]
  },
  {
   "cell_type": "code",
   "execution_count": 5,
   "id": "afd6eeeb",
   "metadata": {},
   "outputs": [
    {
     "name": "stdout",
     "output_type": "stream",
     "text": [
      "\u001b[1;31mТаблица `books` - обзор данных:\u001b[0m\n",
      "- Количество книг: 1000\n",
      "- Количество авторов: 636\n",
      "- Количество издательств: 340\n",
      "- Минимальное количество страниц в книге: 14\n",
      "- Максимальное количество страниц в книге: 2690\n",
      "- Самая ранняя дата публикации: 1952-12-01\n",
      "- Самая поздняя дата публикации: 2020-03-31\n"
     ]
    }
   ],
   "source": [
    "# создание SQL-запроса\n",
    "query = '''\n",
    "SELECT COUNT(DISTINCT book_id) AS count_books,\n",
    "       COUNT(DISTINCT author_id) AS count_authors,\n",
    "       COUNT(DISTINCT publisher_id) AS count_publishers,\n",
    "       MAX(num_pages) AS max_pages,\n",
    "       MIN(num_pages) AS min_pages,\n",
    "       MIN(publication_date) AS min_date,\n",
    "       MAX(publication_date) AS max_date\n",
    "FROM books\n",
    "\n",
    "'''\n",
    "\n",
    "# получение результата запроса\n",
    "result = def_get_sql(query)\n",
    "\n",
    "# вывод заголовка\n",
    "print(\"\\033[1;31mТаблица `books` - обзор данных:\\033[0m\")\n",
    "\n",
    "# вывод результата запроса\n",
    "print('- Количество книг:', result['count_books'].values[0])\n",
    "print('- Количество авторов:', result['count_authors'].values[0])\n",
    "print('- Количество издательств:', result['count_publishers'].values[0])\n",
    "print('- Минимальное количество страниц в книге:', result['min_pages'].values[0])\n",
    "print('- Максимальное количество страниц в книге:', result['max_pages'].values[0])\n",
    "print('- Самая ранняя дата публикации:', result['min_date'].values[0])\n",
    "print('- Самая поздняя дата публикации:', result['max_date'].values[0])"
   ]
  },
  {
   "cell_type": "code",
   "execution_count": 6,
   "id": "4cb02a7b",
   "metadata": {},
   "outputs": [
    {
     "name": "stdout",
     "output_type": "stream",
     "text": [
      "\u001b[1;31mТаблица `authors` - примеры строк:\u001b[0m\n"
     ]
    },
    {
     "data": {
      "text/html": [
       "<div>\n",
       "<style scoped>\n",
       "    .dataframe tbody tr th:only-of-type {\n",
       "        vertical-align: middle;\n",
       "    }\n",
       "\n",
       "    .dataframe tbody tr th {\n",
       "        vertical-align: top;\n",
       "    }\n",
       "\n",
       "    .dataframe thead th {\n",
       "        text-align: right;\n",
       "    }\n",
       "</style>\n",
       "<table border=\"1\" class=\"dataframe\">\n",
       "  <thead>\n",
       "    <tr style=\"text-align: right;\">\n",
       "      <th></th>\n",
       "      <th>author_id</th>\n",
       "      <th>author</th>\n",
       "    </tr>\n",
       "  </thead>\n",
       "  <tbody>\n",
       "    <tr>\n",
       "      <th>0</th>\n",
       "      <td>1</td>\n",
       "      <td>A.S. Byatt</td>\n",
       "    </tr>\n",
       "    <tr>\n",
       "      <th>1</th>\n",
       "      <td>2</td>\n",
       "      <td>Aesop/Laura Harris/Laura Gibbs</td>\n",
       "    </tr>\n",
       "    <tr>\n",
       "      <th>2</th>\n",
       "      <td>3</td>\n",
       "      <td>Agatha Christie</td>\n",
       "    </tr>\n",
       "    <tr>\n",
       "      <th>3</th>\n",
       "      <td>4</td>\n",
       "      <td>Alan Brennert</td>\n",
       "    </tr>\n",
       "    <tr>\n",
       "      <th>4</th>\n",
       "      <td>5</td>\n",
       "      <td>Alan Moore/David   Lloyd</td>\n",
       "    </tr>\n",
       "  </tbody>\n",
       "</table>\n",
       "</div>"
      ],
      "text/plain": [
       "   author_id                          author\n",
       "0          1                      A.S. Byatt\n",
       "1          2  Aesop/Laura Harris/Laura Gibbs\n",
       "2          3                 Agatha Christie\n",
       "3          4                   Alan Brennert\n",
       "4          5        Alan Moore/David   Lloyd"
      ]
     },
     "metadata": {},
     "output_type": "display_data"
    }
   ],
   "source": [
    "# создание SQL-запроса\n",
    "query = '''\n",
    "SELECT *\n",
    "FROM authors\n",
    "LIMIT 5\n",
    "\n",
    "'''\n",
    "\n",
    "# вывод заголовка\n",
    "print(\"\\033[1;31mТаблица `authors` - примеры строк:\\033[0m\")\n",
    "\n",
    "# вывод результата запроса\n",
    "display(def_get_sql(query))"
   ]
  },
  {
   "cell_type": "code",
   "execution_count": 7,
   "id": "14fa7f95",
   "metadata": {},
   "outputs": [
    {
     "name": "stdout",
     "output_type": "stream",
     "text": [
      "\u001b[1;31mТаблица `authors` - обзор данных:\u001b[0m\n",
      "В таблице представлено 636 авторов.\n"
     ]
    }
   ],
   "source": [
    "# создание SQL-запроса\n",
    "query = '''\n",
    "SELECT COUNT(author_id) AS count_authors\n",
    "FROM authors\n",
    "\n",
    "'''\n",
    "\n",
    "# получение результата запроса\n",
    "result = def_get_sql(query)['count_authors'].values[0]\n",
    "\n",
    "\n",
    "# вывод заголовка\n",
    "print(\"\\033[1;31mТаблица `authors` - обзор данных:\\033[0m\")\n",
    "\n",
    "# вывод результата запроса\n",
    "print(f\"В таблице представлено {result} авторов.\")"
   ]
  },
  {
   "cell_type": "code",
   "execution_count": 8,
   "id": "a6894525",
   "metadata": {},
   "outputs": [
    {
     "name": "stdout",
     "output_type": "stream",
     "text": [
      "\u001b[1;31mТаблица `publishers` - примеры строк:\u001b[0m\n"
     ]
    },
    {
     "data": {
      "text/html": [
       "<div>\n",
       "<style scoped>\n",
       "    .dataframe tbody tr th:only-of-type {\n",
       "        vertical-align: middle;\n",
       "    }\n",
       "\n",
       "    .dataframe tbody tr th {\n",
       "        vertical-align: top;\n",
       "    }\n",
       "\n",
       "    .dataframe thead th {\n",
       "        text-align: right;\n",
       "    }\n",
       "</style>\n",
       "<table border=\"1\" class=\"dataframe\">\n",
       "  <thead>\n",
       "    <tr style=\"text-align: right;\">\n",
       "      <th></th>\n",
       "      <th>publisher_id</th>\n",
       "      <th>publisher</th>\n",
       "    </tr>\n",
       "  </thead>\n",
       "  <tbody>\n",
       "    <tr>\n",
       "      <th>0</th>\n",
       "      <td>1</td>\n",
       "      <td>Ace</td>\n",
       "    </tr>\n",
       "    <tr>\n",
       "      <th>1</th>\n",
       "      <td>2</td>\n",
       "      <td>Ace Book</td>\n",
       "    </tr>\n",
       "    <tr>\n",
       "      <th>2</th>\n",
       "      <td>3</td>\n",
       "      <td>Ace Books</td>\n",
       "    </tr>\n",
       "    <tr>\n",
       "      <th>3</th>\n",
       "      <td>4</td>\n",
       "      <td>Ace Hardcover</td>\n",
       "    </tr>\n",
       "    <tr>\n",
       "      <th>4</th>\n",
       "      <td>5</td>\n",
       "      <td>Addison Wesley Publishing Company</td>\n",
       "    </tr>\n",
       "  </tbody>\n",
       "</table>\n",
       "</div>"
      ],
      "text/plain": [
       "   publisher_id                          publisher\n",
       "0             1                                Ace\n",
       "1             2                           Ace Book\n",
       "2             3                          Ace Books\n",
       "3             4                      Ace Hardcover\n",
       "4             5  Addison Wesley Publishing Company"
      ]
     },
     "metadata": {},
     "output_type": "display_data"
    }
   ],
   "source": [
    "# создание SQL-запроса\n",
    "query = '''\n",
    "SELECT *\n",
    "FROM publishers\n",
    "LIMIT 5\n",
    "\n",
    "'''\n",
    "\n",
    "# вывод заголовка\n",
    "print(\"\\033[1;31mТаблица `publishers` - примеры строк:\\033[0m\")\n",
    "\n",
    "# вывод результата запроса\n",
    "display(def_get_sql(query))"
   ]
  },
  {
   "cell_type": "code",
   "execution_count": 9,
   "id": "a44147f9",
   "metadata": {},
   "outputs": [
    {
     "name": "stdout",
     "output_type": "stream",
     "text": [
      "\u001b[1;31mТаблица `publishers` - обзор данных:\u001b[0m\n",
      "В таблице представлено 340 издательств.\n"
     ]
    }
   ],
   "source": [
    "# создание SQL-запроса\n",
    "query = '''\n",
    "SELECT COUNT(publisher_id) AS count_publishers\n",
    "FROM publishers\n",
    "\n",
    "'''\n",
    "\n",
    "# получение результата запроса\n",
    "result = def_get_sql(query)['count_publishers'].values[0]\n",
    "\n",
    "\n",
    "# вывод заголовка\n",
    "print(\"\\033[1;31mТаблица `publishers` - обзор данных:\\033[0m\")\n",
    "\n",
    "# вывод результата запроса\n",
    "print(f\"В таблице представлено {result} издательств.\")"
   ]
  },
  {
   "cell_type": "code",
   "execution_count": 10,
   "id": "6c86cdaa",
   "metadata": {},
   "outputs": [
    {
     "name": "stdout",
     "output_type": "stream",
     "text": [
      "\u001b[1;31mТаблица `ratings` - примеры строк:\u001b[0m\n"
     ]
    },
    {
     "data": {
      "text/html": [
       "<div>\n",
       "<style scoped>\n",
       "    .dataframe tbody tr th:only-of-type {\n",
       "        vertical-align: middle;\n",
       "    }\n",
       "\n",
       "    .dataframe tbody tr th {\n",
       "        vertical-align: top;\n",
       "    }\n",
       "\n",
       "    .dataframe thead th {\n",
       "        text-align: right;\n",
       "    }\n",
       "</style>\n",
       "<table border=\"1\" class=\"dataframe\">\n",
       "  <thead>\n",
       "    <tr style=\"text-align: right;\">\n",
       "      <th></th>\n",
       "      <th>rating_id</th>\n",
       "      <th>book_id</th>\n",
       "      <th>username</th>\n",
       "      <th>rating</th>\n",
       "    </tr>\n",
       "  </thead>\n",
       "  <tbody>\n",
       "    <tr>\n",
       "      <th>0</th>\n",
       "      <td>1</td>\n",
       "      <td>1</td>\n",
       "      <td>ryanfranco</td>\n",
       "      <td>4</td>\n",
       "    </tr>\n",
       "    <tr>\n",
       "      <th>1</th>\n",
       "      <td>2</td>\n",
       "      <td>1</td>\n",
       "      <td>grantpatricia</td>\n",
       "      <td>2</td>\n",
       "    </tr>\n",
       "    <tr>\n",
       "      <th>2</th>\n",
       "      <td>3</td>\n",
       "      <td>1</td>\n",
       "      <td>brandtandrea</td>\n",
       "      <td>5</td>\n",
       "    </tr>\n",
       "    <tr>\n",
       "      <th>3</th>\n",
       "      <td>4</td>\n",
       "      <td>2</td>\n",
       "      <td>lorichen</td>\n",
       "      <td>3</td>\n",
       "    </tr>\n",
       "    <tr>\n",
       "      <th>4</th>\n",
       "      <td>5</td>\n",
       "      <td>2</td>\n",
       "      <td>mariokeller</td>\n",
       "      <td>2</td>\n",
       "    </tr>\n",
       "  </tbody>\n",
       "</table>\n",
       "</div>"
      ],
      "text/plain": [
       "   rating_id  book_id       username  rating\n",
       "0          1        1     ryanfranco       4\n",
       "1          2        1  grantpatricia       2\n",
       "2          3        1   brandtandrea       5\n",
       "3          4        2       lorichen       3\n",
       "4          5        2    mariokeller       2"
      ]
     },
     "metadata": {},
     "output_type": "display_data"
    }
   ],
   "source": [
    "# создание SQL-запроса\n",
    "query = '''\n",
    "SELECT *\n",
    "FROM ratings\n",
    "LIMIT 5\n",
    "\n",
    "'''\n",
    "\n",
    "# вывод заголовка\n",
    "print(\"\\033[1;31mТаблица `ratings` - примеры строк:\\033[0m\")\n",
    "\n",
    "# вывод результата запроса\n",
    "display(def_get_sql(query))"
   ]
  },
  {
   "cell_type": "code",
   "execution_count": 11,
   "id": "2fe32494",
   "metadata": {},
   "outputs": [
    {
     "name": "stdout",
     "output_type": "stream",
     "text": [
      "\u001b[1;31mТаблица `rating` - обзор данных:\u001b[0m\n",
      "В таблице `rating` представлена информация о 6456 оценках для 1000 книг от 160 пользователей.\n"
     ]
    }
   ],
   "source": [
    "# создание SQL-запроса\n",
    "query = '''\n",
    "SELECT COUNT(DISTINCT book_id) AS count_books,\n",
    "       COUNT(DISTINCT username) AS count_user,\n",
    "       COUNT(rating_id) as count_rating\n",
    "FROM ratings\n",
    "\n",
    "'''\n",
    "\n",
    "# получение результата запроса\n",
    "result = def_get_sql(query)\n",
    "\n",
    "# вывод заголовка\n",
    "print(\"\\033[1;31mТаблица `rating` - обзор данных:\\033[0m\")\n",
    "\n",
    "# вывод результата запроса\n",
    "print('В таблице `rating` представлена информация о',\n",
    "      result['count_rating'].values[0], 'оценках для',\n",
    "      result['count_books'].values[0], 'книг от',\n",
    "      result['count_user'].values[0], 'пользователей.'\n",
    "     )"
   ]
  },
  {
   "cell_type": "code",
   "execution_count": 12,
   "id": "d0c82623",
   "metadata": {},
   "outputs": [
    {
     "name": "stdout",
     "output_type": "stream",
     "text": [
      "\u001b[1;31mТаблица `reviews` - примеры строк:\u001b[0m\n"
     ]
    },
    {
     "data": {
      "text/html": [
       "<div>\n",
       "<style scoped>\n",
       "    .dataframe tbody tr th:only-of-type {\n",
       "        vertical-align: middle;\n",
       "    }\n",
       "\n",
       "    .dataframe tbody tr th {\n",
       "        vertical-align: top;\n",
       "    }\n",
       "\n",
       "    .dataframe thead th {\n",
       "        text-align: right;\n",
       "    }\n",
       "</style>\n",
       "<table border=\"1\" class=\"dataframe\">\n",
       "  <thead>\n",
       "    <tr style=\"text-align: right;\">\n",
       "      <th></th>\n",
       "      <th>review_id</th>\n",
       "      <th>book_id</th>\n",
       "      <th>username</th>\n",
       "      <th>text</th>\n",
       "    </tr>\n",
       "  </thead>\n",
       "  <tbody>\n",
       "    <tr>\n",
       "      <th>0</th>\n",
       "      <td>1</td>\n",
       "      <td>1</td>\n",
       "      <td>brandtandrea</td>\n",
       "      <td>Mention society tell send professor analysis. ...</td>\n",
       "    </tr>\n",
       "    <tr>\n",
       "      <th>1</th>\n",
       "      <td>2</td>\n",
       "      <td>1</td>\n",
       "      <td>ryanfranco</td>\n",
       "      <td>Foot glass pretty audience hit themselves. Amo...</td>\n",
       "    </tr>\n",
       "    <tr>\n",
       "      <th>2</th>\n",
       "      <td>3</td>\n",
       "      <td>2</td>\n",
       "      <td>lorichen</td>\n",
       "      <td>Listen treat keep worry. Miss husband tax but ...</td>\n",
       "    </tr>\n",
       "    <tr>\n",
       "      <th>3</th>\n",
       "      <td>4</td>\n",
       "      <td>3</td>\n",
       "      <td>johnsonamanda</td>\n",
       "      <td>Finally month interesting blue could nature cu...</td>\n",
       "    </tr>\n",
       "    <tr>\n",
       "      <th>4</th>\n",
       "      <td>5</td>\n",
       "      <td>3</td>\n",
       "      <td>scotttamara</td>\n",
       "      <td>Nation purpose heavy give wait song will. List...</td>\n",
       "    </tr>\n",
       "  </tbody>\n",
       "</table>\n",
       "</div>"
      ],
      "text/plain": [
       "   review_id  book_id       username  \\\n",
       "0          1        1   brandtandrea   \n",
       "1          2        1     ryanfranco   \n",
       "2          3        2       lorichen   \n",
       "3          4        3  johnsonamanda   \n",
       "4          5        3    scotttamara   \n",
       "\n",
       "                                                text  \n",
       "0  Mention society tell send professor analysis. ...  \n",
       "1  Foot glass pretty audience hit themselves. Amo...  \n",
       "2  Listen treat keep worry. Miss husband tax but ...  \n",
       "3  Finally month interesting blue could nature cu...  \n",
       "4  Nation purpose heavy give wait song will. List...  "
      ]
     },
     "metadata": {},
     "output_type": "display_data"
    }
   ],
   "source": [
    "# создание SQL-запроса\n",
    "query = '''\n",
    "SELECT *\n",
    "FROM reviews\n",
    "LIMIT 5\n",
    "\n",
    "'''\n",
    "\n",
    "# вывод заголовка\n",
    "print(\"\\033[1;31mТаблица `reviews` - примеры строк:\\033[0m\")\n",
    "\n",
    "# вывод результата запроса\n",
    "display(def_get_sql(query))"
   ]
  },
  {
   "cell_type": "code",
   "execution_count": 13,
   "id": "95b6b1cb",
   "metadata": {},
   "outputs": [
    {
     "name": "stdout",
     "output_type": "stream",
     "text": [
      "\u001b[1;31mТаблица `review` - обзор данных:\u001b[0m\n",
      "В таблице `review` представлена информация о 2793 обзорах для 994 книг от 160 пользователей.\n"
     ]
    }
   ],
   "source": [
    "# создание SQL-запроса\n",
    "query = '''\n",
    "SELECT COUNT(DISTINCT book_id) AS count_books,\n",
    "       COUNT(DISTINCT username) AS count_user,\n",
    "       COUNT(review_id) as count_review\n",
    "FROM reviews\n",
    "\n",
    "'''\n",
    "\n",
    "# получение результата запроса\n",
    "result = def_get_sql(query)\n",
    "\n",
    "# вывод заголовка\n",
    "print(\"\\033[1;31mТаблица `review` - обзор данных:\\033[0m\")\n",
    "\n",
    "# вывод результата запроса\n",
    "print('В таблице `review` представлена информация о',\n",
    "      result['count_review'].values[0], 'обзорах для',\n",
    "      result['count_books'].values[0], 'книг от',\n",
    "      result['count_user'].values[0], 'пользователей.'\n",
    "     )"
   ]
  },
  {
   "cell_type": "markdown",
   "id": "ee151930",
   "metadata": {},
   "source": [
    "<div style=\"border:solid green 2px; padding: 20px\">\n",
    "\n",
    "<b>ВЫВОДЫ по разделу</b><br><br>\n",
    "С помощью SQL-запросов к удалённой базе данных были получены 5 таблиц:\n",
    "\n",
    "    - `books`(содержит 1000 книг, 636 авторов и 340 издательств)\n",
    "    - `authors` (содержит 636 авторов)\n",
    "    - `publishers` (содержит 340 издательств)\n",
    "    - `ratings` (содержит информацию о 6456 оценках для 1000 книг от 160 пользователей)\n",
    "    - `review` (содержит 2793 обзора на 994 книги от 160 пользователей)\n",
    "    \n",
    "Для каждой таблицы были выведены первые 5 строк и общая количественная информация.\n",
    "    \n",
    "</div>"
   ]
  },
  {
   "cell_type": "markdown",
   "id": "2a8a51c9",
   "metadata": {},
   "source": [
    "## Получение необходимой информации (SQL-запросы)"
   ]
  },
  {
   "cell_type": "markdown",
   "id": "26e385ff",
   "metadata": {},
   "source": [
    "### Количество книг"
   ]
  },
  {
   "cell_type": "markdown",
   "id": "7b8d1787",
   "metadata": {},
   "source": [
    "Посчитаем, сколько книг вышло после 1 января 2000 года."
   ]
  },
  {
   "cell_type": "code",
   "execution_count": 14,
   "id": "2ca38d0f",
   "metadata": {},
   "outputs": [
    {
     "name": "stdout",
     "output_type": "stream",
     "text": [
      "После 1 января 2000 года вышла 821 книга.\n"
     ]
    }
   ],
   "source": [
    "# создание SQL-запроса\n",
    "query = '''\n",
    "SELECT\n",
    "     COUNT (*) AS books_2000\n",
    "FROM books\n",
    "WHERE publication_date >= '2000-01-01'\n",
    "\n",
    "'''\n",
    "\n",
    "# получение результата запроса\n",
    "result = def_get_sql(query)['books_2000'].values[0]\n",
    "\n",
    "# вывод результата запроса\n",
    "print(f\"После 1 января 2000 года вышла {result} книга.\")"
   ]
  },
  {
   "cell_type": "markdown",
   "id": "38b948f0",
   "metadata": {},
   "source": [
    "Больше 80% книг вышло за последний год (представленный в данных)."
   ]
  },
  {
   "cell_type": "markdown",
   "id": "46ec9378",
   "metadata": {},
   "source": [
    "### Количество обзоров и средняя оценка"
   ]
  },
  {
   "cell_type": "markdown",
   "id": "8dd53c2e",
   "metadata": {},
   "source": [
    "Для каждой книги посчитаем количество обзоров и среднюю оценку."
   ]
  },
  {
   "cell_type": "markdown",
   "id": "fb3c65c7",
   "metadata": {},
   "source": [
    "Сначала посчитаем обзоры."
   ]
  },
  {
   "cell_type": "code",
   "execution_count": 15,
   "id": "f293dad8",
   "metadata": {},
   "outputs": [
    {
     "name": "stdout",
     "output_type": "stream",
     "text": [
      "\u001b[1;31mКОЛИЧЕСТВО ОБЗОРОВ ДЛЯ КАЖДОЙ КНИГИ\n",
      "(вывод первых 5 строк)\u001b[0m\n"
     ]
    },
    {
     "data": {
      "text/html": [
       "<div>\n",
       "<style scoped>\n",
       "    .dataframe tbody tr th:only-of-type {\n",
       "        vertical-align: middle;\n",
       "    }\n",
       "\n",
       "    .dataframe tbody tr th {\n",
       "        vertical-align: top;\n",
       "    }\n",
       "\n",
       "    .dataframe thead th {\n",
       "        text-align: right;\n",
       "    }\n",
       "</style>\n",
       "<table border=\"1\" class=\"dataframe\">\n",
       "  <thead>\n",
       "    <tr style=\"text-align: right;\">\n",
       "      <th></th>\n",
       "      <th>book_id</th>\n",
       "      <th>title</th>\n",
       "      <th>count_review</th>\n",
       "      <th>avg_rating</th>\n",
       "    </tr>\n",
       "  </thead>\n",
       "  <tbody>\n",
       "    <tr>\n",
       "      <th>0</th>\n",
       "      <td>948</td>\n",
       "      <td>Twilight (Twilight  #1)</td>\n",
       "      <td>7</td>\n",
       "      <td>3.662500</td>\n",
       "    </tr>\n",
       "    <tr>\n",
       "      <th>1</th>\n",
       "      <td>963</td>\n",
       "      <td>Water for Elephants</td>\n",
       "      <td>6</td>\n",
       "      <td>3.977273</td>\n",
       "    </tr>\n",
       "    <tr>\n",
       "      <th>2</th>\n",
       "      <td>734</td>\n",
       "      <td>The Glass Castle</td>\n",
       "      <td>6</td>\n",
       "      <td>4.206897</td>\n",
       "    </tr>\n",
       "    <tr>\n",
       "      <th>3</th>\n",
       "      <td>302</td>\n",
       "      <td>Harry Potter and the Prisoner of Azkaban (Harr...</td>\n",
       "      <td>6</td>\n",
       "      <td>4.414634</td>\n",
       "    </tr>\n",
       "    <tr>\n",
       "      <th>4</th>\n",
       "      <td>695</td>\n",
       "      <td>The Curious Incident of the Dog in the Night-Time</td>\n",
       "      <td>6</td>\n",
       "      <td>4.081081</td>\n",
       "    </tr>\n",
       "  </tbody>\n",
       "</table>\n",
       "</div>"
      ],
      "text/plain": [
       "   book_id                                              title  count_review  \\\n",
       "0      948                            Twilight (Twilight  #1)             7   \n",
       "1      963                                Water for Elephants             6   \n",
       "2      734                                   The Glass Castle             6   \n",
       "3      302  Harry Potter and the Prisoner of Azkaban (Harr...             6   \n",
       "4      695  The Curious Incident of the Dog in the Night-Time             6   \n",
       "\n",
       "   avg_rating  \n",
       "0    3.662500  \n",
       "1    3.977273  \n",
       "2    4.206897  \n",
       "3    4.414634  \n",
       "4    4.081081  "
      ]
     },
     "metadata": {},
     "output_type": "display_data"
    },
    {
     "name": "stdout",
     "output_type": "stream",
     "text": [
      "\u001b[1;31mСРЕДНИЙ РЕЙТИНГ ДЛЯ КАЖДОЙ КНИГИ\n",
      "(вывод первых 5 строк)\u001b[0m\n"
     ]
    },
    {
     "data": {
      "text/html": [
       "<div>\n",
       "<style scoped>\n",
       "    .dataframe tbody tr th:only-of-type {\n",
       "        vertical-align: middle;\n",
       "    }\n",
       "\n",
       "    .dataframe tbody tr th {\n",
       "        vertical-align: top;\n",
       "    }\n",
       "\n",
       "    .dataframe thead th {\n",
       "        text-align: right;\n",
       "    }\n",
       "</style>\n",
       "<table border=\"1\" class=\"dataframe\">\n",
       "  <thead>\n",
       "    <tr style=\"text-align: right;\">\n",
       "      <th></th>\n",
       "      <th>book_id</th>\n",
       "      <th>title</th>\n",
       "      <th>count_review</th>\n",
       "      <th>avg_rating</th>\n",
       "    </tr>\n",
       "  </thead>\n",
       "  <tbody>\n",
       "    <tr>\n",
       "      <th>940</th>\n",
       "      <td>967</td>\n",
       "      <td>Welcome to Temptation (Dempseys  #1)</td>\n",
       "      <td>2</td>\n",
       "      <td>5.0</td>\n",
       "    </tr>\n",
       "    <tr>\n",
       "      <th>300</th>\n",
       "      <td>553</td>\n",
       "      <td>School's Out—Forever (Maximum Ride  #2)</td>\n",
       "      <td>3</td>\n",
       "      <td>5.0</td>\n",
       "    </tr>\n",
       "    <tr>\n",
       "      <th>943</th>\n",
       "      <td>972</td>\n",
       "      <td>Wherever You Go  There You Are: Mindfulness Me...</td>\n",
       "      <td>2</td>\n",
       "      <td>5.0</td>\n",
       "    </tr>\n",
       "    <tr>\n",
       "      <th>709</th>\n",
       "      <td>418</td>\n",
       "      <td>March</td>\n",
       "      <td>2</td>\n",
       "      <td>5.0</td>\n",
       "    </tr>\n",
       "    <tr>\n",
       "      <th>710</th>\n",
       "      <td>421</td>\n",
       "      <td>Marvel 1602</td>\n",
       "      <td>2</td>\n",
       "      <td>5.0</td>\n",
       "    </tr>\n",
       "  </tbody>\n",
       "</table>\n",
       "</div>"
      ],
      "text/plain": [
       "     book_id                                              title  count_review  \\\n",
       "940      967               Welcome to Temptation (Dempseys  #1)             2   \n",
       "300      553            School's Out—Forever (Maximum Ride  #2)             3   \n",
       "943      972  Wherever You Go  There You Are: Mindfulness Me...             2   \n",
       "709      418                                              March             2   \n",
       "710      421                                        Marvel 1602             2   \n",
       "\n",
       "     avg_rating  \n",
       "940         5.0  \n",
       "300         5.0  \n",
       "943         5.0  \n",
       "709         5.0  \n",
       "710         5.0  "
      ]
     },
     "metadata": {},
     "output_type": "display_data"
    },
    {
     "name": "stdout",
     "output_type": "stream",
     "text": [
      "Максимальный рейтинг `5.0` у 44 книг.\n"
     ]
    }
   ],
   "source": [
    "# создание SQL-запроса\n",
    "query = '''\n",
    "SELECT  b.book_id,\n",
    "        b.title,\n",
    "        COUNT (DISTINCT r.review_id) AS count_review,\n",
    "        AVG(rt.rating) AS avg_rating\n",
    "FROM  books b\n",
    "LEFT JOIN ratings rt ON b.book_id=rt.book_id\n",
    "LEFT JOIN reviews r ON b.book_id=r.book_id\n",
    "GROUP BY b.book_id, b.title\n",
    "ORDER BY count_review DESC\n",
    "\n",
    "'''\n",
    "\n",
    "# получение результата запроса\n",
    "result = def_get_sql(query)\n",
    "\n",
    "# вывод заголовка\n",
    "print(\"\\033[1;31mКОЛИЧЕСТВО ОБЗОРОВ ДЛЯ КАЖДОЙ КНИГИ\\n(вывод первых 5 строк)\\033[0m\")\n",
    "\n",
    "# вывод результата запроса\n",
    "display(result.head())\n",
    "\n",
    "\n",
    "# вывод заголовка\n",
    "print(\"\\033[1;31mСРЕДНИЙ РЕЙТИНГ ДЛЯ КАЖДОЙ КНИГИ\\n(вывод первых 5 строк)\\033[0m\")\n",
    "\n",
    "# вывод результата запроса\n",
    "display(result.sort_values(by='avg_rating', ascending=False).head())\n",
    "\n",
    "# вывод информации\n",
    "max_rating = result['avg_rating'].max()\n",
    "print(f\"Максимальный рейтинг `{max_rating}`\",\n",
    "      f\"у {len(result.query('avg_rating == @max_rating'))} книг.\")\n"
   ]
  },
  {
   "cell_type": "markdown",
   "id": "ca5af822",
   "metadata": {},
   "source": [
    "Максимальное колчиество обзоров (7) всего у одной книги: \"Twilight (Twilight #1)\". При этом, книга имеет только средний рейтинг (3.7).\n",
    "\n",
    "Из 1000 книг датасета 44 книги имеют максимальный рейтинг (5.0)."
   ]
  },
  {
   "cell_type": "markdown",
   "id": "3f06e260",
   "metadata": {},
   "source": [
    "### Топовое издательство"
   ]
  },
  {
   "cell_type": "markdown",
   "id": "3a7c28e8",
   "metadata": {},
   "source": [
    "Определим издательство, которое выпустило наибольшее число книг толще 50 страниц."
   ]
  },
  {
   "cell_type": "code",
   "execution_count": 16,
   "id": "2fc6e527",
   "metadata": {},
   "outputs": [
    {
     "name": "stdout",
     "output_type": "stream",
     "text": [
      "Больше всего книг толще 50 страниц выпустило издательство `Penguin Books` - 42 книги.\n"
     ]
    }
   ],
   "source": [
    "# создание SQL-запроса\n",
    "query = '''\n",
    "SELECT  p.publisher,\n",
    "        COUNT(*) AS count_book\n",
    "FROM  books b\n",
    "LEFT JOIN publishers p ON b.publisher_id=p.publisher_id\n",
    "WHERE b.num_pages>=50\n",
    "GROUP BY p.publisher_id, p.publisher\n",
    "ORDER BY count_book DESC\n",
    "LIMIT 1\n",
    "\n",
    "'''\n",
    "\n",
    "# получение результата запроса\n",
    "count_book = def_get_sql(query)['count_book'].values[0]\n",
    "publisher = def_get_sql(query)['publisher'].values[0]\n",
    "\n",
    "# вывод результата запроса\n",
    "print(f\"Больше всего книг толще 50 страниц выпустило издательство `{publisher}` - {count_book} книги.\")"
   ]
  },
  {
   "cell_type": "markdown",
   "id": "3fdd941c",
   "metadata": {},
   "source": [
    "Penguin Books — британское издательство, основанное в 1935 году."
   ]
  },
  {
   "cell_type": "markdown",
   "id": "68568a57",
   "metadata": {},
   "source": [
    "### Топовый автор"
   ]
  },
  {
   "cell_type": "markdown",
   "id": "e7678c3e",
   "metadata": {},
   "source": [
    "Определим автора с самой высокой средней оценкой книг для книг с 50 и более оценками."
   ]
  },
  {
   "cell_type": "code",
   "execution_count": 17,
   "id": "15be2295",
   "metadata": {},
   "outputs": [
    {
     "name": "stdout",
     "output_type": "stream",
     "text": [
      "Самая высокая средняя оценка (4.3) у `J.K. Rowling/Mary GrandPré`.\n"
     ]
    }
   ],
   "source": [
    "# создание SQL-запроса\n",
    "query = '''\n",
    "SELECT  a.author,\n",
    "        AVG(rt.rating) AS avg_rating\n",
    "FROM  books b\n",
    "LEFT JOIN authors a ON b.author_id=a.author_id\n",
    "LEFT JOIN ratings rt ON b.book_id=rt.book_id\n",
    "WHERE b.book_id in (\n",
    "    SELECT book_id\n",
    "    FROM ratings\n",
    "    GROUP BY book_id\n",
    "    HAVING COUNT(rating_id)>=50\n",
    "                   )\n",
    "GROUP BY a.author\n",
    "ORDER BY avg_rating DESC\n",
    "LIMIT 1\n",
    "\n",
    "'''\n",
    "\n",
    "# получение результата запроса\n",
    "avg_rating = round(def_get_sql(query)['avg_rating'].values[0], 1)\n",
    "author = def_get_sql(query)['author'].values[0]\n",
    "\n",
    "# вывод результата запроса\n",
    "print(f\"Самая высокая средняя оценка ({avg_rating}) у `{author}`.\")"
   ]
  },
  {
   "cell_type": "markdown",
   "id": "3143d4c3",
   "metadata": {},
   "source": [
    "Наибольшую среднюю оценку получила пара писатель-иллюстратор J.K. Rowling/Mary GrandPré.  \n",
    "Роулинг - автор серии книг про Гарри Поттера, а Мэри Гран-Пре иллюстрировала эти книги."
   ]
  },
  {
   "cell_type": "markdown",
   "id": "41b11ad2",
   "metadata": {},
   "source": [
    "### Среднее количество обзоров от пользователей"
   ]
  },
  {
   "cell_type": "markdown",
   "id": "f74ec3eb",
   "metadata": {},
   "source": [
    "Посчитаем среднее количество обзоров от пользователей, которые поставили больше 48 оценок."
   ]
  },
  {
   "cell_type": "code",
   "execution_count": 18,
   "id": "73a3b719",
   "metadata": {},
   "outputs": [
    {
     "name": "stdout",
     "output_type": "stream",
     "text": [
      "В среднем, пользователи поставившие более 48 оценок книгам и брошюрам, написали 24 обзора.\n"
     ]
    }
   ],
   "source": [
    "# создание SQL-запроса\n",
    "query = '''\n",
    "SELECT COUNT(DISTINCT re.text)/ COUNT(DISTINCT re.username) AS avg_rev\n",
    "FROM reviews AS re\n",
    "JOIN ratings AS r ON r.username = re.username\n",
    "WHERE re.username IN (\n",
    "    SELECT username\n",
    "    FROM ratings\n",
    "    GROUP BY username\n",
    "    HAVING COUNT (rating) > 48)\n",
    "\n",
    "'''\n",
    "\n",
    "# получение результата запроса\n",
    "result = def_get_sql(query)['avg_rev'].values[0]\n",
    "\n",
    "# вывод результата запроса\n",
    "print(f\"В среднем, пользователи поставившие более 48 оценок книгам и брошюрам, написали {result} обзора.\")"
   ]
  },
  {
   "cell_type": "markdown",
   "id": "14c78998",
   "metadata": {},
   "source": [
    "<div style=\"border:solid green 2px; padding: 20px\">\n",
    "\n",
    "<b>ВЫВОДЫ по разделу</b><br><br>\n",
    "       \n",
    "С помощью SQL-запросов к удалённой базе данных была получена следующая информация:\n",
    "\n",
    "(1) Определено количество книг, вышедших после 1 января 2020 года (821 книга).\n",
    "\n",
    "(2) Для каждой книги посчитаны количество обзоров - максимальное количество обзоров (7) у одной книги. Также для каждой книги посчитан средний рейтинг (44 книги с максимальным рейтингом \"5.0\")\n",
    "    \n",
    "(3) Определено топовое издательство, выпустившее максимальнео количество книг, толщиной более 50 страниц: \"Penguin Books\".\n",
    "    \n",
    "(4) Определён топовый автор (для книг с 50 и более оценками): Джоан Роулинг (автор серии книг про Гарри Поттера).\n",
    "    \n",
    "(5) Для пользователей, которые поставили более 48 оценок, посчитано среднее количество написанных ими обзоров: 24 обзора.\n",
    "    \n",
    "</div>"
   ]
  },
  {
   "cell_type": "markdown",
   "id": "9be50233",
   "metadata": {},
   "source": [
    "## Выводы"
   ]
  },
  {
   "cell_type": "markdown",
   "id": "a844545d",
   "metadata": {},
   "source": [
    "<div style=\"border:solid green 2px; padding: 20px\">\n",
    "\n",
    "<b>ВЫВОДЫ</b><br><br>\n",
    "    \n",
    "    \n",
    "В рамках данного исследования было выполнено подключение к удалённой базе данных с помощью SQL-запросов.\n",
    "\n",
    "    Сделан обзор отдельных таблиц базы данных:\n",
    "\n",
    "- `books`(содержит 1000 книг, 636 авторов и 340 издательств)\n",
    "- `authors` (содержит 636 авторов)\n",
    "- `publishers` (содержит 340 издательств)\n",
    "- `ratings` (содержит информацию о 6456 оценках для 1000 книг от 160 пользователей)\n",
    "- `review` (содержит 2793 обзора на 994 книги от 160 пользователей)\n",
    "Для каждой таблицы были выведены первые 5 строк и общая количественная информация.\n",
    "    \n",
    "    \n",
    "Далее с помощью SQL-запросов к удалённой базе данных была получена следующая информация:\n",
    "\n",
    "(1) Определено количество книг, вышедших после 1 января 2020 года (821 книга).\n",
    "\n",
    "(2) Для каждой книги посчитаны количество обзоров - максимальное количество обзоров (7) у одной книги. Также для каждой книги посчитан средний рейтинг (44 книги с максимальным рейтингом \"5.0\")\n",
    "    \n",
    "(3) Определено топовое издательство, выпустившее максимальнео количество книг, толщиной более 50 страниц: \"Penguin Books\".\n",
    "    \n",
    "(4) Определён топовый автор (для книг с 50 и более оценками): Джоан Роулинг (автор серии книг про Гарри Поттера).\n",
    "    \n",
    "(5) Для пользователей, которые поставили более 48 оценок, посчитано среднее количество написанных ими обзоров: 24 обзора.\n",
    "    \n",
    "</div>"
   ]
  }
 ],
 "metadata": {
  "ExecuteTimeLog": [
   {
    "duration": 495,
    "start_time": "2024-06-10T06:10:05.308Z"
   },
   {
    "duration": 6404,
    "start_time": "2024-06-10T06:10:05.805Z"
   },
   {
    "duration": 3,
    "start_time": "2024-06-10T06:10:12.210Z"
   },
   {
    "duration": 270,
    "start_time": "2024-06-10T06:10:12.214Z"
   },
   {
    "duration": 53,
    "start_time": "2024-06-10T06:10:12.486Z"
   },
   {
    "duration": 52,
    "start_time": "2024-06-10T06:10:12.540Z"
   },
   {
    "duration": 49,
    "start_time": "2024-06-10T06:10:12.594Z"
   },
   {
    "duration": 52,
    "start_time": "2024-06-10T06:10:12.644Z"
   },
   {
    "duration": 49,
    "start_time": "2024-06-10T06:10:12.698Z"
   },
   {
    "duration": 53,
    "start_time": "2024-06-10T06:10:12.750Z"
   },
   {
    "duration": 53,
    "start_time": "2024-06-10T06:10:12.805Z"
   },
   {
    "duration": 53,
    "start_time": "2024-06-10T06:10:12.859Z"
   },
   {
    "duration": 51,
    "start_time": "2024-06-10T06:10:12.913Z"
   },
   {
    "duration": 48,
    "start_time": "2024-06-10T06:10:12.966Z"
   },
   {
    "duration": 98,
    "start_time": "2024-06-10T06:10:13.016Z"
   },
   {
    "duration": 98,
    "start_time": "2024-06-10T06:10:13.115Z"
   },
   {
    "duration": 102,
    "start_time": "2024-06-10T06:10:13.215Z"
   },
   {
    "duration": 66,
    "start_time": "2024-06-10T06:10:13.319Z"
   },
   {
    "duration": 2,
    "start_time": "2024-06-10T06:10:13.387Z"
   },
   {
    "duration": 89,
    "start_time": "2024-06-10T06:12:17.325Z"
   }
  ],
  "hide_input": false,
  "kernelspec": {
   "display_name": "Python 3 (ipykernel)",
   "language": "python",
   "name": "python3"
  },
  "language_info": {
   "codemirror_mode": {
    "name": "ipython",
    "version": 3
   },
   "file_extension": ".py",
   "mimetype": "text/x-python",
   "name": "python",
   "nbconvert_exporter": "python",
   "pygments_lexer": "ipython3",
   "version": "3.9.12"
  },
  "toc": {
   "base_numbering": 1,
   "nav_menu": {},
   "number_sections": true,
   "sideBar": true,
   "skip_h1_title": true,
   "title_cell": "Table of Contents",
   "title_sidebar": "Contents",
   "toc_cell": false,
   "toc_position": {
    "height": "calc(100% - 180px)",
    "left": "10px",
    "top": "150px",
    "width": "165px"
   },
   "toc_section_display": true,
   "toc_window_display": true
  }
 },
 "nbformat": 4,
 "nbformat_minor": 5
}
